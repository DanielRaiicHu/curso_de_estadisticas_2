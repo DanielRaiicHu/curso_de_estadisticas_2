{
  "nbformat": 4,
  "nbformat_minor": 0,
  "metadata": {
    "colab": {
      "name": "Proyecto_final.ipynb",
      "provenance": [],
      "toc_visible": true
    },
    "kernelspec": {
      "display_name": "Python 3",
      "language": "python",
      "name": "python3"
    },
    "language_info": {
      "codemirror_mode": {
        "name": "ipython",
        "version": 3
      },
      "file_extension": ".py",
      "mimetype": "text/x-python",
      "name": "python",
      "nbconvert_exporter": "python",
      "pygments_lexer": "ipython3",
      "version": "3.6.5"
    }
  },
  "cells": [
    {
      "cell_type": "markdown",
      "source": [
        "<a href=\"https://colab.research.google.com/github/DanielRaiicHu/curso_de_estadisticas_2/blob/main/Proyecto_final.ipynb?forceRefresh=true\">\n",
        "  <img src=\"https://drive.google.com/uc?export=view&id=191Woxwut0iaIL2hCcCIeXRSB6oba_88H\" alt=\"Abrir en Colab\" width=\"120\"/>\n",
        "</a>"
      ],
      "metadata": {
        "id": "RvCtNuTn1yRy"
      }
    },
    {
      "cell_type": "markdown",
      "metadata": {
        "id": "WvMflodMjQKe"
      },
      "source": [
        "***\n",
        "# <font color=green size=10>CURSO DE ESTADÍSTICA - PARTE 2</font>\n",
        "***\n",
        "\n",
        "## Trabajo de Probabilidades, Muestreo y Estimación\n",
        "\n",
        "Utilizando los conocimientos adquiridos en nuestra formación, realice las siguientes tareas. Siga el guión propuesto y complete las celdas vacías."
      ]
    },
    {
      "cell_type": "markdown",
      "metadata": {
        "id": "cVgsZ_E3jQKg"
      },
      "source": [
        "# <font color=green>DATASET DEL PROYECTO</font>\n",
        "***"
      ]
    },
    {
      "cell_type": "markdown",
      "metadata": {
        "id": "iN1gIbaKjQKh"
      },
      "source": [
        "### Encuesta Nacional por Muestreo de Hogares - 2015\n",
        "\n",
        "La <b>Encuesta Nacional por Muestreo de Hogares</b> anualmente investiga, de manera permanente, características generales de la población, educación, trabajo, ingresos y vivienda y otras, con frecuencia variable, de acuerdo a las necesidades de información del país, tales como las características de migración, fecundidad, nupcialidad, salud, seguridad alimentaria, entre otros temas. La recopilación de estas estadísticas constituye, durante los 49 años de realización de la investigación, un importante instrumento para la formulación, validación y evaluación de políticas orientadas al desarrollo socioeconómico y la mejora de las condiciones de vida en Brasil."
      ]
    },
    {
      "cell_type": "markdown",
      "metadata": {
        "id": "U6V7br1RjQKi"
      },
      "source": [
        "### Fuente de los Datos\n",
        "\n",
        "Instituto Brasileño de Geografía y Estadística (IBGE) Encuesta Nacional por Muestreo de Hogares(PNAD) en el 2015"
      ]
    },
    {
      "cell_type": "markdown",
      "metadata": {
        "id": "r0Fe_qnzjQKj"
      },
      "source": [
        "### Variables utilizadas\n",
        "\n",
        "> ### Ingreso\n",
        "> ***\n",
        "\n",
        "Ingresos mensuales del trabajo principal para personas de 10 años y más.\n",
        "\n",
        "> ### Edad\n",
        "> ***\n",
        "\n",
        "Edad del residente en la fecha de referencia en años.\n",
        "\n",
        "> ### Altura (elaboración propia)\n",
        "> ***\n",
        "\n",
        "Altura del habitante en metros.\n",
        "\n",
        "> ### UF\n",
        "> ***\n",
        "Unidad Federal\n",
        "\n",
        "\n",
        "|Código|Descripción|\n",
        "|---|---|\n",
        "|11|Rondônia|\n",
        "|12|Acre|\n",
        "|13|Amazonas|\n",
        "|14|Roraima|\n",
        "|15|Pará|\n",
        "|16|Amapá|\n",
        "|17|Tocantins|\n",
        "|21|Maranhão|\n",
        "|22|Piauí|\n",
        "|23|Ceará|\n",
        "|24|Rio Grande do Norte|\n",
        "|25|Paraíba|\n",
        "|26|Pernambuco|\n",
        "|27|Alagoas|\n",
        "|28|Sergipe|\n",
        "|29|Bahia|\n",
        "|31|Minas Gerais|\n",
        "|32|Espírito Santo|\n",
        "|33|Rio de Janeiro|\n",
        "|35|São Paulo|\n",
        "|41|Paraná|\n",
        "|42|Santa Catarina|\n",
        "|43|Rio Grande do Sul|\n",
        "|50|Mato Grosso do Sul|\n",
        "|51|Mato Grosso|\n",
        "|52|Goiás|\n",
        "|53|Distrito Federal|\n",
        "\n",
        "> ### Sexo\n",
        "> ***\n",
        "\n",
        "|Código|Descripción|\n",
        "|---|---|\n",
        "|0|Masculino|\n",
        "|1|Femenino|\n",
        "\n",
        "> ### Años de Estudio\n",
        "> ***\n",
        "\n",
        "|Código|Descripción|\n",
        "|---|---|\n",
        "|1|Sin educación o menos de 1 año|\n",
        "|2|1 año|\n",
        "|3|2 años|\n",
        "|4|3 años|\n",
        "|5|4 años|\n",
        "|6|5 años|\n",
        "|7|6 años|\n",
        "|8|7 años|\n",
        "|9|8 años|\n",
        "|10|9 años|\n",
        "|11|10 años|\n",
        "|12|11 años|\n",
        "|13|12 años|\n",
        "|14|13 años|\n",
        "|15|14 años|\n",
        "|16|15 años o más|\n",
        "|17|No determinado|\n",
        "||No aplicable|\n",
        "\n",
        "> ### Color\n",
        "> ***\n",
        "\n",
        "|Código|Descripción|\n",
        "|---|---|\n",
        "|0|Indígena|\n",
        "|2|Blanco|\n",
        "|4|Negro|\n",
        "|6|Amarillo|\n",
        "|8|Pardo|\n",
        "|9|Sin declaración|"
      ]
    },
    {
      "cell_type": "markdown",
      "metadata": {
        "id": "OK1IQH5cX7Gb"
      },
      "source": [
        "#### <font color='red'>Nota</font>\n",
        "***\n",
        "> Se realizaron los siguientes tratamientos sobre los datos originales:\n",
        "> 1. Se eliminaron los registros en los que **Ingreso** no era válido. (999 999 999 999);\n",
        "> 2. Se eliminaron los registros en los que **Ingreso** eran missing;\n",
        "> 3. Solo se consideraron los registros de **Personas de Referencia** de cada hogar (responsable del hogar)."
      ]
    },
    {
      "cell_type": "markdown",
      "metadata": {
        "id": "ZIqLOffNTg1Y"
      },
      "source": [
        "***\n",
        "***"
      ]
    },
    {
      "cell_type": "markdown",
      "metadata": {
        "id": "8Rw70V6ojQKk"
      },
      "source": [
        "### Use la celda a continuación para importar las bibliotecas que necesita para realizar las tareas\n",
        "#### <font color='red'>Sugerencias: pandas, numpy, scipy etc.</font>"
      ]
    },
    {
      "cell_type": "code",
      "metadata": {
        "id": "fcTgimHBybMz"
      },
      "source": [
        "import pandas as pd\n",
        "import numpy as np\n",
        "import math\n",
        "from scipy.stats import binom\n",
        "from scipy.stats import poisson\n",
        "from scipy.stats import norm\n",
        "from scipy.special import comb\n"
      ],
      "execution_count": 255,
      "outputs": []
    },
    {
      "cell_type": "markdown",
      "metadata": {
        "id": "2a-gvBvCULwt"
      },
      "source": [
        "### Importe el dataset y almacenar el contenido en un DataFrame"
      ]
    },
    {
      "cell_type": "code",
      "metadata": {
        "id": "ufRZ7TLwjQKo",
        "colab": {
          "base_uri": "https://localhost:8080/"
        },
        "outputId": "fd974ba2-f118-47be-8504-922333645f33"
      },
      "source": [
        "from google.colab import drive\n",
        "drive.mount('/content/drive')"
      ],
      "execution_count": 256,
      "outputs": [
        {
          "output_type": "stream",
          "name": "stdout",
          "text": [
            "Drive already mounted at /content/drive; to attempt to forcibly remount, call drive.mount(\"/content/drive\", force_remount=True).\n"
          ]
        }
      ]
    },
    {
      "cell_type": "code",
      "source": [
        "datos = pd.read_csv('/content/drive/MyDrive/estadisticas_2/datos.csv', encoding ='latin-1')"
      ],
      "metadata": {
        "id": "undJj3N8O6Is"
      },
      "execution_count": 257,
      "outputs": []
    },
    {
      "cell_type": "markdown",
      "metadata": {
        "id": "Oq3CKHCmTg1j"
      },
      "source": [
        "### Ver el contenido del DataFrame"
      ]
    },
    {
      "cell_type": "code",
      "metadata": {
        "id": "GsC_WhLFjQKq",
        "scrolled": true,
        "colab": {
          "base_uri": "https://localhost:8080/",
          "height": 206
        },
        "outputId": "5ce2a130-abaf-49d8-8a39-1ee27254398d"
      },
      "source": [
        "datos.head()"
      ],
      "execution_count": 258,
      "outputs": [
        {
          "output_type": "execute_result",
          "data": {
            "text/plain": [
              "   Ciudad  Sexo  Edad  Color  Años de Estudio  Ingreso    Altura\n",
              "0      11     0    23      8               12      800  1.603808\n",
              "1      11     1    23      2               12     1150  1.739790\n",
              "2      11     1    35      8               15      880  1.760444\n",
              "3      11     0    46      2                6     3500  1.783158\n",
              "4      11     1    47      8                9      150  1.690631"
            ],
            "text/html": [
              "\n",
              "  <div id=\"df-ce7d4b6f-eada-4b41-832c-56b5c7ae6b0b\" class=\"colab-df-container\">\n",
              "    <div>\n",
              "<style scoped>\n",
              "    .dataframe tbody tr th:only-of-type {\n",
              "        vertical-align: middle;\n",
              "    }\n",
              "\n",
              "    .dataframe tbody tr th {\n",
              "        vertical-align: top;\n",
              "    }\n",
              "\n",
              "    .dataframe thead th {\n",
              "        text-align: right;\n",
              "    }\n",
              "</style>\n",
              "<table border=\"1\" class=\"dataframe\">\n",
              "  <thead>\n",
              "    <tr style=\"text-align: right;\">\n",
              "      <th></th>\n",
              "      <th>Ciudad</th>\n",
              "      <th>Sexo</th>\n",
              "      <th>Edad</th>\n",
              "      <th>Color</th>\n",
              "      <th>Años de Estudio</th>\n",
              "      <th>Ingreso</th>\n",
              "      <th>Altura</th>\n",
              "    </tr>\n",
              "  </thead>\n",
              "  <tbody>\n",
              "    <tr>\n",
              "      <th>0</th>\n",
              "      <td>11</td>\n",
              "      <td>0</td>\n",
              "      <td>23</td>\n",
              "      <td>8</td>\n",
              "      <td>12</td>\n",
              "      <td>800</td>\n",
              "      <td>1.603808</td>\n",
              "    </tr>\n",
              "    <tr>\n",
              "      <th>1</th>\n",
              "      <td>11</td>\n",
              "      <td>1</td>\n",
              "      <td>23</td>\n",
              "      <td>2</td>\n",
              "      <td>12</td>\n",
              "      <td>1150</td>\n",
              "      <td>1.739790</td>\n",
              "    </tr>\n",
              "    <tr>\n",
              "      <th>2</th>\n",
              "      <td>11</td>\n",
              "      <td>1</td>\n",
              "      <td>35</td>\n",
              "      <td>8</td>\n",
              "      <td>15</td>\n",
              "      <td>880</td>\n",
              "      <td>1.760444</td>\n",
              "    </tr>\n",
              "    <tr>\n",
              "      <th>3</th>\n",
              "      <td>11</td>\n",
              "      <td>0</td>\n",
              "      <td>46</td>\n",
              "      <td>2</td>\n",
              "      <td>6</td>\n",
              "      <td>3500</td>\n",
              "      <td>1.783158</td>\n",
              "    </tr>\n",
              "    <tr>\n",
              "      <th>4</th>\n",
              "      <td>11</td>\n",
              "      <td>1</td>\n",
              "      <td>47</td>\n",
              "      <td>8</td>\n",
              "      <td>9</td>\n",
              "      <td>150</td>\n",
              "      <td>1.690631</td>\n",
              "    </tr>\n",
              "  </tbody>\n",
              "</table>\n",
              "</div>\n",
              "    <div class=\"colab-df-buttons\">\n",
              "\n",
              "  <div class=\"colab-df-container\">\n",
              "    <button class=\"colab-df-convert\" onclick=\"convertToInteractive('df-ce7d4b6f-eada-4b41-832c-56b5c7ae6b0b')\"\n",
              "            title=\"Convert this dataframe to an interactive table.\"\n",
              "            style=\"display:none;\">\n",
              "\n",
              "  <svg xmlns=\"http://www.w3.org/2000/svg\" height=\"24px\" viewBox=\"0 -960 960 960\">\n",
              "    <path d=\"M120-120v-720h720v720H120Zm60-500h600v-160H180v160Zm220 220h160v-160H400v160Zm0 220h160v-160H400v160ZM180-400h160v-160H180v160Zm440 0h160v-160H620v160ZM180-180h160v-160H180v160Zm440 0h160v-160H620v160Z\"/>\n",
              "  </svg>\n",
              "    </button>\n",
              "\n",
              "  <style>\n",
              "    .colab-df-container {\n",
              "      display:flex;\n",
              "      gap: 12px;\n",
              "    }\n",
              "\n",
              "    .colab-df-convert {\n",
              "      background-color: #E8F0FE;\n",
              "      border: none;\n",
              "      border-radius: 50%;\n",
              "      cursor: pointer;\n",
              "      display: none;\n",
              "      fill: #1967D2;\n",
              "      height: 32px;\n",
              "      padding: 0 0 0 0;\n",
              "      width: 32px;\n",
              "    }\n",
              "\n",
              "    .colab-df-convert:hover {\n",
              "      background-color: #E2EBFA;\n",
              "      box-shadow: 0px 1px 2px rgba(60, 64, 67, 0.3), 0px 1px 3px 1px rgba(60, 64, 67, 0.15);\n",
              "      fill: #174EA6;\n",
              "    }\n",
              "\n",
              "    .colab-df-buttons div {\n",
              "      margin-bottom: 4px;\n",
              "    }\n",
              "\n",
              "    [theme=dark] .colab-df-convert {\n",
              "      background-color: #3B4455;\n",
              "      fill: #D2E3FC;\n",
              "    }\n",
              "\n",
              "    [theme=dark] .colab-df-convert:hover {\n",
              "      background-color: #434B5C;\n",
              "      box-shadow: 0px 1px 3px 1px rgba(0, 0, 0, 0.15);\n",
              "      filter: drop-shadow(0px 1px 2px rgba(0, 0, 0, 0.3));\n",
              "      fill: #FFFFFF;\n",
              "    }\n",
              "  </style>\n",
              "\n",
              "    <script>\n",
              "      const buttonEl =\n",
              "        document.querySelector('#df-ce7d4b6f-eada-4b41-832c-56b5c7ae6b0b button.colab-df-convert');\n",
              "      buttonEl.style.display =\n",
              "        google.colab.kernel.accessAllowed ? 'block' : 'none';\n",
              "\n",
              "      async function convertToInteractive(key) {\n",
              "        const element = document.querySelector('#df-ce7d4b6f-eada-4b41-832c-56b5c7ae6b0b');\n",
              "        const dataTable =\n",
              "          await google.colab.kernel.invokeFunction('convertToInteractive',\n",
              "                                                    [key], {});\n",
              "        if (!dataTable) return;\n",
              "\n",
              "        const docLinkHtml = 'Like what you see? Visit the ' +\n",
              "          '<a target=\"_blank\" href=https://colab.research.google.com/notebooks/data_table.ipynb>data table notebook</a>'\n",
              "          + ' to learn more about interactive tables.';\n",
              "        element.innerHTML = '';\n",
              "        dataTable['output_type'] = 'display_data';\n",
              "        await google.colab.output.renderOutput(dataTable, element);\n",
              "        const docLink = document.createElement('div');\n",
              "        docLink.innerHTML = docLinkHtml;\n",
              "        element.appendChild(docLink);\n",
              "      }\n",
              "    </script>\n",
              "  </div>\n",
              "\n",
              "\n",
              "    <div id=\"df-7d9dc1da-6a28-410e-a5b4-c882ea22059a\">\n",
              "      <button class=\"colab-df-quickchart\" onclick=\"quickchart('df-7d9dc1da-6a28-410e-a5b4-c882ea22059a')\"\n",
              "                title=\"Suggest charts\"\n",
              "                style=\"display:none;\">\n",
              "\n",
              "<svg xmlns=\"http://www.w3.org/2000/svg\" height=\"24px\"viewBox=\"0 0 24 24\"\n",
              "     width=\"24px\">\n",
              "    <g>\n",
              "        <path d=\"M19 3H5c-1.1 0-2 .9-2 2v14c0 1.1.9 2 2 2h14c1.1 0 2-.9 2-2V5c0-1.1-.9-2-2-2zM9 17H7v-7h2v7zm4 0h-2V7h2v10zm4 0h-2v-4h2v4z\"/>\n",
              "    </g>\n",
              "</svg>\n",
              "      </button>\n",
              "\n",
              "<style>\n",
              "  .colab-df-quickchart {\n",
              "      --bg-color: #E8F0FE;\n",
              "      --fill-color: #1967D2;\n",
              "      --hover-bg-color: #E2EBFA;\n",
              "      --hover-fill-color: #174EA6;\n",
              "      --disabled-fill-color: #AAA;\n",
              "      --disabled-bg-color: #DDD;\n",
              "  }\n",
              "\n",
              "  [theme=dark] .colab-df-quickchart {\n",
              "      --bg-color: #3B4455;\n",
              "      --fill-color: #D2E3FC;\n",
              "      --hover-bg-color: #434B5C;\n",
              "      --hover-fill-color: #FFFFFF;\n",
              "      --disabled-bg-color: #3B4455;\n",
              "      --disabled-fill-color: #666;\n",
              "  }\n",
              "\n",
              "  .colab-df-quickchart {\n",
              "    background-color: var(--bg-color);\n",
              "    border: none;\n",
              "    border-radius: 50%;\n",
              "    cursor: pointer;\n",
              "    display: none;\n",
              "    fill: var(--fill-color);\n",
              "    height: 32px;\n",
              "    padding: 0;\n",
              "    width: 32px;\n",
              "  }\n",
              "\n",
              "  .colab-df-quickchart:hover {\n",
              "    background-color: var(--hover-bg-color);\n",
              "    box-shadow: 0 1px 2px rgba(60, 64, 67, 0.3), 0 1px 3px 1px rgba(60, 64, 67, 0.15);\n",
              "    fill: var(--button-hover-fill-color);\n",
              "  }\n",
              "\n",
              "  .colab-df-quickchart-complete:disabled,\n",
              "  .colab-df-quickchart-complete:disabled:hover {\n",
              "    background-color: var(--disabled-bg-color);\n",
              "    fill: var(--disabled-fill-color);\n",
              "    box-shadow: none;\n",
              "  }\n",
              "\n",
              "  .colab-df-spinner {\n",
              "    border: 2px solid var(--fill-color);\n",
              "    border-color: transparent;\n",
              "    border-bottom-color: var(--fill-color);\n",
              "    animation:\n",
              "      spin 1s steps(1) infinite;\n",
              "  }\n",
              "\n",
              "  @keyframes spin {\n",
              "    0% {\n",
              "      border-color: transparent;\n",
              "      border-bottom-color: var(--fill-color);\n",
              "      border-left-color: var(--fill-color);\n",
              "    }\n",
              "    20% {\n",
              "      border-color: transparent;\n",
              "      border-left-color: var(--fill-color);\n",
              "      border-top-color: var(--fill-color);\n",
              "    }\n",
              "    30% {\n",
              "      border-color: transparent;\n",
              "      border-left-color: var(--fill-color);\n",
              "      border-top-color: var(--fill-color);\n",
              "      border-right-color: var(--fill-color);\n",
              "    }\n",
              "    40% {\n",
              "      border-color: transparent;\n",
              "      border-right-color: var(--fill-color);\n",
              "      border-top-color: var(--fill-color);\n",
              "    }\n",
              "    60% {\n",
              "      border-color: transparent;\n",
              "      border-right-color: var(--fill-color);\n",
              "    }\n",
              "    80% {\n",
              "      border-color: transparent;\n",
              "      border-right-color: var(--fill-color);\n",
              "      border-bottom-color: var(--fill-color);\n",
              "    }\n",
              "    90% {\n",
              "      border-color: transparent;\n",
              "      border-bottom-color: var(--fill-color);\n",
              "    }\n",
              "  }\n",
              "</style>\n",
              "\n",
              "      <script>\n",
              "        async function quickchart(key) {\n",
              "          const quickchartButtonEl =\n",
              "            document.querySelector('#' + key + ' button');\n",
              "          quickchartButtonEl.disabled = true;  // To prevent multiple clicks.\n",
              "          quickchartButtonEl.classList.add('colab-df-spinner');\n",
              "          try {\n",
              "            const charts = await google.colab.kernel.invokeFunction(\n",
              "                'suggestCharts', [key], {});\n",
              "          } catch (error) {\n",
              "            console.error('Error during call to suggestCharts:', error);\n",
              "          }\n",
              "          quickchartButtonEl.classList.remove('colab-df-spinner');\n",
              "          quickchartButtonEl.classList.add('colab-df-quickchart-complete');\n",
              "        }\n",
              "        (() => {\n",
              "          let quickchartButtonEl =\n",
              "            document.querySelector('#df-7d9dc1da-6a28-410e-a5b4-c882ea22059a button');\n",
              "          quickchartButtonEl.style.display =\n",
              "            google.colab.kernel.accessAllowed ? 'block' : 'none';\n",
              "        })();\n",
              "      </script>\n",
              "    </div>\n",
              "\n",
              "    </div>\n",
              "  </div>\n"
            ],
            "application/vnd.google.colaboratory.intrinsic+json": {
              "type": "dataframe",
              "variable_name": "datos",
              "summary": "{\n  \"name\": \"datos\",\n  \"rows\": 76840,\n  \"fields\": [\n    {\n      \"column\": \"Ciudad\",\n      \"properties\": {\n        \"dtype\": \"number\",\n        \"std\": 11,\n        \"min\": 11,\n        \"max\": 53,\n        \"num_unique_values\": 27,\n        \"samples\": [\n          22,\n          27,\n          23\n        ],\n        \"semantic_type\": \"\",\n        \"description\": \"\"\n      }\n    },\n    {\n      \"column\": \"Sexo\",\n      \"properties\": {\n        \"dtype\": \"number\",\n        \"std\": 0,\n        \"min\": 0,\n        \"max\": 1,\n        \"num_unique_values\": 2,\n        \"samples\": [\n          1,\n          0\n        ],\n        \"semantic_type\": \"\",\n        \"description\": \"\"\n      }\n    },\n    {\n      \"column\": \"Edad\",\n      \"properties\": {\n        \"dtype\": \"number\",\n        \"std\": 12,\n        \"min\": 13,\n        \"max\": 99,\n        \"num_unique_values\": 84,\n        \"samples\": [\n          88,\n          23\n        ],\n        \"semantic_type\": \"\",\n        \"description\": \"\"\n      }\n    },\n    {\n      \"column\": \"Color\",\n      \"properties\": {\n        \"dtype\": \"number\",\n        \"std\": 2,\n        \"min\": 0,\n        \"max\": 8,\n        \"num_unique_values\": 5,\n        \"samples\": [\n          2,\n          0\n        ],\n        \"semantic_type\": \"\",\n        \"description\": \"\"\n      }\n    },\n    {\n      \"column\": \"A\\u00f1os de Estudio\",\n      \"properties\": {\n        \"dtype\": \"number\",\n        \"std\": 4,\n        \"min\": 1,\n        \"max\": 17,\n        \"num_unique_values\": 17,\n        \"samples\": [\n          12,\n          15\n        ],\n        \"semantic_type\": \"\",\n        \"description\": \"\"\n      }\n    },\n    {\n      \"column\": \"Ingreso\",\n      \"properties\": {\n        \"dtype\": \"number\",\n        \"std\": 3323,\n        \"min\": 0,\n        \"max\": 200000,\n        \"num_unique_values\": 1606,\n        \"samples\": [\n          3279,\n          2456\n        ],\n        \"semantic_type\": \"\",\n        \"description\": \"\"\n      }\n    },\n    {\n      \"column\": \"Altura\",\n      \"properties\": {\n        \"dtype\": \"number\",\n        \"std\": 0.07971743006825309,\n        \"min\": 1.339244614,\n        \"max\": 2.028496765,\n        \"num_unique_values\": 76831,\n        \"samples\": [\n          1.616531581,\n          1.799777606\n        ],\n        \"semantic_type\": \"\",\n        \"description\": \"\"\n      }\n    }\n  ]\n}"
            }
          },
          "metadata": {},
          "execution_count": 258
        }
      ]
    },
    {
      "cell_type": "markdown",
      "metadata": {
        "id": "1ldnLTqK5bl_"
      },
      "source": [
        "# <font color='green'>Problema A</font>"
      ]
    },
    {
      "cell_type": "markdown",
      "metadata": {
        "id": "9eJMw-Uq5bmA"
      },
      "source": [
        "Al evaluar nuestro conjunto de datos, es posible verificar que la **proporción de hombres** como jefes de hogar es casi del **70%**. Necesitamos **seleccionar al azar grupos de 10 individuos** para verificar las diferencias entre las ganancias en cada grupo. ¿Cuál es la **probabilidad de seleccionar un grupo que presente la misma proporción de la población**, es decir, seleccionar un grupo que esté **compuesto por 7 hombres y 3 mujeres**?\n",
        "\n",
        "#### <font color='skyblue'>Como tarea adicional, verifique la proporción real de hombres y mujeres en nuestro conjunto de datos (vimos cómo hacer esto en nuestro primer curso de estadística).</font>\n",
        "\n",
        "#### <font color='red'>Compruebe qué tipo de distribución de probabilidad se ajusta a este experimento.</font>"
      ]
    },
    {
      "cell_type": "markdown",
      "metadata": {
        "id": "VoF00gKM5bmB"
      },
      "source": [
        "### Solución"
      ]
    },
    {
      "cell_type": "markdown",
      "metadata": {
        "id": "tThGyLPR5uTp"
      },
      "source": [
        "## Total de eventos que se desea obtener éxito (k)"
      ]
    },
    {
      "cell_type": "code",
      "metadata": {
        "id": "wkJ0oeqV5bmB"
      },
      "source": [
        "# queremos exactamente 7 hombres\n",
        "k = 7"
      ],
      "execution_count": 259,
      "outputs": []
    },
    {
      "cell_type": "markdown",
      "metadata": {
        "id": "-uE4mK1D54et"
      },
      "source": [
        "## Total de ensayos"
      ]
    },
    {
      "cell_type": "code",
      "metadata": {
        "id": "xGJ-k-ol5bmD"
      },
      "source": [
        "# número de personas\n",
        "n = 10"
      ],
      "execution_count": 260,
      "outputs": []
    },
    {
      "cell_type": "markdown",
      "metadata": {
        "id": "fMpuX6Hw586s"
      },
      "source": [
        "## Probabilidad de éxito"
      ]
    },
    {
      "cell_type": "code",
      "metadata": {
        "id": "LA0ONe0x5bmD"
      },
      "source": [
        "# probabilidad de que sea hombre\n",
        "p = 0.7"
      ],
      "execution_count": 261,
      "outputs": []
    },
    {
      "cell_type": "markdown",
      "metadata": {
        "id": "KdJV-uFu6KbN"
      },
      "source": [
        "## Solución"
      ]
    },
    {
      "cell_type": "code",
      "metadata": {
        "id": "KnDxQDwf5bmE",
        "colab": {
          "base_uri": "https://localhost:8080/"
        },
        "outputId": "77731364-5e7a-4aa2-df21-08d7328fcdfb"
      },
      "source": [
        "# Calcula la probabilidad de que un equipo tenga exactamente 7 hombres\n",
        "probabilidad = binom.pmf(k, n, p)\n",
        "print(f'La probabilidad de que al escoger un grupo sea de 7 hombres y 3 mujeres es de {probabilidad:.2%}')"
      ],
      "execution_count": 262,
      "outputs": [
        {
          "output_type": "stream",
          "name": "stdout",
          "text": [
            "La probabilidad de que al escoger un grupo sea de 7 hombres y 3 mujeres es de 26.68%\n"
          ]
        }
      ]
    },
    {
      "cell_type": "code",
      "source": [
        "# Contamos cuántos hombres y mujeres hay\n",
        "conteo_genero = datos['Sexo'].value_counts(normalize=True)\n",
        "\n",
        "# Mostramos la proporción (en porcentaje)\n",
        "print(conteo_genero * 100)\n"
      ],
      "metadata": {
        "colab": {
          "base_uri": "https://localhost:8080/"
        },
        "id": "UlH79J7nRKVV",
        "outputId": "18a2dc78-582a-458b-c527-3741ec85adbf"
      },
      "execution_count": 263,
      "outputs": [
        {
          "output_type": "stream",
          "name": "stdout",
          "text": [
            "Sexo\n",
            "0    69.299844\n",
            "1    30.700156\n",
            "Name: proportion, dtype: float64\n"
          ]
        }
      ]
    },
    {
      "cell_type": "markdown",
      "metadata": {
        "id": "jWAVajbA5bmF"
      },
      "source": [
        "# <font color='green'>Problema B</font>"
      ]
    },
    {
      "cell_type": "markdown",
      "metadata": {
        "id": "jUgWC4SL5bmF"
      },
      "source": [
        "Aún en la pregunta anterior, **¿cuántos grupos de 10 individuos** tendríamos que seleccionar, al azar, para obtener **100 grupos formados por 7 hombres y 3 mujeres**?\n",
        "\n",
        "#### <font color='red'>Recuerde la forma de promediar una distribución binomial</font>"
      ]
    },
    {
      "cell_type": "markdown",
      "metadata": {
        "id": "Yrlo-xM95bmF"
      },
      "source": [
        "### Solución"
      ]
    },
    {
      "cell_type": "markdown",
      "metadata": {
        "id": "-i4MbQez5bmH"
      },
      "source": [
        "### Media de la distribución binomial\n",
        "\n",
        "# $$\\mu=nXp$$"
      ]
    },
    {
      "cell_type": "code",
      "source": [
        "# media = n * p\n",
        "# n = media /\n",
        "from scipy.stats import binom\n",
        "\n",
        "# Número de éxitos deseados en cada grupo (7 hombres)\n",
        "k = 7\n",
        "\n",
        "# Tamaño del grupo (10 personas por grupo)\n",
        "n = 10\n",
        "\n",
        "# Probabilidad de que una persona seleccionada sea hombre (70%)\n",
        "p = 0.7\n",
        "\n",
        "# Calculamos la probabilidad de que un grupo tenga exactamente 7 hombres\n",
        "probabilidad = binom.pmf(k, n, p)\n",
        "\n",
        "# Queremos formar 100 grupos exitosos\n",
        "media_deseada = 100\n",
        "\n",
        "# Calculamos cuántos grupos deberíamos formar para tener en promedio 100 grupos exitosos\n",
        "grupos_necesarios = media_deseada / probabilidad\n",
        "\n",
        "# Mostramos el resultado, redondeado al entero más cercano\n",
        "print(f'Necesitamos realizar este proceso {int(grupos_necesarios.round())} veces para tener en media 100 grupos con estas caracteríasticas.')"
      ],
      "metadata": {
        "colab": {
          "base_uri": "https://localhost:8080/"
        },
        "id": "2wK1xlXCYxOz",
        "outputId": "24a04856-f29b-4071-e3f5-433c42d58371"
      },
      "execution_count": 264,
      "outputs": [
        {
          "output_type": "stream",
          "name": "stdout",
          "text": [
            "Necesitamos realizar este proceso 375 veces para tener en media 100 grupos con estas caracteríasticas.\n"
          ]
        }
      ]
    },
    {
      "cell_type": "markdown",
      "metadata": {
        "id": "SSzr48r-5bmJ"
      },
      "source": [
        "# <font color='green'>Problema C</font>"
      ]
    },
    {
      "cell_type": "markdown",
      "metadata": {
        "id": "PgDFt-K25bmJ"
      },
      "source": [
        "Un cliente nos encargó la realización de un estudio para evaluar **los ingresos de los jefes de hogar en Brasil**. Para eso, necesitamos realizar una nueva recolección de datos, es decir, una nueva investigación de campo. Después de reunirse con el cliente, fue posible enumerar el siguiente conjunto de informaciones:\n",
        "\n",
        "> A. El resultado de la búsqueda debe estar listo en **2 meses**;\n",
        "\n",
        "> B. Solo tendremos **R$\\$$ 150.000,00** de fondos para realizar la investigación de campo; y\n",
        "    \n",
        "> C. Sería interesante tener un **margen de error que no supere el 10% en relación a la media estimada**.\n",
        "\n",
        "En nuestra experiencia con estudios de este tipo, sabemos que el **costo promedio por entrevistado ronda los R$\\$$ 100,00**. Con este conjunto de hechos, evalúe y obtenga el siguiente conjunto de información para transmitir al cliente:\n",
        "\n",
        "> 1. Para obtener una estimación de los parámetros de la población (ingresos de los jefes de hogar en Brasil), realice un muestreo aleatorio simple en nuestro conjunto de datos. Esta muestra debe contener 200 elementos (use random_state = 101 para asegurarse de que se pueda volver a realizar el mismo experimento). Obtenga la media y la desviación estándar de esta muestra.\n",
        "\n",
        "> 2. Para el **margen de error** especificado por el cliente, obtenga los **tamaños de muestra** necesarios para garantizar **niveles de confianza del 90%, 95% y 99%**.\n",
        "    \n",
        "> 3. Obtenga el **costo de la encuesta** para los tres niveles de confianza.\n",
        "    \n",
        "> 4. Para obtener el nivel más alto de confianza viable (dentro del presupuesto disponible), obtenga un **intervalo de confianza para el promedio de la población**.\n",
        "    \n",
        "> 5. Suponiendo el **nivel de confianza elegido en el ítem anterior**, ¿qué **margen de error** se puede considerar utilizando todos los recursos proporcionados por el cliente?\n",
        "    \n",
        "> 6. Suponiendo un **nivel de confianza del 95%**, **¿cuánto costaría la encuesta al cliente** si se considerara un **margen de error de solo el 5%** en relación con el promedio estimado?\n"
      ]
    },
    {
      "cell_type": "markdown",
      "metadata": {
        "id": "RT-FPHm85bmK"
      },
      "source": [
        "# <font color='blue'>Solución del punto 1</font>"
      ]
    },
    {
      "cell_type": "markdown",
      "metadata": {
        "id": "wxw7HmVp5bmL"
      },
      "source": [
        "### Selección de una muestra aleatoria simple\n",
        "\n",
        "#### <font color='red'>Recuerde usar *random_state = 101*</font>"
      ]
    },
    {
      "cell_type": "code",
      "metadata": {
        "id": "oHD_J1lt5bmL"
      },
      "source": [
        "# Selección de una muestra aleatoria simple de 200 registros desde la columna 'Ingreso'\n",
        "# random_state=101 asegura que los resultados sean reproducibles\n",
        "dataset = datos.Ingreso.sample(n = 200, random_state=101)"
      ],
      "execution_count": 265,
      "outputs": []
    },
    {
      "cell_type": "code",
      "source": [
        "# Visualizamos la muestra seleccionada para confirmar su contenido\n",
        "dataset"
      ],
      "metadata": {
        "colab": {
          "base_uri": "https://localhost:8080/",
          "height": 458
        },
        "id": "W_lt_LzWjoVw",
        "outputId": "2afeb794-bad7-4453-de56-a39fa667be63"
      },
      "execution_count": 266,
      "outputs": [
        {
          "output_type": "execute_result",
          "data": {
            "text/plain": [
              "29042     480\n",
              "62672     250\n",
              "29973     788\n",
              "22428    1680\n",
              "55145    2500\n",
              "         ... \n",
              "50497    3400\n",
              "3668      780\n",
              "4872     1000\n",
              "38670    1000\n",
              "71730     600\n",
              "Name: Ingreso, Length: 200, dtype: int64"
            ],
            "text/html": [
              "<div>\n",
              "<style scoped>\n",
              "    .dataframe tbody tr th:only-of-type {\n",
              "        vertical-align: middle;\n",
              "    }\n",
              "\n",
              "    .dataframe tbody tr th {\n",
              "        vertical-align: top;\n",
              "    }\n",
              "\n",
              "    .dataframe thead th {\n",
              "        text-align: right;\n",
              "    }\n",
              "</style>\n",
              "<table border=\"1\" class=\"dataframe\">\n",
              "  <thead>\n",
              "    <tr style=\"text-align: right;\">\n",
              "      <th></th>\n",
              "      <th>Ingreso</th>\n",
              "    </tr>\n",
              "  </thead>\n",
              "  <tbody>\n",
              "    <tr>\n",
              "      <th>29042</th>\n",
              "      <td>480</td>\n",
              "    </tr>\n",
              "    <tr>\n",
              "      <th>62672</th>\n",
              "      <td>250</td>\n",
              "    </tr>\n",
              "    <tr>\n",
              "      <th>29973</th>\n",
              "      <td>788</td>\n",
              "    </tr>\n",
              "    <tr>\n",
              "      <th>22428</th>\n",
              "      <td>1680</td>\n",
              "    </tr>\n",
              "    <tr>\n",
              "      <th>55145</th>\n",
              "      <td>2500</td>\n",
              "    </tr>\n",
              "    <tr>\n",
              "      <th>...</th>\n",
              "      <td>...</td>\n",
              "    </tr>\n",
              "    <tr>\n",
              "      <th>50497</th>\n",
              "      <td>3400</td>\n",
              "    </tr>\n",
              "    <tr>\n",
              "      <th>3668</th>\n",
              "      <td>780</td>\n",
              "    </tr>\n",
              "    <tr>\n",
              "      <th>4872</th>\n",
              "      <td>1000</td>\n",
              "    </tr>\n",
              "    <tr>\n",
              "      <th>38670</th>\n",
              "      <td>1000</td>\n",
              "    </tr>\n",
              "    <tr>\n",
              "      <th>71730</th>\n",
              "      <td>600</td>\n",
              "    </tr>\n",
              "  </tbody>\n",
              "</table>\n",
              "<p>200 rows × 1 columns</p>\n",
              "</div><br><label><b>dtype:</b> int64</label>"
            ]
          },
          "metadata": {},
          "execution_count": 266
        }
      ]
    },
    {
      "cell_type": "code",
      "metadata": {
        "id": "w688AkAq5bmM",
        "colab": {
          "base_uri": "https://localhost:8080/"
        },
        "outputId": "7bbd6bfd-2e05-4005-b28c-0b65ab2df7fe"
      },
      "source": [
        "# Verificamos que efectivamente la muestra tenga 200 elementos\n",
        "dataset.shape[0]"
      ],
      "execution_count": 267,
      "outputs": [
        {
          "output_type": "execute_result",
          "data": {
            "text/plain": [
              "200"
            ]
          },
          "metadata": {},
          "execution_count": 267
        }
      ]
    },
    {
      "cell_type": "code",
      "source": [
        "# Media general: se calcula el ingreso promedio de toda la población disponible en el dataset original\n",
        "media = datos.Ingreso.mean()\n",
        "media"
      ],
      "metadata": {
        "colab": {
          "base_uri": "https://localhost:8080/"
        },
        "id": "3AnH5e39rV5F",
        "outputId": "04af3959-3e4f-4401-c78b-8215638fb77e"
      },
      "execution_count": 268,
      "outputs": [
        {
          "output_type": "execute_result",
          "data": {
            "text/plain": [
              "np.float64(2000.3831988547631)"
            ]
          },
          "metadata": {},
          "execution_count": 268
        }
      ]
    },
    {
      "cell_type": "code",
      "source": [
        "# Desviación estándar general: mide cuánto varían los ingresos respecto al promedio general en toda la población\n",
        "desviacion_estandar = datos.Ingreso.std()\n",
        "print(f'La desviación estándar real de los ingresos en la población es de ${desviacion_estandar:.2f} pesos.')"
      ],
      "metadata": {
        "colab": {
          "base_uri": "https://localhost:8080/"
        },
        "id": "AvAtmiKkrZM4",
        "outputId": "48816abc-687e-4915-8483-bd25cb80da1e"
      },
      "execution_count": 269,
      "outputs": [
        {
          "output_type": "stream",
          "name": "stdout",
          "text": [
            "La desviación estándar real de los ingresos en la población es de $3323.39 pesos.\n"
          ]
        }
      ]
    },
    {
      "cell_type": "code",
      "source": [
        "# Media muestral: se calcula el ingreso promedio solo de la muestra seleccionada\n",
        "media_muestra = dataset.mean()\n",
        "media_muestra"
      ],
      "metadata": {
        "colab": {
          "base_uri": "https://localhost:8080/"
        },
        "id": "XIFzQ3q-vF98",
        "outputId": "dd4c361f-ab14-4bcd-c6a0-a4610351578b"
      },
      "execution_count": 270,
      "outputs": [
        {
          "output_type": "execute_result",
          "data": {
            "text/plain": [
              "np.float64(1964.205)"
            ]
          },
          "metadata": {},
          "execution_count": 270
        }
      ]
    },
    {
      "cell_type": "code",
      "source": [
        "# Desviación estándar muestral: mide cuánto varían los ingresos respecto al promedio, pero solo dentro de la muestra\n",
        "desviacion_estandar_muestra = dataset.std()\n",
        "print(f'La desviación estándar muestral de los ingresos en la población es de ${desviacion_estandar_muestra:.2f} pesos.')"
      ],
      "metadata": {
        "colab": {
          "base_uri": "https://localhost:8080/"
        },
        "id": "vyjf5mjzrYtL",
        "outputId": "74b0abe7-9d7a-4fbf-8cf7-81ffcd0f8906"
      },
      "execution_count": 271,
      "outputs": [
        {
          "output_type": "stream",
          "name": "stdout",
          "text": [
            "La desviación estándar muestral de los ingresos en la población es de $3139.89 pesos.\n"
          ]
        }
      ]
    },
    {
      "cell_type": "markdown",
      "metadata": {
        "id": "DCLmPZRP5bmO"
      },
      "source": [
        "### Datos del problema"
      ]
    },
    {
      "cell_type": "code",
      "metadata": {
        "id": "_rbgt1Ol5bmP"
      },
      "source": [
        "# Media muestral: se calcula el ingreso promedio solo de la muestra seleccionada\n",
        "media_muestra = dataset.mean()\n",
        "# Desviación estándar muestral: mide cuánto varían los ingresos respecto al promedio, pero solo dentro de la muestra\n",
        "desviacion_estandar_muestra = dataset.std()\n",
        "# Se definen los datos del problema a utilizar en los próximos cálculos\n",
        "recursos = 150000\n",
        "costo_entrevista = 100"
      ],
      "execution_count": 272,
      "outputs": []
    },
    {
      "cell_type": "markdown",
      "metadata": {
        "id": "fMJTUr9h5bmQ"
      },
      "source": [
        "# <font color='blue'>Solución del punto 2</font>"
      ]
    },
    {
      "cell_type": "markdown",
      "metadata": {
        "id": "_cE33Sk65bmQ"
      },
      "source": [
        "### Obtenga el margen de error\n",
        "\n",
        "#### <font color='red'>Recuerde que el margen de error debe estar en la misma unidad que la variable en estudio (R$)</font>"
      ]
    },
    {
      "cell_type": "code",
      "metadata": {
        "id": "ABRKgHDA5bmQ"
      },
      "source": [
        "# Importamos desde scipy la función `norm`, que nos permite trabajar con la distribución normal estándar\n",
        "from scipy.stats import norm"
      ],
      "execution_count": 273,
      "outputs": []
    },
    {
      "cell_type": "code",
      "source": [
        "# Calculamos el margen de error permitido por el cliente, equivalente al 10% de la media muestral\n",
        "e = 0.10 * media_muestra\n",
        "# Mostramos el margen de error calculado, redondeado a dos decimales\n",
        "print(f'El margen de error es de R$ {e:.2f} aproximadamente')"
      ],
      "metadata": {
        "colab": {
          "base_uri": "https://localhost:8080/"
        },
        "id": "GsyKq1V6sif9",
        "outputId": "3027120e-d1ed-410b-b6e1-ca8775cfa6aa"
      },
      "execution_count": 274,
      "outputs": [
        {
          "output_type": "stream",
          "name": "stdout",
          "text": [
            "El margen de error es de R$ 196.42 aproximadamente\n"
          ]
        }
      ]
    },
    {
      "cell_type": "markdown",
      "metadata": {
        "id": "kJTzpSxr5bmR"
      },
      "source": [
        "### Tamaño de la muestra ($1 - \\alpha = 90\\%$)"
      ]
    },
    {
      "cell_type": "code",
      "metadata": {
        "id": "bempjGoY5bmR"
      },
      "source": [
        "# Establecemos el nivel de confianza en 90%\n",
        "confianza = 0.9\n",
        "\n",
        "# Calculamos el valor z correspondiente al nivel de confianza, usando la función percent point function (ppf)\n",
        "z = norm.ppf(0.5 + (confianza / 2))"
      ],
      "execution_count": 275,
      "outputs": []
    },
    {
      "cell_type": "code",
      "metadata": {
        "id": "6MqFd9aq5bmT",
        "colab": {
          "base_uri": "https://localhost:8080/"
        },
        "outputId": "5f83a101-ce1e-4b72-dbf4-7e07c5b19d0e"
      },
      "source": [
        "# Calculamos el tamaño de muestra necesario para un nivel de confianza del 90%, usando la fórmula de tamaño de muestra para media\n",
        "n_confianza_90 = (z * (desviacion_estandar_muestra / e)) ** 2\n",
        "\n",
        "# Redondeamos el valor y lo convertimos en entero\n",
        "n_confianza_90 = int(n_confianza_90.round())\n",
        "\n",
        "# Mostramos el resultado\n",
        "print(f'Para el nivel de confianza del 90% debemos seleccionar una muestra de {n_confianza_90} elementos.')"
      ],
      "execution_count": 276,
      "outputs": [
        {
          "output_type": "stream",
          "name": "stdout",
          "text": [
            "Para el nivel de confianza del 90% debemos seleccionar una muestra de 691 elementos.\n"
          ]
        }
      ]
    },
    {
      "cell_type": "markdown",
      "metadata": {
        "id": "teHM6G0Y5bmU"
      },
      "source": [
        "### Tamaño de la muestra ($1 - \\alpha = 95\\%$)"
      ]
    },
    {
      "cell_type": "code",
      "metadata": {
        "id": "mzhIop3o5bmU"
      },
      "source": [
        "# Establecemos el nivel de confianza en 95%\n",
        "confianza = 0.95\n",
        "\n",
        "# Calculamos el valor z para un nivel de confianza del 95%\n",
        "z = norm.ppf(0.5 + (confianza / 2))"
      ],
      "execution_count": 277,
      "outputs": []
    },
    {
      "cell_type": "code",
      "metadata": {
        "id": "0wxAy4Ik5bmV",
        "colab": {
          "base_uri": "https://localhost:8080/"
        },
        "outputId": "4312e091-d81c-4074-c88e-74ba6da928b9"
      },
      "source": [
        "# Calculamos el tamaño de muestra necesario para un nivel de confianza del 95%\n",
        "n_confianza_95 = (z * (desviacion_estandar_muestra / e)) ** 2\n",
        "\n",
        "# Redondeamos y convertimos a entero\n",
        "n_confianza_95 = int(n_confianza_95.round())\n",
        "\n",
        "# Mostramos el tamaño de muestra necesario para 95% de confianza\n",
        "print(f'Para el nivel de confianza del 95% debemos seleccionar una muestra de {n_confianza_95} elementos.')"
      ],
      "execution_count": 278,
      "outputs": [
        {
          "output_type": "stream",
          "name": "stdout",
          "text": [
            "Para el nivel de confianza del 95% debemos seleccionar una muestra de 982 elementos.\n"
          ]
        }
      ]
    },
    {
      "cell_type": "markdown",
      "metadata": {
        "id": "TDqvtpqe5bmV"
      },
      "source": [
        "### Tamaño de la muestra ($1 - \\alpha = 99\\%$)"
      ]
    },
    {
      "cell_type": "code",
      "metadata": {
        "id": "93qSZ6Q85bmW"
      },
      "source": [
        "# Establecemos el nivel de confianza en 99%\n",
        "confianza = 0.99\n",
        "\n",
        "# Calculamos el valor z para un nivel de confianza del 99%\n",
        "z = norm.ppf(0.5 + (confianza / 2))"
      ],
      "execution_count": 279,
      "outputs": []
    },
    {
      "cell_type": "code",
      "metadata": {
        "id": "5JLh7OeX5bmX",
        "colab": {
          "base_uri": "https://localhost:8080/"
        },
        "outputId": "dbef1802-480a-420c-a410-198bcf0c5a40"
      },
      "source": [
        "# Calculamos el tamaño de muestra necesario para un nivel de confianza del 99%\n",
        "n_confianza_99 = (z * (desviacion_estandar_muestra / e)) ** 2\n",
        "\n",
        "# Redondeamos y convertimos a entero\n",
        "n_confianza_99 = int(n_confianza_99.round())\n",
        "\n",
        "# Mostramos el tamaño de muestra necesario para 99% de confianza\n",
        "print(f'Para el nivel de confianza del 99% debemos seleccionar una muestra de {n_confianza_99} elementos.')"
      ],
      "execution_count": 280,
      "outputs": [
        {
          "output_type": "stream",
          "name": "stdout",
          "text": [
            "Para el nivel de confianza del 99% debemos seleccionar una muestra de 1695 elementos.\n"
          ]
        }
      ]
    },
    {
      "cell_type": "markdown",
      "metadata": {
        "id": "L4cZg8_l5bmX"
      },
      "source": [
        "# <font color='blue'>Solución del punto 3</font>"
      ]
    },
    {
      "cell_type": "markdown",
      "metadata": {
        "id": "xfKloU_q5bmZ"
      },
      "source": [
        "### Costo de investigación para el nivel de confianza de 90%"
      ]
    },
    {
      "cell_type": "code",
      "metadata": {
        "id": "sirSidd25bmZ",
        "colab": {
          "base_uri": "https://localhost:8080/"
        },
        "outputId": "9182ed39-7ef2-4cf4-a721-6a9310f750d0"
      },
      "source": [
        "costo_confianza_90 = n_confianza_90 * costo_entrevista\n",
        "print(f'Para un nivel de confianza del 90% el costo de la investigación sería de R$ {costo_confianza_90:.2f}')"
      ],
      "execution_count": 281,
      "outputs": [
        {
          "output_type": "stream",
          "name": "stdout",
          "text": [
            "Para un nivel de confianza del 90% el costo de la investigación sería de R$ 69100.00\n"
          ]
        }
      ]
    },
    {
      "cell_type": "markdown",
      "metadata": {
        "id": "cLKFxJHM5bma"
      },
      "source": [
        "### Costo de investigación para el nivel de confianza de 95%"
      ]
    },
    {
      "cell_type": "code",
      "metadata": {
        "id": "7QAMlwnG5bmd",
        "colab": {
          "base_uri": "https://localhost:8080/"
        },
        "outputId": "c18f39e5-6683-435b-ee63-73ecd29d3337"
      },
      "source": [
        "costo_confianza_95 = n_confianza_95 * costo_entrevista\n",
        "print(f'Para un nivel de confianza del 95% el costo de la investigación sería de R$ {costo_confianza_95:.2f}')"
      ],
      "execution_count": 282,
      "outputs": [
        {
          "output_type": "stream",
          "name": "stdout",
          "text": [
            "Para un nivel de confianza del 95% el costo de la investigación sería de R$ 98200.00\n"
          ]
        }
      ]
    },
    {
      "cell_type": "markdown",
      "metadata": {
        "id": "1SyQNzZs5bme"
      },
      "source": [
        "### Costo de investigación para el nivel de confianza de 99%"
      ]
    },
    {
      "cell_type": "code",
      "metadata": {
        "id": "obfWrq205bmf",
        "colab": {
          "base_uri": "https://localhost:8080/"
        },
        "outputId": "77ad0b1a-05fc-448e-9ce0-504657b926f1"
      },
      "source": [
        "costo_confianza_99 = n_confianza_99 * costo_entrevista\n",
        "print(f'Para un nivel de confianza del 99% el costo de la investigación sería de R$ {costo_confianza_99:.2f}')"
      ],
      "execution_count": 283,
      "outputs": [
        {
          "output_type": "stream",
          "name": "stdout",
          "text": [
            "Para un nivel de confianza del 99% el costo de la investigación sería de R$ 169500.00\n"
          ]
        }
      ]
    },
    {
      "cell_type": "markdown",
      "metadata": {
        "id": "ZnfKqGNj5bmg"
      },
      "source": [
        "# <font color='blue'>Solución del punto 4</font>"
      ]
    },
    {
      "cell_type": "code",
      "metadata": {
        "id": "t6W21JB75bmi",
        "colab": {
          "base_uri": "https://localhost:8080/"
        },
        "outputId": "dfae4a6b-c479-4912-9a02-e64cde2e6b4a"
      },
      "source": [
        "# Ya que por temas de fondos utilizaremos el nivel de confianza del 95%, calculamos su intervalo\n",
        "intervalo = norm.interval(\n",
        "    confidence=0.95,                         # Nivel de confianza\n",
        "    loc=media_muestra,                       # Media de la muestra\n",
        "    scale=desviacion_estandar_muestra / np.sqrt(n_confianza_95)  # Error estándar\n",
        ")\n",
        "\n",
        "# Mostramos el intervalo de confianza obtenido\n",
        "intervalo"
      ],
      "execution_count": 284,
      "outputs": [
        {
          "output_type": "execute_result",
          "data": {
            "text/plain": [
              "(np.float64(1767.820973280509), np.float64(2160.589026719491))"
            ]
          },
          "metadata": {},
          "execution_count": 284
        }
      ]
    },
    {
      "cell_type": "markdown",
      "metadata": {
        "id": "91hjxfVH5bmj"
      },
      "source": [
        "# <font color='blue'>Solución del punto 5</font>"
      ]
    },
    {
      "cell_type": "code",
      "metadata": {
        "id": "i708-a3M5bmj",
        "colab": {
          "base_uri": "https://localhost:8080/"
        },
        "outputId": "56665d32-8ed4-407b-8d7b-db56cf4a3397"
      },
      "source": [
        "# Calculamos la cantidad máxima de entrevistas posibles con el presupuesto disponible\n",
        "n_confianza_95 = recursos / costo_entrevista\n",
        "\n",
        "# cantidad límite de entrevistas que podríamos hacer con los fondos entregados\n",
        "n_confianza_95"
      ],
      "execution_count": 291,
      "outputs": [
        {
          "output_type": "execute_result",
          "data": {
            "text/plain": [
              "1500.0"
            ]
          },
          "metadata": {},
          "execution_count": 291
        }
      ]
    },
    {
      "cell_type": "code",
      "metadata": {
        "id": "xOBqA8L15bml",
        "colab": {
          "base_uri": "https://localhost:8080/"
        },
        "outputId": "656ba00e-7df3-4bea-d42d-8a18f83bd3c0"
      },
      "source": [
        "# Calculamos el valor crítico z para el 95% de confianza\n",
        "z = norm.ppf(0.5 + (0.95 / 2))\n",
        "\n",
        "# Calculamos el nuevo margen de error con la cantidad real de entrevistas posibles\n",
        "e = z * (desviacion_estandar_muestra / np.sqrt(n_confianza_95))\n",
        "\n",
        "# Mostramos el nuevo margen de error absoluto\n",
        "e"
      ],
      "execution_count": 292,
      "outputs": [
        {
          "output_type": "execute_result",
          "data": {
            "text/plain": [
              "np.float64(158.89721122673737)"
            ]
          },
          "metadata": {},
          "execution_count": 292
        }
      ]
    },
    {
      "cell_type": "code",
      "metadata": {
        "id": "V7c9rOCH5bmn",
        "colab": {
          "base_uri": "https://localhost:8080/"
        },
        "outputId": "8113a913-763f-434d-b945-0561e66af46a"
      },
      "source": [
        "# Convertimos el margen de error a porcentaje respecto a la media muestral\n",
        "e_porcentual = 100 * e / media_muestra\n",
        "\n",
        "# Mostramos el nuevo margen de error en formato porcentual\n",
        "print(f'El nuevo margen de error es {e_porcentual:.2f}%')"
      ],
      "execution_count": 293,
      "outputs": [
        {
          "output_type": "stream",
          "name": "stdout",
          "text": [
            "El nuevo margen de error es 8.09%\n"
          ]
        }
      ]
    },
    {
      "cell_type": "markdown",
      "metadata": {
        "id": "OeN8zY675bmo"
      },
      "source": [
        "# <font color='blue'>Solución del punto 6</font>"
      ]
    },
    {
      "cell_type": "code",
      "metadata": {
        "id": "36_Vf25S5bmp",
        "colab": {
          "base_uri": "https://localhost:8080/"
        },
        "outputId": "f754c1ac-ba1d-46ec-d527-13d25622877b"
      },
      "source": [
        "# Calculamos el margen de error como el 5% de la media muestral\n",
        "e = 0.05 * media_muestra\n",
        "\n",
        "# Mostramos el valor del margen de error aproximado\n",
        "print(f'El margen de error es de R$ {e:.2f} aproximadamente.')"
      ],
      "execution_count": 294,
      "outputs": [
        {
          "output_type": "stream",
          "name": "stdout",
          "text": [
            "El margen de error es de R$ 98.21 aproximadamente.\n"
          ]
        }
      ]
    },
    {
      "cell_type": "code",
      "metadata": {
        "id": "UtvVo1P65bmq",
        "colab": {
          "base_uri": "https://localhost:8080/"
        },
        "outputId": "9097a9fa-15fb-43d4-8fa5-6a02a934bec5"
      },
      "source": [
        "# Obtenemos el valor crítico z para un nivel de confianza del 95% (z = 1.96)\n",
        "z = norm.ppf(0.975)\n",
        "\n",
        "# Calculamos el tamaño de muestra necesario para ese nivel de confianza y ese margen de error\n",
        "n_confianza_95 = (z * (desviacion_estandar_muestra / e)) ** 2\n",
        "\n",
        "# Redondeamos el tamaño de muestra a un entero\n",
        "n_confianza_95 = int(n_confianza_95.round())\n",
        "\n",
        "# Mostramos el tamaño de muestra necesario\n",
        "print(f'Para un nivel de confianza del 95% debemos seleccionar una muestra de {n_confianza_95} elementos.')"
      ],
      "execution_count": 295,
      "outputs": [
        {
          "output_type": "stream",
          "name": "stdout",
          "text": [
            "Para un nivel de confianza del 95% debemos seleccionar una muestra de 3927 elementos.\n"
          ]
        }
      ]
    },
    {
      "cell_type": "code",
      "metadata": {
        "id": "R9c7vlCr5bmr",
        "colab": {
          "base_uri": "https://localhost:8080/"
        },
        "outputId": "e12b63e3-d0f2-4759-c106-1b25df2b8ffe"
      },
      "source": [
        "# Calculamos el costo total de realizar la investigación con ese tamaño de muestra\n",
        "costo_confianza_95 = n_confianza_95 * costo_entrevista\n",
        "\n",
        "# Mostramos el costo estimado con ese nivel de confianza\n",
        "print(f'Para un nivel de confianza del 95% el costo de investigación sería de R$ {costo_confianza_95:.2f}')"
      ],
      "execution_count": 296,
      "outputs": [
        {
          "output_type": "stream",
          "name": "stdout",
          "text": [
            "Para un nivel de confianza del 95% el costo de investigación sería de R$ 392700.00\n"
          ]
        }
      ]
    },
    {
      "cell_type": "code",
      "source": [],
      "metadata": {
        "id": "0y9JSiMaRtxs"
      },
      "execution_count": 290,
      "outputs": []
    }
  ]
}