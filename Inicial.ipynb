{
  "nbformat": 4,
  "nbformat_minor": 0,
  "metadata": {
    "colab": {
      "name": "Curso_de_Estadística_Parte_2.ipynb",
      "provenance": [],
      "toc_visible": true
    },
    "kernelspec": {
      "display_name": "Python 3",
      "language": "python",
      "name": "python3"
    },
    "language_info": {
      "codemirror_mode": {
        "name": "ipython",
        "version": 3
      },
      "file_extension": ".py",
      "mimetype": "text/x-python",
      "name": "python",
      "nbconvert_exporter": "python",
      "pygments_lexer": "ipython3",
      "version": "3.6.5"
    }
  },
  "cells": [
    {
      "cell_type": "markdown",
      "metadata": {
        "id": "WvMflodMjQKe"
      },
      "source": [
        "<a href=\"https://colab.research.google.com/github/DanielRaiicHu/curso_de_estadisticas_2/blob/main/Inicial.ipynb?forceRefresh=true\">\n",
        "  <img src=\"https://drive.google.com/uc?export=view&id=191Woxwut0iaIL2hCcCIeXRSB6oba_88H\" alt=\"Abrir en Colab\" width=\"120\"/>\n",
        "</a>\n",
        "\n",
        "***\n",
        "# <font color=green size=10>CURSO DE ESTADÍSTICA - PARTE 2</font>\n",
        "***"
      ]
    },
    {
      "cell_type": "code",
      "source": [
        "\n",
        "import pandas, numpy, scipy, matplotlib\n",
        "\n",
        "print('Versión de pandas -> %s' % pandas.__version__)\n",
        "print('Versión de numpy -> %s' % numpy.__version__)\n",
        "print('Versión de scipy -> %s' % scipy.__version__)\n",
        "print('Versión de matplotlib -> %s' % matplotlib.__version__)"
      ],
      "metadata": {
        "colab": {
          "base_uri": "https://localhost:8080/"
        },
        "id": "r6lNo87xqNFu",
        "outputId": "ee7371c3-d85a-43d4-e119-ed33180e6a40"
      },
      "execution_count": 472,
      "outputs": [
        {
          "output_type": "stream",
          "name": "stdout",
          "text": [
            "Versión de pandas -> 2.2.2\n",
            "Versión de numpy -> 2.0.2\n",
            "Versión de scipy -> 1.16.0\n",
            "Versión de matplotlib -> 3.10.0\n"
          ]
        }
      ]
    },
    {
      "cell_type": "markdown",
      "metadata": {
        "id": "cVgsZ_E3jQKg"
      },
      "source": [
        "# <font color=green>1 CONOCIENDO LOS DATOS</font>\n",
        "***"
      ]
    },
    {
      "cell_type": "markdown",
      "metadata": {
        "id": "TDjqYYNojQKh"
      },
      "source": [
        "## <font color=green>1.1 Dataset del proyecto</font>\n",
        "***"
      ]
    },
    {
      "cell_type": "markdown",
      "metadata": {
        "id": "iN1gIbaKjQKh"
      },
      "source": [
        "### Encuesta Nacional por Muestreo de Hogares - 2015\n",
        "\n",
        "La **Encuesta Nacional por Muestreo de Hogares - ENMH** en Brasil anualmente investiga, de manera permanente, características generales de la población, educación, trabajo, ingresos, vivienda y otras, con frecuencia variables, de acuerdo a las necesidades de información del país, tales como las características de migración, fecundidad, nupcialidad, salud, seguridad alimentaria, entre otros temas. La recopilación de estas estadísticas constituye, durante los 49 años de realización de la investigación, un importante instrumento para la formulación, validación y evaluación de políticas orientadas al desarrollo socioeconómico y la mejora de las condiciones de vida en Brasil."
      ]
    },
    {
      "cell_type": "markdown",
      "metadata": {
        "id": "U6V7br1RjQKi"
      },
      "source": [
        "### Fuente de los Datos\n",
        "\n",
        "Instituto Brasileño de Geografía y Estadística (IBGE) Encuesta Nacional por Muestreo de Hogares(PNAD) en el 2015"
      ]
    },
    {
      "cell_type": "markdown",
      "metadata": {
        "id": "r0Fe_qnzjQKj"
      },
      "source": [
        "### Variables utilizadas\n",
        "\n",
        "> ### Ingresos\n",
        "> ***\n",
        "\n",
        "Ingresos mensuales del trabajo principal para personas de 10 años o más.\n",
        "\n",
        "> ### Edad\n",
        "> ***\n",
        "\n",
        "Edad del residente en años en la fecha de referencia .\n",
        "\n",
        "> ### Altura (elaboración propia)\n",
        "> ***\n",
        "\n",
        "Altura del habitante en metros.\n",
        "\n",
        "> ### UF\n",
        "> ***\n",
        "\n",
        "Unidad Federal\n",
        "\n",
        "|Código|Descripción|\n",
        "|---|---|\n",
        "|11|Rondônia|\n",
        "|12|Acre|\n",
        "|13|Amazonas|\n",
        "|14|Roraima|\n",
        "|15|Pará|\n",
        "|16|Amapá|\n",
        "|17|Tocantins|\n",
        "|21|Maranhão|\n",
        "|22|Piauí|\n",
        "|23|Ceará|\n",
        "|24|Rio Grande do Norte|\n",
        "|25|Paraíba|\n",
        "|26|Pernambuco|\n",
        "|27|Alagoas|\n",
        "|28|Sergipe|\n",
        "|29|Bahia|\n",
        "|31|Minas Gerais|\n",
        "|32|Espírito Santo|\n",
        "|33|Rio de Janeiro|\n",
        "|35|São Paulo|\n",
        "|41|Paraná|\n",
        "|42|Santa Catarina|\n",
        "|43|Rio Grande do Sul|\n",
        "|50|Mato Grosso do Sul|\n",
        "|51|Mato Grosso|\n",
        "|52|Goiás|\n",
        "|53|Distrito Federal|\n",
        "\n",
        "> ### Sexo\n",
        "> ***\n",
        "\n",
        "|Código|Descripción|\n",
        "|---|---|\n",
        "|0|Masculino|\n",
        "|1|Femenino|\n",
        "\n",
        "> ### Años de Estudio\n",
        "> ***\n",
        "\n",
        "|Código|Descripción|\n",
        "|---|---|\n",
        "|1|Sin educación o menos de 1 año|\n",
        "|2|1 año|\n",
        "|3|2 años|\n",
        "|4|3 años|\n",
        "|5|4 años|\n",
        "|6|5 años|\n",
        "|7|6 años|\n",
        "|8|7 años|\n",
        "|9|8 años|\n",
        "|10|9 años|\n",
        "|11|10 años|\n",
        "|12|11 años|\n",
        "|13|12 años|\n",
        "|14|13 años|\n",
        "|15|14 años|\n",
        "|16|15 años o más|\n",
        "|17|No determinado|\n",
        "||No aplica|\n",
        "\n",
        "> ### Color\n",
        "> ***\n",
        "\n",
        "|Código|Descripción|\n",
        "|---|---|\n",
        "|0|Indígena|\n",
        "|2|Blanco|\n",
        "|4|Negro|\n",
        "|6|Amarillo|\n",
        "|8|Pardo|\n",
        "|9|Sin declarar|"
      ]
    },
    {
      "cell_type": "markdown",
      "metadata": {
        "id": "OK1IQH5cX7Gb"
      },
      "source": [
        "#### <font color='red'>Nota</font>\n",
        "***\n",
        "> Se realizaron los siguientes tratamientos sobre los datos originales:\n",
        "> 1. Se eliminaron los registros en los que **Ingreso** no era válido. (999 999 999 999);\n",
        "> 2. Se eliminaron los registros en los que **Ingreso** eran missing;\n",
        "> 3. Solo se consideraron los registros de **Personas de Referencia** de cada hogar (responsable del hogar)."
      ]
    },
    {
      "cell_type": "markdown",
      "metadata": {
        "id": "8Rw70V6ojQKk"
      },
      "source": [
        "### Importando pandas y leyendo el dataset del proyecto\n",
        "\n",
        "https://pandas.pydata.org/"
      ]
    },
    {
      "cell_type": "code",
      "metadata": {
        "id": "8QgOpE-wjQKl"
      },
      "source": [
        "import pandas as pd"
      ],
      "execution_count": 473,
      "outputs": []
    },
    {
      "cell_type": "code",
      "source": [
        "from google.colab import drive\n",
        "drive.mount('/content/drive')"
      ],
      "metadata": {
        "colab": {
          "base_uri": "https://localhost:8080/"
        },
        "id": "ADTuiiA4rhjz",
        "outputId": "048b88f4-0e3c-41c8-bc37-ef08694890c1"
      },
      "execution_count": 474,
      "outputs": [
        {
          "output_type": "stream",
          "name": "stdout",
          "text": [
            "Drive already mounted at /content/drive; to attempt to forcibly remount, call drive.mount(\"/content/drive\", force_remount=True).\n"
          ]
        }
      ]
    },
    {
      "cell_type": "code",
      "source": [
        "datos = pd.read_csv('/content/drive/MyDrive/estadisticas_2/datos.csv', encoding ='latin-1')"
      ],
      "metadata": {
        "id": "2pR5asULq_gL"
      },
      "execution_count": 475,
      "outputs": []
    },
    {
      "cell_type": "code",
      "source": [
        "datos.head()"
      ],
      "metadata": {
        "colab": {
          "base_uri": "https://localhost:8080/",
          "height": 206
        },
        "id": "yeNC-87frf7u",
        "outputId": "d2c10550-aa2a-4809-8077-77e5f419de63"
      },
      "execution_count": 476,
      "outputs": [
        {
          "output_type": "execute_result",
          "data": {
            "text/plain": [
              "   Ciudad  Sexo  Edad  Color  Años de Estudio  Ingreso    Altura\n",
              "0      11     0    23      8               12      800  1.603808\n",
              "1      11     1    23      2               12     1150  1.739790\n",
              "2      11     1    35      8               15      880  1.760444\n",
              "3      11     0    46      2                6     3500  1.783158\n",
              "4      11     1    47      8                9      150  1.690631"
            ],
            "text/html": [
              "\n",
              "  <div id=\"df-b82af926-ef84-4151-82b3-5165dbd084df\" class=\"colab-df-container\">\n",
              "    <div>\n",
              "<style scoped>\n",
              "    .dataframe tbody tr th:only-of-type {\n",
              "        vertical-align: middle;\n",
              "    }\n",
              "\n",
              "    .dataframe tbody tr th {\n",
              "        vertical-align: top;\n",
              "    }\n",
              "\n",
              "    .dataframe thead th {\n",
              "        text-align: right;\n",
              "    }\n",
              "</style>\n",
              "<table border=\"1\" class=\"dataframe\">\n",
              "  <thead>\n",
              "    <tr style=\"text-align: right;\">\n",
              "      <th></th>\n",
              "      <th>Ciudad</th>\n",
              "      <th>Sexo</th>\n",
              "      <th>Edad</th>\n",
              "      <th>Color</th>\n",
              "      <th>Años de Estudio</th>\n",
              "      <th>Ingreso</th>\n",
              "      <th>Altura</th>\n",
              "    </tr>\n",
              "  </thead>\n",
              "  <tbody>\n",
              "    <tr>\n",
              "      <th>0</th>\n",
              "      <td>11</td>\n",
              "      <td>0</td>\n",
              "      <td>23</td>\n",
              "      <td>8</td>\n",
              "      <td>12</td>\n",
              "      <td>800</td>\n",
              "      <td>1.603808</td>\n",
              "    </tr>\n",
              "    <tr>\n",
              "      <th>1</th>\n",
              "      <td>11</td>\n",
              "      <td>1</td>\n",
              "      <td>23</td>\n",
              "      <td>2</td>\n",
              "      <td>12</td>\n",
              "      <td>1150</td>\n",
              "      <td>1.739790</td>\n",
              "    </tr>\n",
              "    <tr>\n",
              "      <th>2</th>\n",
              "      <td>11</td>\n",
              "      <td>1</td>\n",
              "      <td>35</td>\n",
              "      <td>8</td>\n",
              "      <td>15</td>\n",
              "      <td>880</td>\n",
              "      <td>1.760444</td>\n",
              "    </tr>\n",
              "    <tr>\n",
              "      <th>3</th>\n",
              "      <td>11</td>\n",
              "      <td>0</td>\n",
              "      <td>46</td>\n",
              "      <td>2</td>\n",
              "      <td>6</td>\n",
              "      <td>3500</td>\n",
              "      <td>1.783158</td>\n",
              "    </tr>\n",
              "    <tr>\n",
              "      <th>4</th>\n",
              "      <td>11</td>\n",
              "      <td>1</td>\n",
              "      <td>47</td>\n",
              "      <td>8</td>\n",
              "      <td>9</td>\n",
              "      <td>150</td>\n",
              "      <td>1.690631</td>\n",
              "    </tr>\n",
              "  </tbody>\n",
              "</table>\n",
              "</div>\n",
              "    <div class=\"colab-df-buttons\">\n",
              "\n",
              "  <div class=\"colab-df-container\">\n",
              "    <button class=\"colab-df-convert\" onclick=\"convertToInteractive('df-b82af926-ef84-4151-82b3-5165dbd084df')\"\n",
              "            title=\"Convert this dataframe to an interactive table.\"\n",
              "            style=\"display:none;\">\n",
              "\n",
              "  <svg xmlns=\"http://www.w3.org/2000/svg\" height=\"24px\" viewBox=\"0 -960 960 960\">\n",
              "    <path d=\"M120-120v-720h720v720H120Zm60-500h600v-160H180v160Zm220 220h160v-160H400v160Zm0 220h160v-160H400v160ZM180-400h160v-160H180v160Zm440 0h160v-160H620v160ZM180-180h160v-160H180v160Zm440 0h160v-160H620v160Z\"/>\n",
              "  </svg>\n",
              "    </button>\n",
              "\n",
              "  <style>\n",
              "    .colab-df-container {\n",
              "      display:flex;\n",
              "      gap: 12px;\n",
              "    }\n",
              "\n",
              "    .colab-df-convert {\n",
              "      background-color: #E8F0FE;\n",
              "      border: none;\n",
              "      border-radius: 50%;\n",
              "      cursor: pointer;\n",
              "      display: none;\n",
              "      fill: #1967D2;\n",
              "      height: 32px;\n",
              "      padding: 0 0 0 0;\n",
              "      width: 32px;\n",
              "    }\n",
              "\n",
              "    .colab-df-convert:hover {\n",
              "      background-color: #E2EBFA;\n",
              "      box-shadow: 0px 1px 2px rgba(60, 64, 67, 0.3), 0px 1px 3px 1px rgba(60, 64, 67, 0.15);\n",
              "      fill: #174EA6;\n",
              "    }\n",
              "\n",
              "    .colab-df-buttons div {\n",
              "      margin-bottom: 4px;\n",
              "    }\n",
              "\n",
              "    [theme=dark] .colab-df-convert {\n",
              "      background-color: #3B4455;\n",
              "      fill: #D2E3FC;\n",
              "    }\n",
              "\n",
              "    [theme=dark] .colab-df-convert:hover {\n",
              "      background-color: #434B5C;\n",
              "      box-shadow: 0px 1px 3px 1px rgba(0, 0, 0, 0.15);\n",
              "      filter: drop-shadow(0px 1px 2px rgba(0, 0, 0, 0.3));\n",
              "      fill: #FFFFFF;\n",
              "    }\n",
              "  </style>\n",
              "\n",
              "    <script>\n",
              "      const buttonEl =\n",
              "        document.querySelector('#df-b82af926-ef84-4151-82b3-5165dbd084df button.colab-df-convert');\n",
              "      buttonEl.style.display =\n",
              "        google.colab.kernel.accessAllowed ? 'block' : 'none';\n",
              "\n",
              "      async function convertToInteractive(key) {\n",
              "        const element = document.querySelector('#df-b82af926-ef84-4151-82b3-5165dbd084df');\n",
              "        const dataTable =\n",
              "          await google.colab.kernel.invokeFunction('convertToInteractive',\n",
              "                                                    [key], {});\n",
              "        if (!dataTable) return;\n",
              "\n",
              "        const docLinkHtml = 'Like what you see? Visit the ' +\n",
              "          '<a target=\"_blank\" href=https://colab.research.google.com/notebooks/data_table.ipynb>data table notebook</a>'\n",
              "          + ' to learn more about interactive tables.';\n",
              "        element.innerHTML = '';\n",
              "        dataTable['output_type'] = 'display_data';\n",
              "        await google.colab.output.renderOutput(dataTable, element);\n",
              "        const docLink = document.createElement('div');\n",
              "        docLink.innerHTML = docLinkHtml;\n",
              "        element.appendChild(docLink);\n",
              "      }\n",
              "    </script>\n",
              "  </div>\n",
              "\n",
              "\n",
              "    <div id=\"df-d572090b-9b11-4638-9619-aef5319b624a\">\n",
              "      <button class=\"colab-df-quickchart\" onclick=\"quickchart('df-d572090b-9b11-4638-9619-aef5319b624a')\"\n",
              "                title=\"Suggest charts\"\n",
              "                style=\"display:none;\">\n",
              "\n",
              "<svg xmlns=\"http://www.w3.org/2000/svg\" height=\"24px\"viewBox=\"0 0 24 24\"\n",
              "     width=\"24px\">\n",
              "    <g>\n",
              "        <path d=\"M19 3H5c-1.1 0-2 .9-2 2v14c0 1.1.9 2 2 2h14c1.1 0 2-.9 2-2V5c0-1.1-.9-2-2-2zM9 17H7v-7h2v7zm4 0h-2V7h2v10zm4 0h-2v-4h2v4z\"/>\n",
              "    </g>\n",
              "</svg>\n",
              "      </button>\n",
              "\n",
              "<style>\n",
              "  .colab-df-quickchart {\n",
              "      --bg-color: #E8F0FE;\n",
              "      --fill-color: #1967D2;\n",
              "      --hover-bg-color: #E2EBFA;\n",
              "      --hover-fill-color: #174EA6;\n",
              "      --disabled-fill-color: #AAA;\n",
              "      --disabled-bg-color: #DDD;\n",
              "  }\n",
              "\n",
              "  [theme=dark] .colab-df-quickchart {\n",
              "      --bg-color: #3B4455;\n",
              "      --fill-color: #D2E3FC;\n",
              "      --hover-bg-color: #434B5C;\n",
              "      --hover-fill-color: #FFFFFF;\n",
              "      --disabled-bg-color: #3B4455;\n",
              "      --disabled-fill-color: #666;\n",
              "  }\n",
              "\n",
              "  .colab-df-quickchart {\n",
              "    background-color: var(--bg-color);\n",
              "    border: none;\n",
              "    border-radius: 50%;\n",
              "    cursor: pointer;\n",
              "    display: none;\n",
              "    fill: var(--fill-color);\n",
              "    height: 32px;\n",
              "    padding: 0;\n",
              "    width: 32px;\n",
              "  }\n",
              "\n",
              "  .colab-df-quickchart:hover {\n",
              "    background-color: var(--hover-bg-color);\n",
              "    box-shadow: 0 1px 2px rgba(60, 64, 67, 0.3), 0 1px 3px 1px rgba(60, 64, 67, 0.15);\n",
              "    fill: var(--button-hover-fill-color);\n",
              "  }\n",
              "\n",
              "  .colab-df-quickchart-complete:disabled,\n",
              "  .colab-df-quickchart-complete:disabled:hover {\n",
              "    background-color: var(--disabled-bg-color);\n",
              "    fill: var(--disabled-fill-color);\n",
              "    box-shadow: none;\n",
              "  }\n",
              "\n",
              "  .colab-df-spinner {\n",
              "    border: 2px solid var(--fill-color);\n",
              "    border-color: transparent;\n",
              "    border-bottom-color: var(--fill-color);\n",
              "    animation:\n",
              "      spin 1s steps(1) infinite;\n",
              "  }\n",
              "\n",
              "  @keyframes spin {\n",
              "    0% {\n",
              "      border-color: transparent;\n",
              "      border-bottom-color: var(--fill-color);\n",
              "      border-left-color: var(--fill-color);\n",
              "    }\n",
              "    20% {\n",
              "      border-color: transparent;\n",
              "      border-left-color: var(--fill-color);\n",
              "      border-top-color: var(--fill-color);\n",
              "    }\n",
              "    30% {\n",
              "      border-color: transparent;\n",
              "      border-left-color: var(--fill-color);\n",
              "      border-top-color: var(--fill-color);\n",
              "      border-right-color: var(--fill-color);\n",
              "    }\n",
              "    40% {\n",
              "      border-color: transparent;\n",
              "      border-right-color: var(--fill-color);\n",
              "      border-top-color: var(--fill-color);\n",
              "    }\n",
              "    60% {\n",
              "      border-color: transparent;\n",
              "      border-right-color: var(--fill-color);\n",
              "    }\n",
              "    80% {\n",
              "      border-color: transparent;\n",
              "      border-right-color: var(--fill-color);\n",
              "      border-bottom-color: var(--fill-color);\n",
              "    }\n",
              "    90% {\n",
              "      border-color: transparent;\n",
              "      border-bottom-color: var(--fill-color);\n",
              "    }\n",
              "  }\n",
              "</style>\n",
              "\n",
              "      <script>\n",
              "        async function quickchart(key) {\n",
              "          const quickchartButtonEl =\n",
              "            document.querySelector('#' + key + ' button');\n",
              "          quickchartButtonEl.disabled = true;  // To prevent multiple clicks.\n",
              "          quickchartButtonEl.classList.add('colab-df-spinner');\n",
              "          try {\n",
              "            const charts = await google.colab.kernel.invokeFunction(\n",
              "                'suggestCharts', [key], {});\n",
              "          } catch (error) {\n",
              "            console.error('Error during call to suggestCharts:', error);\n",
              "          }\n",
              "          quickchartButtonEl.classList.remove('colab-df-spinner');\n",
              "          quickchartButtonEl.classList.add('colab-df-quickchart-complete');\n",
              "        }\n",
              "        (() => {\n",
              "          let quickchartButtonEl =\n",
              "            document.querySelector('#df-d572090b-9b11-4638-9619-aef5319b624a button');\n",
              "          quickchartButtonEl.style.display =\n",
              "            google.colab.kernel.accessAllowed ? 'block' : 'none';\n",
              "        })();\n",
              "      </script>\n",
              "    </div>\n",
              "\n",
              "    </div>\n",
              "  </div>\n"
            ],
            "application/vnd.google.colaboratory.intrinsic+json": {
              "type": "dataframe",
              "variable_name": "datos",
              "summary": "{\n  \"name\": \"datos\",\n  \"rows\": 76840,\n  \"fields\": [\n    {\n      \"column\": \"Ciudad\",\n      \"properties\": {\n        \"dtype\": \"number\",\n        \"std\": 11,\n        \"min\": 11,\n        \"max\": 53,\n        \"num_unique_values\": 27,\n        \"samples\": [\n          22,\n          27,\n          23\n        ],\n        \"semantic_type\": \"\",\n        \"description\": \"\"\n      }\n    },\n    {\n      \"column\": \"Sexo\",\n      \"properties\": {\n        \"dtype\": \"number\",\n        \"std\": 0,\n        \"min\": 0,\n        \"max\": 1,\n        \"num_unique_values\": 2,\n        \"samples\": [\n          1,\n          0\n        ],\n        \"semantic_type\": \"\",\n        \"description\": \"\"\n      }\n    },\n    {\n      \"column\": \"Edad\",\n      \"properties\": {\n        \"dtype\": \"number\",\n        \"std\": 12,\n        \"min\": 13,\n        \"max\": 99,\n        \"num_unique_values\": 84,\n        \"samples\": [\n          88,\n          23\n        ],\n        \"semantic_type\": \"\",\n        \"description\": \"\"\n      }\n    },\n    {\n      \"column\": \"Color\",\n      \"properties\": {\n        \"dtype\": \"number\",\n        \"std\": 2,\n        \"min\": 0,\n        \"max\": 8,\n        \"num_unique_values\": 5,\n        \"samples\": [\n          2,\n          0\n        ],\n        \"semantic_type\": \"\",\n        \"description\": \"\"\n      }\n    },\n    {\n      \"column\": \"A\\u00f1os de Estudio\",\n      \"properties\": {\n        \"dtype\": \"number\",\n        \"std\": 4,\n        \"min\": 1,\n        \"max\": 17,\n        \"num_unique_values\": 17,\n        \"samples\": [\n          12,\n          15\n        ],\n        \"semantic_type\": \"\",\n        \"description\": \"\"\n      }\n    },\n    {\n      \"column\": \"Ingreso\",\n      \"properties\": {\n        \"dtype\": \"number\",\n        \"std\": 3323,\n        \"min\": 0,\n        \"max\": 200000,\n        \"num_unique_values\": 1606,\n        \"samples\": [\n          3279,\n          2456\n        ],\n        \"semantic_type\": \"\",\n        \"description\": \"\"\n      }\n    },\n    {\n      \"column\": \"Altura\",\n      \"properties\": {\n        \"dtype\": \"number\",\n        \"std\": 0.07971743006825309,\n        \"min\": 1.339244614,\n        \"max\": 2.028496765,\n        \"num_unique_values\": 76831,\n        \"samples\": [\n          1.616531581,\n          1.799777606\n        ],\n        \"semantic_type\": \"\",\n        \"description\": \"\"\n      }\n    }\n  ]\n}"
            }
          },
          "metadata": {},
          "execution_count": 476
        }
      ]
    },
    {
      "cell_type": "code",
      "metadata": {
        "id": "ufRZ7TLwjQKo"
      },
      "source": [],
      "execution_count": 476,
      "outputs": []
    },
    {
      "cell_type": "code",
      "metadata": {
        "id": "GsC_WhLFjQKq",
        "scrolled": true
      },
      "source": [],
      "execution_count": 476,
      "outputs": []
    },
    {
      "cell_type": "markdown",
      "metadata": {
        "id": "-z3bLQIUG3Hv"
      },
      "source": [
        "---\n",
        "---"
      ]
    },
    {
      "cell_type": "markdown",
      "metadata": {
        "id": "tL9xVLwTX07g"
      },
      "source": [
        "# <font color=green>2 DISTRIBUCIONES DE PROBABILIDAD</font>\n",
        "***"
      ]
    },
    {
      "cell_type": "markdown",
      "metadata": {
        "id": "3nlvC-5qG3Bj"
      },
      "source": [
        "## <font color=red>Problema</font>\n",
        "***"
      ]
    },
    {
      "cell_type": "markdown",
      "metadata": {
        "id": "8CclIz9oG3Bk"
      },
      "source": [
        "En una competencia para ocupar un puesto de científico de datos, tenemos un total de **10 preguntas** de opción múltiple con **3 alternativas posibles** en cada pregunta. **Cada pregunta tiene el mismo valor.** Suponga que un candidato decide aventurarse sin haber estudiado nada. Decide hacer la prueba con los ojos vendados y adivinar todas las respuestas. Suponiendo que la prueba **vale 10 puntos y la puntuación de corte es 5**, obtenga la probabilidad de que este candidato **acierte 5 preguntas** y también la probabilidad de que el candidato **pase a la siguiente etapa del proceso de selección**."
      ]
    },
    {
      "cell_type": "markdown",
      "metadata": {
        "id": "KJxd2KFSYLML"
      },
      "source": [
        "## <font color=green>2.1 Distribución Binomial</font>\n",
        "***"
      ]
    },
    {
      "cell_type": "markdown",
      "metadata": {
        "id": "mcbl3KbnG3Bq"
      },
      "source": [
        "Un evento **binomial** se caracteriza por la posibilidad de que solo ocurran dos categorías. Estas categorías juntas representan todo el espacio muestral, siendo también mutuamente excluyentes, es decir, la ocurrencia de una implica la no ocurrencia de la otra.\n",
        "\n",
        "En el análisis estadístico, el uso más común de la distribución binomial es para resolver problemas que involucran situaciones de **éxito** y **fracaso**."
      ]
    },
    {
      "cell_type": "markdown",
      "metadata": {
        "id": "iLoYAuJ9G3Bs"
      },
      "source": [
        "# $$P(k)=\\binom{n}{k} p^k q^{n-k}$$\n",
        "\n",
        "Donde:\n",
        "\n",
        "$p$ = probabilidad de éxito\n",
        "\n",
        "$q = (1 - p)$ = probabilidad de fracaso\n",
        "\n",
        "$n$ = número de eventos estudiados\n",
        "\n",
        "$k$ = número de eventos deseados que tienen éxito"
      ]
    },
    {
      "cell_type": "markdown",
      "metadata": {
        "id": "PxEgWbFdG3Bt"
      },
      "source": [
        "### Experimento Binomial"
      ]
    },
    {
      "cell_type": "markdown",
      "metadata": {
        "id": "eqQK3Ny-G3Bv"
      },
      "source": [
        "1. Realización de $n$ pruebas idénticas.\n",
        "\n",
        "2. Las pruebas son independientes.\n",
        "\n",
        "3. Solo son posibles dos resultados, por ejemplo: Verdadero o falso; Cara o cruz; Éxito o fracaso.\n",
        "\n",
        "4. La probabilidad de éxito está representada por $p$ y la probabilidad de fracaso por $1-p = q$. Estas probabilidades no cambian de una prueba para otra."
      ]
    },
    {
      "cell_type": "markdown",
      "metadata": {
        "id": "mT77udQ0G3Bx"
      },
      "source": [
        "### Media de la distribución binomial"
      ]
    },
    {
      "cell_type": "markdown",
      "metadata": {
        "id": "EGiuemgqG3By"
      },
      "source": [
        "El valor esperado o la media de la distribución binomial es igual al número de experimentos realizados multiplicado por la probabilidad de que ocurra el evento.\n",
        "\n",
        "# $$\\mu = n \\times p$$"
      ]
    },
    {
      "cell_type": "markdown",
      "metadata": {
        "id": "1fDLi96OG3Bz"
      },
      "source": [
        "### Desviación estándar de la distribución binomial"
      ]
    },
    {
      "cell_type": "markdown",
      "metadata": {
        "id": "EZojizotG3B1"
      },
      "source": [
        "La desviación estándar es la raíz quadrada del producto entre el número de experimentos, la probabilidad de éxito y la probabilidad de fracaso.\n",
        "\n",
        "# $$\\sigma = \\sqrt{n \\times p \\times q}$$"
      ]
    },
    {
      "cell_type": "markdown",
      "metadata": {
        "id": "udqnjFnsG3B2"
      },
      "source": [
        "### Importando bibliotecas\n",
        "https://docs.scipy.org/doc/scipy/reference/generated/scipy.special.comb.html"
      ]
    },
    {
      "cell_type": "code",
      "metadata": {
        "id": "-U2sGssNG3B4"
      },
      "source": [
        "from scipy.special import comb"
      ],
      "execution_count": 477,
      "outputs": []
    },
    {
      "cell_type": "markdown",
      "metadata": {
        "id": "MxxuJNSwG3B7"
      },
      "source": [
        "### Combinaciones\n",
        "\n",
        "El número de combinaciones de $n$ objetos, tomando $k$ cada vez, es:\n",
        "\n",
        "# $$C_{k}^{n} = \\binom{n}{k} = \\frac{n!}{k!(n - k)!}$$\n",
        "\n",
        "Donde\n",
        "\n",
        "## $$n! = n\\times(n-1)\\times(n-2)\\times...\\times(2)\\times(1)$$\n",
        "## $$k! = k\\times(k-1)\\times(k-2)\\times...\\times(2)\\times(1)$$\n",
        "\n",
        "Por definición\n",
        "\n",
        "## $$0! = 1$$"
      ]
    },
    {
      "cell_type": "markdown",
      "metadata": {
        "id": "Udz87Pq3G3B8"
      },
      "source": [
        "## <font color='blue'>Ejemplo: Mega Sena</font>"
      ]
    },
    {
      "cell_type": "markdown",
      "metadata": {
        "id": "h1Mo9AxyG3B8"
      },
      "source": [
        "En una rueda de lotería Mega Sena tenemos un total de **60 números** para elegir, donde la apuesta mínima es de **seis números**. Usted que es curioso(a) decide calcular la probabilidad de ganar la Mega Sena con solo **un juego**. Para eso necesitamos saber cuántas **combinaciones de seis números se pueden formar con los 60 números disponibles**.\n",
        "\n",
        "### $$C_{6}^{60} = \\binom{60}{6} = \\frac{60!}{6!(60 - 6)!}$$"
      ]
    },
    {
      "cell_type": "code",
      "metadata": {
        "id": "c2t7yHl7G3B9",
        "colab": {
          "base_uri": "https://localhost:8080/"
        },
        "outputId": "3832263d-f05a-4420-d5a6-d5ef769bb26d"
      },
      "source": [
        "# Distribución Binomial - Probabilidad combinatoria\n",
        "# Calcula el número total de combinaciones posibles al seleccionar 6 elementos únicos de un total de 60,\n",
        "# sin importar el orden (combinación simple sin repetición).\n",
        "# Ejemplo clásico: juegos de azar como la lotería Mega Sena (elige 6 números del 1 al 60).\n",
        "combinaciones = comb(60,6)\n",
        "combinaciones"
      ],
      "execution_count": 478,
      "outputs": [
        {
          "output_type": "execute_result",
          "data": {
            "text/plain": [
              "np.float64(50063860.0)"
            ]
          },
          "metadata": {},
          "execution_count": 478
        }
      ]
    },
    {
      "cell_type": "code",
      "metadata": {
        "id": "LpioeTSXG3CB",
        "colab": {
          "base_uri": "https://localhost:8080/"
        },
        "outputId": "179e69e0-f82e-480b-caaf-e1253df8c177"
      },
      "source": [
        "# Distribución Binomial - Cálculo de probabilidad individual\n",
        "# Calcula la probabilidad de acertar exactamente una combinación específica de 6 números\n",
        "\n",
        "probabilidad = 1 / combinaciones\n",
        "\n",
        "# Imprime la probabilidad con 15 cifras decimales para mayor precisión\n",
        "print(f'{probabilidad:0.15f}')"
      ],
      "execution_count": 479,
      "outputs": [
        {
          "output_type": "stream",
          "name": "stdout",
          "text": [
            "0.000000019974489\n"
          ]
        }
      ]
    },
    {
      "cell_type": "markdown",
      "metadata": {
        "id": "t1rA1yJpG3CF"
      },
      "source": [
        "## <font color='blue'>Ejemplo: Concurso para científico de datos</font>"
      ]
    },
    {
      "cell_type": "markdown",
      "metadata": {
        "id": "K0DPDD37G3CG"
      },
      "source": [
        "En una competencia para ocupar un puesto de científico de datos, tenemos un total de **10 preguntas** de opción múltiple con **3 alternativas posibles** en cada pregunta. **Cada pregunta tiene el mismo valor.** Suponga que un candidato decide aventurarse sin haber estudiado nada. Decide tomar la prueba con los ojos vendados y adivinar todas las respuestas. Suponiendo que la prueba **vale 10 puntos y la puntuación de corte es 5**, obtenga la probabilidad de que este candidato **acierte 5 preguntas** y también la probabilidad de que el candidato **pase a la siguiente etapa del proceso de selección**."
      ]
    },
    {
      "cell_type": "markdown",
      "metadata": {
        "id": "sf-NMPfxG3CH"
      },
      "source": [
        "### ¿Cuál es la cantidad de pruebas ($n$)?"
      ]
    },
    {
      "cell_type": "code",
      "metadata": {
        "id": "WmnjMTnYG3CH",
        "colab": {
          "base_uri": "https://localhost:8080/"
        },
        "outputId": "118a7190-6674-49cb-e480-cc362603ed96"
      },
      "source": [
        "# Número total de preguntas\n",
        "n = 10\n",
        "n"
      ],
      "execution_count": 480,
      "outputs": [
        {
          "output_type": "execute_result",
          "data": {
            "text/plain": [
              "10"
            ]
          },
          "metadata": {},
          "execution_count": 480
        }
      ]
    },
    {
      "cell_type": "markdown",
      "metadata": {
        "id": "1USf9Ro8G3CK"
      },
      "source": [
        "### ¿Las pruebas son independientes?"
      ]
    },
    {
      "cell_type": "markdown",
      "metadata": {
        "id": "82xf2XIkG3CM"
      },
      "source": [
        "Sí. La opción elegida en una pregunta no influye en la opción elegida en otra pregunta."
      ]
    },
    {
      "cell_type": "markdown",
      "metadata": {
        "id": "7jN0H5e7G3CN"
      },
      "source": [
        "### ¿Sólo dos resultados son posibles en cada prueba?"
      ]
    },
    {
      "cell_type": "markdown",
      "metadata": {
        "id": "gGxcY7K8G3CO"
      },
      "source": [
        "Sí. El candidato tiene dos posibilidades, ACERTAR o FALLAR una pregunta."
      ]
    },
    {
      "cell_type": "markdown",
      "metadata": {
        "id": "MZw2LDQjG3CR"
      },
      "source": [
        "### ¿Cuál es la probabilidad de éxito ($p$)?"
      ]
    },
    {
      "cell_type": "code",
      "metadata": {
        "id": "AazGDtt0G3CS",
        "colab": {
          "base_uri": "https://localhost:8080/"
        },
        "outputId": "c2ad13dc-5deb-4fcb-f2e9-4cf9b5e4eb67"
      },
      "source": [
        "numero_de_alternativas_por_pregunta = 3\n",
        "# Probabilidad de éxito (p)\n",
        "p = 1/ numero_de_alternativas_por_pregunta\n",
        "p"
      ],
      "execution_count": 481,
      "outputs": [
        {
          "output_type": "execute_result",
          "data": {
            "text/plain": [
              "0.3333333333333333"
            ]
          },
          "metadata": {},
          "execution_count": 481
        }
      ]
    },
    {
      "cell_type": "markdown",
      "metadata": {
        "id": "KPCw41OlG3CX"
      },
      "source": [
        "### ¿Cuál es la probabilidad de fracaso ($q$)?"
      ]
    },
    {
      "cell_type": "code",
      "metadata": {
        "id": "FRhmjCnpG3CZ",
        "colab": {
          "base_uri": "https://localhost:8080/"
        },
        "outputId": "685448f2-eace-4f13-ea55-0ffb107fd186"
      },
      "source": [
        "# Probabilidad de fracaso (q)\n",
        "q = 1 - p\n",
        "q"
      ],
      "execution_count": 482,
      "outputs": [
        {
          "output_type": "execute_result",
          "data": {
            "text/plain": [
              "0.6666666666666667"
            ]
          },
          "metadata": {},
          "execution_count": 482
        }
      ]
    },
    {
      "cell_type": "markdown",
      "metadata": {
        "id": "W2htpmzaG3Ce"
      },
      "source": [
        "### ¿Cuál es el número total de eventos para tener éxito ($k$)?"
      ]
    },
    {
      "cell_type": "code",
      "metadata": {
        "id": "MmHpiIIuG3Cj",
        "colab": {
          "base_uri": "https://localhost:8080/"
        },
        "outputId": "4079dfdd-4ef5-4a5d-c2d8-ccda56989292"
      },
      "source": [
        "# La cantidad mínima de respuestas correcta para pasar la etapa de selección (k)\n",
        "k = 5\n",
        "k"
      ],
      "execution_count": 483,
      "outputs": [
        {
          "output_type": "execute_result",
          "data": {
            "text/plain": [
              "5"
            ]
          },
          "metadata": {},
          "execution_count": 483
        }
      ]
    },
    {
      "cell_type": "markdown",
      "metadata": {
        "id": "r8TZ6DSuG3Cm"
      },
      "source": [
        "### Solución 1"
      ]
    },
    {
      "cell_type": "code",
      "metadata": {
        "id": "tZBbMIzKG3Cn",
        "colab": {
          "base_uri": "https://localhost:8080/"
        },
        "outputId": "f5474610-3648-4aef-b430-07c85830f75c"
      },
      "source": [
        "# n = 10                      Número total de preguntas\n",
        "# k = 5                       Número de aciertos deseados\n",
        "# num_alternativas = 3        Número de alternativas por pregunta\n",
        "# p = 1/num_alternativas      Probabilidad de acertar una pregunta\n",
        "# q = 1 - p    Probabilidad de fallar una pregunta\n",
        "# Calcula la probabilidad de acertar exactamente 5 preguntas respondiendo al azar\n",
        "probabilidad = (comb(n,k) * (p ** k) * (q ** (n-k)))\n",
        "print(f'{probabilidad:.8f}')"
      ],
      "execution_count": 484,
      "outputs": [
        {
          "output_type": "stream",
          "name": "stdout",
          "text": [
            "0.13656455\n"
          ]
        }
      ]
    },
    {
      "cell_type": "markdown",
      "metadata": {
        "id": "rDwUvW5UG3Cq"
      },
      "source": [
        "### Importando bibliotecas\n",
        "https://docs.scipy.org/doc/scipy/reference/generated/scipy.stats.binom.html"
      ]
    },
    {
      "cell_type": "code",
      "metadata": {
        "id": "rhlsI3iLG3Cr"
      },
      "source": [
        "from scipy.stats import binom"
      ],
      "execution_count": 485,
      "outputs": []
    },
    {
      "cell_type": "markdown",
      "metadata": {
        "id": "hvj2sYaSG3Ct"
      },
      "source": [
        "### Solución 2"
      ]
    },
    {
      "cell_type": "code",
      "metadata": {
        "id": "OjS1xsz5G3Cu",
        "colab": {
          "base_uri": "https://localhost:8080/"
        },
        "outputId": "9aac5af6-daa1-43c5-fda4-2ee99607409c"
      },
      "source": [
        "# Calcula la probabilidad de acertar exactamente 5 preguntas con binom.pmf()\n",
        "# n = 10                      Número total de preguntas\n",
        "# k = 5                       Número de aciertos deseados\n",
        "# num_alternativas = 3        Número de alternativas por pregunta\n",
        "# p = 1/num_alternativas      Probabilidad de acertar una pregunta\n",
        "probabilidad = binom.pmf(k, n, p)\n",
        "print(f'{probabilidad:8f}')"
      ],
      "execution_count": 486,
      "outputs": [
        {
          "output_type": "stream",
          "name": "stdout",
          "text": [
            "0.136565\n"
          ]
        }
      ]
    },
    {
      "cell_type": "markdown",
      "metadata": {
        "id": "fT3vvRYGVeBG"
      },
      "source": [
        "### Obtenga la probabilidad de que el candidato apruebe"
      ]
    },
    {
      "cell_type": "markdown",
      "metadata": {
        "id": "SOiiR_XYVeBH"
      },
      "source": [
        "### $$P(acertar \\geq 5) = P(5) + P(6) + P(7) + P(8) + P(9) + P(10)$$"
      ]
    },
    {
      "cell_type": "markdown",
      "source": [
        ">`n = 10                      Número total de preguntas`\n",
        "\n",
        ">`k = 5                       Número de aciertos deseados`\n",
        "\n",
        ">`num_alternativas = 3        Número de alternativas por pregunta`\n",
        "\n",
        ">`p = 1/num_alternativas      Probabilidad de acertar una pregunta`"
      ],
      "metadata": {
        "id": "P40-2zIb7Wu0"
      }
    },
    {
      "cell_type": "code",
      "metadata": {
        "id": "MbBQB9JkVeBH",
        "colab": {
          "base_uri": "https://localhost:8080/"
        },
        "outputId": "aed28339-f901-4a90-96ad-57b52fc7bd7f"
      },
      "source": [
        "# Cual es la probabilidad de que el candidato acierte como mínimo 5 preguntas.\n",
        "binom.pmf(5, n, p) + binom.pmf(6, n, p) + binom.pmf(7, n, p) + binom.pmf(8, n, p) + binom.pmf(9, n, p) + binom.pmf(10, n, p)\n"
      ],
      "execution_count": 487,
      "outputs": [
        {
          "output_type": "execute_result",
          "data": {
            "text/plain": [
              "np.float64(0.21312808006909476)"
            ]
          },
          "metadata": {},
          "execution_count": 487
        }
      ]
    },
    {
      "cell_type": "code",
      "metadata": {
        "id": "JcCrf3dpVeBI",
        "colab": {
          "base_uri": "https://localhost:8080/"
        },
        "outputId": "a92cd48d-60f7-4984-bb49-d4b0755d9665"
      },
      "source": [
        "# Cual es la probabilidad de que el candidato acierte como mínimo 5 preguntas.\n",
        "# Lo mismo pero más simplificado\n",
        "binom.pmf([5,6,7,8,9,10], n, p).sum()"
      ],
      "execution_count": 488,
      "outputs": [
        {
          "output_type": "execute_result",
          "data": {
            "text/plain": [
              "np.float64(0.21312808006909476)"
            ]
          },
          "metadata": {},
          "execution_count": 488
        }
      ]
    },
    {
      "cell_type": "code",
      "metadata": {
        "id": "iiZjUp8_VeBJ",
        "colab": {
          "base_uri": "https://localhost:8080/"
        },
        "outputId": "0b8e652f-b9b3-4dba-8fb1-3b518e98b9b0"
      },
      "source": [
        "# Opción 1: utilizando complemento de la función de distribución acumulada\n",
        "# Usamos 4 como límite porque representa el **máximo número de aciertos permitido para fracasar**.\n",
        "1 - binom.cdf(4, n, p)"
      ],
      "execution_count": 489,
      "outputs": [
        {
          "output_type": "execute_result",
          "data": {
            "text/plain": [
              "np.float64(0.21312808006909523)"
            ]
          },
          "metadata": {},
          "execution_count": 489
        }
      ]
    },
    {
      "cell_type": "markdown",
      "source": [
        "**P(X = k)**\n",
        "\n",
        "Se lee:  \n",
        ">**\"Probabilidad de que X sea igual a k\"**\n",
        "\n",
        "O más específicamente en este contexto:  \n",
        "\n",
        ">**\"Probabilidad de que el candidato acierte exactamente k preguntas\"**\n",
        "\n",
        "---\n",
        "\n",
        "**Ejemplos prácticos:**\n",
        "\n",
        "- `P(X = 5)` → Probabilidad de acertar **exactamente 5 preguntas**\n",
        "- `P(X ≤ 4)` → Probabilidad de acertar **como máximo 4 preguntas**\n",
        "- `P(X ≥ 5)` → Probabilidad de acertar **5 o más preguntas**\n",
        "- `P(X > 7)` → Probabilidad de acertar **más de 7 preguntas**\n"
      ],
      "metadata": {
        "id": "LonN9FiE68OU"
      }
    },
    {
      "cell_type": "code",
      "metadata": {
        "id": "r-hkg9l4VeBK",
        "colab": {
          "base_uri": "https://localhost:8080/"
        },
        "outputId": "638003fe-c532-40b6-913c-4b8f10a2c4e8"
      },
      "source": [
        "# Opción 2: utilizando survival function (P(X > 4) = P(X ≥ 5))\n",
        "# Es equivalente a 1 - binom.cdf(4, n, p), pero más directa y precisa numéricamente.\n",
        "# Usamos 4 como límite porque representa el **máximo número de aciertos permitido para fracasar**.\n",
        "binom.sf(4, n, p)"
      ],
      "execution_count": 490,
      "outputs": [
        {
          "output_type": "execute_result",
          "data": {
            "text/plain": [
              "np.float64(0.21312808006909525)"
            ]
          },
          "metadata": {},
          "execution_count": 490
        }
      ]
    },
    {
      "cell_type": "markdown",
      "source": [
        "* Una moneda perfectamente equilibrada se lanza al aire cuatro veces. Usando la distribución binomial, obtenga la probabilidad de que la moneda caiga con la cruz hacia arriba dos veces.\n"
      ],
      "metadata": {
        "id": "bCv6T-0q_JWY"
      }
    },
    {
      "cell_type": "code",
      "source": [
        "from scipy.stats import binom\n",
        "# pmf = Probability Mass Function\n",
        "# Calcula la probabilidad de que la variable aleatoria sea exactamente igual a un valor específico.\n",
        "\n",
        "p = 1 / 2      # Probabilidad de salir CRUZ\n",
        "n = 4          # Total de lanzamientos\n",
        "k = 2          # Total de aciertos (CRUZ hacia arriba)\n",
        "\n",
        "binom.pmf(k, n, p)"
      ],
      "metadata": {
        "colab": {
          "base_uri": "https://localhost:8080/"
        },
        "id": "jU3V3OfX7Lqm",
        "outputId": "e8cff365-a7a8-4d50-9f78-11f10d1b784e"
      },
      "execution_count": 491,
      "outputs": [
        {
          "output_type": "execute_result",
          "data": {
            "text/plain": [
              "np.float64(0.375)"
            ]
          },
          "metadata": {},
          "execution_count": 491
        }
      ]
    },
    {
      "cell_type": "markdown",
      "source": [
        "* Un dado perfectamente equilibrado se lanza hacia arriba diez veces. Usando la distribución binomial, obtenga la probabilidad de que los dados caigan con el número cinco hacia arriba al menos tres veces."
      ],
      "metadata": {
        "id": "NDl8X6TT_iLH"
      }
    },
    {
      "cell_type": "code",
      "source": [
        "# Distribución Binomial - Probabilidad de obtener al menos 3 veces el número 5 al lanzar un dado 10 veces\n",
        "\n",
        "p = 1/6 # Probabilidad de salir el número CINCO\n",
        "n = 10  # Total de lanzamientos\n",
        "k = 2   # Máximo número de veces permitido para que NO se considere común\n",
        "\n",
        "# Calculamos P(X ≥ 3) = P(X > 2) usando survival function (sf)\n",
        "# Calcula la probabilidad en porcentaje de obtener el número cinco al menos 3 veces\n",
        "binom.sf(k, n, p) * 100\n"
      ],
      "metadata": {
        "colab": {
          "base_uri": "https://localhost:8080/"
        },
        "id": "ekpVoHbg_icv",
        "outputId": "864f9914-e78d-4937-b27f-961787ddd024"
      },
      "execution_count": 492,
      "outputs": [
        {
          "output_type": "execute_result",
          "data": {
            "text/plain": [
              "np.float64(22.477320212874055)"
            ]
          },
          "metadata": {},
          "execution_count": 492
        }
      ]
    },
    {
      "cell_type": "markdown",
      "metadata": {
        "id": "7hAZ4XkMG3Cx"
      },
      "source": [
        "## <font color='blue'>Ejemplo: Yincana</font>"
      ]
    },
    {
      "cell_type": "markdown",
      "metadata": {
        "id": "l42alRhOG3Cy"
      },
      "source": [
        "Una ciudad del interior realiza una yincana cada año para recaudar fondos para el hospital de la ciudad. En la última competencia se sabe que la **proporción de mujeres participantes fue del 60%**. **El número total de equipos, con 12 miembros, inscritos en la yincana de este año es 30**. Con la información anterior, responda: ¿Cuántos equipos deberían estar formados por **8 mujeres**?"
      ]
    },
    {
      "cell_type": "markdown",
      "metadata": {
        "id": "dqBGf6d7G3C0"
      },
      "source": [
        "### Solución"
      ]
    },
    {
      "cell_type": "code",
      "metadata": {
        "id": "R3-RaxP5G3C3",
        "colab": {
          "base_uri": "https://localhost:8080/"
        },
        "outputId": "b5d5b74b-c554-47e3-f352-fc043696082b"
      },
      "source": [
        "# Probabilidad de seleccionar una persona del sexo femenino\n",
        "p = 0.6\n",
        "p"
      ],
      "execution_count": 493,
      "outputs": [
        {
          "output_type": "execute_result",
          "data": {
            "text/plain": [
              "0.6"
            ]
          },
          "metadata": {},
          "execution_count": 493
        }
      ]
    },
    {
      "cell_type": "code",
      "source": [
        "# Cantidad de personas en cada equipo\n",
        "n = 12\n",
        "n"
      ],
      "metadata": {
        "colab": {
          "base_uri": "https://localhost:8080/"
        },
        "id": "k1naev-CmpMt",
        "outputId": "85163dbc-137b-4027-9b4d-6cff8b58c2af"
      },
      "execution_count": 494,
      "outputs": [
        {
          "output_type": "execute_result",
          "data": {
            "text/plain": [
              "12"
            ]
          },
          "metadata": {},
          "execution_count": 494
        }
      ]
    },
    {
      "cell_type": "code",
      "source": [
        "# Cantidad de mujeres que queremos en cada equipo\n",
        "k = 8\n",
        "k"
      ],
      "metadata": {
        "colab": {
          "base_uri": "https://localhost:8080/"
        },
        "id": "_bFWSCqem3bD",
        "outputId": "c7b4e0c1-b4f6-49db-eae0-2368eb3c86c1"
      },
      "execution_count": 495,
      "outputs": [
        {
          "output_type": "execute_result",
          "data": {
            "text/plain": [
              "8"
            ]
          },
          "metadata": {},
          "execution_count": 495
        }
      ]
    },
    {
      "cell_type": "code",
      "source": [
        "# Calcula la probabilidad de que un equipo tenga exactamente 8 mujeres\n",
        "probabilildad = binom.pmf(k, n, p)\n",
        "print(f'{probabilidad:.8f}')"
      ],
      "metadata": {
        "colab": {
          "base_uri": "https://localhost:8080/"
        },
        "id": "T9PanYfVnRBD",
        "outputId": "fcc72249-1af7-4c5d-c83b-00cf916b081b"
      },
      "execution_count": 496,
      "outputs": [
        {
          "output_type": "stream",
          "name": "stdout",
          "text": [
            "0.13656455\n"
          ]
        }
      ]
    },
    {
      "cell_type": "code",
      "metadata": {
        "id": "Xw9b6ch3G3C1",
        "colab": {
          "base_uri": "https://localhost:8080/"
        },
        "outputId": "351df135-1742-4aec-ecc2-31580b1403d7"
      },
      "source": [
        "# Calcula el número esperado de equipos con exactamente 8 mujeres\n",
        "# Multiplicamos la probabilidad por el total de equipos inscritos\n",
        "equipo = 30 * probabilidad\n",
        "equipo"
      ],
      "execution_count": 497,
      "outputs": [
        {
          "output_type": "execute_result",
          "data": {
            "text/plain": [
              "np.float64(4.096936442615444)"
            ]
          },
          "metadata": {},
          "execution_count": 497
        }
      ]
    },
    {
      "cell_type": "markdown",
      "source": [
        "**Ejercicio**\n",
        "\n",
        "> Suponga que la probabilidad de que una pareja tenga hijos con ojos azules es del 22%. En 50 familias, con 3 hijos cada una, ¿cuántas podemos esperar que tengan dos hijos con ojos azules?"
      ],
      "metadata": {
        "id": "GRyEgq3dsYJb"
      }
    },
    {
      "cell_type": "code",
      "source": [
        "# Distribución Binomial - Estimación del número de familias con exactamente 2 hijos de ojos azules\n",
        "# En una población donde la probabilidad de que un hijo tenga ojos azules es del 22% (p = 0.22),\n",
        "# se analiza un grupo de 50 familias, cada una con 3 hijos.\n",
        "# Se desea saber cuántas de esas familias tienen exactamente 2 hijos con ojos azules.\n",
        "\n",
        "p = 0.22   # Probabilidad de que un hijo tenga ojos azules\n",
        "n = 3      # Número de hijos por familia\n",
        "k = 2      # Número deseado de hijos con ojos azules\n",
        "familias = 50  # Total de familias analizadas\n",
        "\n",
        "# Calcula la probabilidad de que una familia tenga exactamente 2 hijos con ojos azules\n",
        "probabilidad = binom.pmf(k, n, p)\n",
        "\n",
        "# Multiplica por el total de familias para obtener la cantidad esperada\n",
        "esperado = familias * probabilidad\n",
        "\n",
        "# Muestra el resultado\n",
        "print(f'Probabilidad de tener exactamente 2 hijos con ojos azules: {probabilidad:.6f}')\n",
        "print(f'Cantidad esperada de familias con 2 hijos con ojos azules: {esperado:.2f}')"
      ],
      "metadata": {
        "colab": {
          "base_uri": "https://localhost:8080/"
        },
        "id": "ofxWFR9dr7C6",
        "outputId": "536ec728-f919-4175-a4b1-15e6710986c6"
      },
      "execution_count": 498,
      "outputs": [
        {
          "output_type": "stream",
          "name": "stdout",
          "text": [
            "Probabilidad de tener exactamente 2 hijos con ojos azules: 0.113256\n",
            "Cantidad esperada de familias con 2 hijos con ojos azules: 5.66\n"
          ]
        }
      ]
    },
    {
      "cell_type": "markdown",
      "metadata": {
        "id": "49TiCQRvG3DC"
      },
      "source": [
        "---\n",
        "---"
      ]
    },
    {
      "cell_type": "markdown",
      "metadata": {
        "id": "X6bYonAZG3DE"
      },
      "source": [
        "## <font color=red>Problema</font>\n",
        "***"
      ]
    },
    {
      "cell_type": "markdown",
      "metadata": {
        "id": "Ccx-Bc9oG3DH"
      },
      "source": [
        "Un restaurante recibe un promedio de **20 pedidos por hora**. ¿Cuál es la probabilidad de que, en un momento determinado al azar, el restaurante reciba **15 pedidos**?"
      ]
    },
    {
      "cell_type": "code",
      "source": [],
      "metadata": {
        "id": "wN1FLjl5oIac"
      },
      "execution_count": 498,
      "outputs": []
    },
    {
      "cell_type": "markdown",
      "metadata": {
        "id": "k-uV7bgsmand"
      },
      "source": [
        "## <font color=green>2.2 Distribución Poisson</font>\n",
        "***"
      ]
    },
    {
      "cell_type": "markdown",
      "metadata": {
        "id": "H0jPtJICG3DM"
      },
      "source": [
        "Se utiliza para describir el número de ocurrencias en un tiempo o espacio específico. Los eventos se caracterizan por la posibilidad de contar los éxitos, pero no poder contar los fracasos.\n",
        "\n",
        "Como ejemplos de procesos donde podemos aplicar la distribución de Poisson tenemos la determinación del número de clientes que ingresan a una tienda en un momento determinado, el número de autos que llegan a un Auto-servicio de una cafetería a la hora del almuerzo, la determinación del número de accidentes registrados en un tramo de carretera, etc."
      ]
    },
    {
      "cell_type": "markdown",
      "metadata": {
        "id": "O_XqwANJG3DN"
      },
      "source": [
        "# $$P(k) = \\frac{e^{-\\mu}(\\mu)^k}{k!}$$\n",
        "\n",
        "Donde:\n",
        "\n",
        "$e$ = constante cuyo valor aproximado es 2.718281828459045\n",
        "\n",
        "$\\mu$ = representa el número promedio de ocurrencias en un intervalo de tiempo o espacio dado\n",
        "\n",
        "$k$ = número de éxitos en el intervalo deseado"
      ]
    },
    {
      "cell_type": "markdown",
      "metadata": {
        "id": "FqquU8wOG3DO"
      },
      "source": [
        "### Experimento Poisson"
      ]
    },
    {
      "cell_type": "markdown",
      "metadata": {
        "id": "ir2odEW3G3DO"
      },
      "source": [
        "1. La probabilidad de que ocurra es la misma en todo el intervalo observado.\n",
        "\n",
        "2. El número de ocurrencias en un intervalo dado es independiente del número de ocurrencias en otros intervalos.\n",
        "\n",
        "3. La probabilidad de que ocurra es la misma en intervalos de igual longitud."
      ]
    },
    {
      "cell_type": "markdown",
      "metadata": {
        "id": "2INlWMa0G3DP"
      },
      "source": [
        "### Media de la distribución Poisson"
      ]
    },
    {
      "cell_type": "markdown",
      "metadata": {
        "id": "xywTsniCG3DP"
      },
      "source": [
        "# $$\\mu$$"
      ]
    },
    {
      "cell_type": "markdown",
      "metadata": {
        "id": "7-Lh-LpfG3DQ"
      },
      "source": [
        "### Desviación estándar de la distribución Poisson"
      ]
    },
    {
      "cell_type": "markdown",
      "metadata": {
        "id": "61uStWUsG3DQ"
      },
      "source": [
        "# $$\\sigma = \\sqrt{\\mu}$$"
      ]
    },
    {
      "cell_type": "markdown",
      "metadata": {
        "id": "vniBmzIMG3DR"
      },
      "source": [
        "### Importando bibliotecas\n",
        "\n",
        "http://www.numpy.org/"
      ]
    },
    {
      "cell_type": "code",
      "metadata": {
        "id": "w23fjVT-G3DS"
      },
      "source": [
        "import numpy as np\n",
        "import math"
      ],
      "execution_count": 499,
      "outputs": []
    },
    {
      "cell_type": "code",
      "metadata": {
        "id": "rdNqMuFNG3DU",
        "colab": {
          "base_uri": "https://localhost:8080/"
        },
        "outputId": "9da85117-9957-46bd-b684-6d6828a84a35"
      },
      "source": [
        "np.e"
      ],
      "execution_count": 500,
      "outputs": [
        {
          "output_type": "execute_result",
          "data": {
            "text/plain": [
              "2.718281828459045"
            ]
          },
          "metadata": {},
          "execution_count": 500
        }
      ]
    },
    {
      "cell_type": "markdown",
      "metadata": {
        "id": "RKQWuVgMG3DW"
      },
      "source": [
        "## <font color='blue'>Ejemplo: Delivery</font>"
      ]
    },
    {
      "cell_type": "markdown",
      "metadata": {
        "id": "ZKc__49bG3DX"
      },
      "source": [
        "Un restaurante recibe un promedio de **20 pedidos por hora**. ¿Cuál es la probabilidad de que, en un momento determinado al azar, el restaurante reciba **15 pedidos**?"
      ]
    },
    {
      "cell_type": "markdown",
      "metadata": {
        "id": "W-MJ4XBkG3DX"
      },
      "source": [
        "### ¿Cuál es el número promedio de ocurrencias por hora ($\\mu$)?"
      ]
    },
    {
      "cell_type": "code",
      "metadata": {
        "id": "2fVfJxdSG3DY",
        "colab": {
          "base_uri": "https://localhost:8080/"
        },
        "outputId": "486ae4d4-1f7f-4825-c1b5-38c270c33261"
      },
      "source": [
        "# λ → promedio de pedidos por hora\n",
        "media = 20\n",
        "media"
      ],
      "execution_count": 501,
      "outputs": [
        {
          "output_type": "execute_result",
          "data": {
            "text/plain": [
              "20"
            ]
          },
          "metadata": {},
          "execution_count": 501
        }
      ]
    },
    {
      "cell_type": "markdown",
      "metadata": {
        "id": "3SagRtPvG3Da"
      },
      "source": [
        "### ¿Qué número de ocurrencias queremos obtener en el período ($k$)?"
      ]
    },
    {
      "cell_type": "code",
      "metadata": {
        "id": "yXB3QhWyG3Da",
        "colab": {
          "base_uri": "https://localhost:8080/"
        },
        "outputId": "6538dc1d-99c3-4be9-f9b2-32c582999529"
      },
      "source": [
        "# número exacto de pedidos deseados\n",
        "k = 15\n",
        "k"
      ],
      "execution_count": 502,
      "outputs": [
        {
          "output_type": "execute_result",
          "data": {
            "text/plain": [
              "15"
            ]
          },
          "metadata": {},
          "execution_count": 502
        }
      ]
    },
    {
      "cell_type": "markdown",
      "metadata": {
        "id": "3wFh3lFCG3De"
      },
      "source": [
        "### Solución 1"
      ]
    },
    {
      "cell_type": "code",
      "metadata": {
        "id": "IEGO31WCG3Df"
      },
      "source": [
        "# Distribución de Poisson - Cálculo manual de la probabilidad puntual\n",
        "# Caso: el restaurante recibe en promedio 20 pedidos por hora (λ = 20)\n",
        "# Queremos calcular la probabilidad de que reciba exactamente 15 pedidos en una hora\n",
        "\n",
        "# Aplica la fórmula de la distribución de Poisson:\n",
        "# P(X = k) = (e^(-λ) * λ^k) / k!\n",
        "probabilidad = ((np.e ** (-media)) * (media ** k)) / (math.factorial(k))\n",
        "\n",
        "# Imprime el resultado redondeado como porcentaje con 2 decimales\n"
      ],
      "execution_count": 503,
      "outputs": []
    },
    {
      "cell_type": "markdown",
      "metadata": {
        "id": "GoIBvH62G3Di"
      },
      "source": [
        "### Importando bibliotecas"
      ]
    },
    {
      "cell_type": "markdown",
      "metadata": {
        "id": "iFSF_9Y4G3Dj"
      },
      "source": [
        "https://docs.scipy.org/doc/scipy/reference/generated/scipy.stats.poisson.html"
      ]
    },
    {
      "cell_type": "markdown",
      "metadata": {
        "id": "yAyXh0euG3Dk"
      },
      "source": [
        "### Solución 2"
      ]
    },
    {
      "cell_type": "code",
      "metadata": {
        "id": "sNw4oCAyG3Dk",
        "colab": {
          "base_uri": "https://localhost:8080/"
        },
        "outputId": "a72c6d16-c74d-47e1-e1d6-7670a7350560"
      },
      "source": [
        "from scipy.stats import poisson\n",
        "\n",
        "# Distribución de Poisson - Cálculo con scipy.stats\n",
        "# Caso: un restaurante recibe en promedio 20 pedidos por hora (λ = 20)\n",
        "# Se desea calcular la probabilidad de recibir exactamente 15 pedidos en una hora\n",
        "\n",
        "# Calcula la probabilidad de recibir exactamente 15 pedidos\n",
        "# Utiliza la función poisson.pmf(k, λ)\n",
        "probabilidad = poisson.pmf(k,media)\n",
        "# Imprime la probabilidad en porcentaje, redondeada a 2 decimales\n",
        "print(f'La probabilidad es de {round(probabilidad * 100, 2)}% de que el restaurante reciba exactamente {k} pedidos en una hora.')"
      ],
      "execution_count": 504,
      "outputs": [
        {
          "output_type": "stream",
          "name": "stdout",
          "text": [
            "La probabilidad es de 5.16% de que el restaurante reciba exactamente 15 pedidos en una hora.\n"
          ]
        }
      ]
    },
    {
      "cell_type": "markdown",
      "source": [
        "**Ejercicio:**\n",
        ">El número media de clientes que ingresan a una panadería por hora es 20. Obtenga la probabilidad de que, en la próxima hora, ingresen exactamente 25 clientes."
      ],
      "metadata": {
        "id": "yrmbm8A4EQmU"
      }
    },
    {
      "cell_type": "code",
      "source": [
        "from scipy.stats import poisson\n",
        "media = 20\n",
        "k = 25\n",
        "probabilidad = poisson.pmf(k,media)\n",
        "# Imprime la probabilidad en porcentaje, redondeada a 2 decimales\n",
        "print(f'La probabilidad es de {probabilidad:.2%} de que el restaurante reciba exactamente {k} pedidos en una hora.')"
      ],
      "metadata": {
        "colab": {
          "base_uri": "https://localhost:8080/"
        },
        "id": "IiPIiivgEHpB",
        "outputId": "53fa8fe0-a4d6-4c7f-9aa1-d2ad61fdcb21"
      },
      "execution_count": 505,
      "outputs": [
        {
          "output_type": "stream",
          "name": "stdout",
          "text": [
            "La probabilidad es de 4.46% de que el restaurante reciba exactamente 25 pedidos en una hora.\n"
          ]
        }
      ]
    },
    {
      "cell_type": "markdown",
      "metadata": {
        "id": "g3ng8tQFG3Do"
      },
      "source": [
        "---\n",
        "---"
      ]
    },
    {
      "cell_type": "markdown",
      "metadata": {
        "id": "tVPUT9kEG3Dp"
      },
      "source": [
        "## <font color=red>Problema</font>\n",
        "***"
      ]
    },
    {
      "cell_type": "markdown",
      "metadata": {
        "id": "j7zVDN0kG3Dq"
      },
      "source": [
        "En un estudio sobre la altura de los residentes de una ciudad, se encontró que el conjunto de datos sigue una **distribución aproximadamente normal**, con **media 1.70** y **desviación estándar de 0.1**. Con esta información, obtenga el siguiente conjunto de probabilidades:\n",
        "\n",
        "> **A.** probabilidad de que una persona, seleccionada al azar, sea menor de 1.80 metros.\n",
        "\n",
        "> **B.** probabilidad de que una persona, seleccionada al azar, tenga entre 1.60 metros y 1.80 metros.\n",
        "\n",
        "> **C.** probabilidad de que una persona, seleccionada al azar, tenga más de 1.90 metros.\n"
      ]
    },
    {
      "cell_type": "code",
      "source": [],
      "metadata": {
        "id": "E1kgKJXID0VH"
      },
      "execution_count": 505,
      "outputs": []
    },
    {
      "cell_type": "markdown",
      "metadata": {
        "id": "AowcVaKqpvf2"
      },
      "source": [
        "## <font color=green>2.3 Distribución Normal</font>\n",
        "***"
      ]
    },
    {
      "cell_type": "markdown",
      "metadata": {
        "id": "YOBD21hGG3Dw"
      },
      "source": [
        "La distribución normal es una de las más utilizadas en estadística. Es una distribución continua, donde la distribución de frecuencias de una variable cuantitativa tiene forma de campana y es simétrica en relación con su media."
      ]
    },
    {
      "cell_type": "markdown",
      "metadata": {
        "id": "kbPy2ORqqKJA"
      },
      "source": [
        "<img src='https://caelum-online-public.s3.amazonaws.com/ESP-1764-estadistica-con-python-probabilidad-y-muestreo/img001.png' width='500px'>"
      ]
    },
    {
      "cell_type": "markdown",
      "metadata": {
        "id": "J3eKESHTG3Dx"
      },
      "source": [
        "### Características importantes"
      ]
    },
    {
      "cell_type": "markdown",
      "metadata": {
        "id": "z8GxAzWZG3Dx"
      },
      "source": [
        "1. Es simétrica alrededor de la media;\n",
        "\n",
        "2. El área bajo la curva corresponde a la proporción 1 o 100%;\n",
        "\n",
        "3. Las medidas de tendencia central (media, mediana y moda) tienen el mismo valor;\n",
        "\n",
        "4. Los extremos de la curva tienden al infinito en ambas direcciones y, teóricamente, nunca tocan el eje $x$;\n",
        "\n",
        "5. La desviación estándar define la planitud y el ancho de la distribución. Las curvas más anchas y planas tienen valores de desviación estándar más altos;\n",
        "\n",
        "6. La distribución se define por su media y desviación estándar;\n",
        "\n",
        "7. La probabilidad siempre será igual al área bajo la curva, delimitada por los límites superior e inferior."
      ]
    },
    {
      "cell_type": "markdown",
      "metadata": {
        "id": "hoWLlOiwG3Dy"
      },
      "source": [
        "# $$f(x) = \\frac{1}{\\sqrt{2\\pi\\sigma}}e^{-\\frac{1}{2}\\left(\\frac{x-\\mu}{\\sigma}\\right)^2}$$\n",
        "\n",
        "Donde:\n",
        "\n",
        "$x$ = variable normal\n",
        "\n",
        "$\\sigma$ = desviación estándar\n",
        "\n",
        "$\\mu$ = media"
      ]
    },
    {
      "cell_type": "markdown",
      "metadata": {
        "id": "8n03Z0VlG3Dz"
      },
      "source": [
        "La probabilidad se obtiene del área bajo la curva, delimitada por los límites superior e inferior especificados. Se puede ver un ejemplo en la figura siguiente."
      ]
    },
    {
      "cell_type": "markdown",
      "metadata": {
        "id": "X1UgmFoxG3Dz"
      },
      "source": [
        "<img src='https://caelum-online-public.s3.amazonaws.com/ESP-1764-estadistica-con-python-probabilidad-y-muestreo/img002.png' width='500px'>\n"
      ]
    },
    {
      "cell_type": "markdown",
      "metadata": {
        "id": "rtKiApHLG3D0"
      },
      "source": [
        "Para obtener el área anterior, simplemente calcule la integral de la función para los intervalos determinados. Según la siguiente ecuación:"
      ]
    },
    {
      "cell_type": "markdown",
      "metadata": {
        "id": "0r_9CbSOG3D0"
      },
      "source": [
        "# $$P(L_i<x<L_s) = \\int_{L_i}^{L_s}\\frac{1}{\\sqrt{2\\pi\\sigma}}e^{-\\frac{1}{2}\\left(\\frac{x-\\mu}{\\sigma}\\right)^2}$$\n",
        "\n",
        "Donde:\n",
        "\n",
        "$x$ = variable normal\n",
        "\n",
        "$\\sigma$ = desviación estándar\n",
        "\n",
        "$\\mu$ = media\n",
        "\n",
        "$L_i$ = límite inferior\n",
        "\n",
        "$L_s$ = límite superior"
      ]
    },
    {
      "cell_type": "markdown",
      "metadata": {
        "id": "qP-Ye-leG3D1"
      },
      "source": [
        "### Tablas estandarizadas"
      ]
    },
    {
      "cell_type": "markdown",
      "metadata": {
        "id": "Z1VnLK11G3D1"
      },
      "source": [
        "Se crearon tablas estandarizadas para facilitar la obtención de los valores de las áreas bajo la curva normal y eliminar la necesidad de resolver integrales definidas.\n",
        "\n",
        "Para ver los valores en una tabla estandarizada, simplemente transforme nuestra variable en una variable estandarizada $Z$.\n",
        "\n",
        "Esta variable $Z$ representa la desviación en las desviaciones estándar de un valor de la variable original en relación con la media."
      ]
    },
    {
      "cell_type": "markdown",
      "metadata": {
        "id": "HJcdgdsgG3D2"
      },
      "source": [
        "# $$Z = \\frac{x-\\mu}{\\sigma}$$\n",
        "\n",
        "Donde:\n",
        "\n",
        "$x$ = variable normal con media $\\mu$ y desviación estándar $\\sigma$\n",
        "\n",
        "$\\sigma$ = desviación estándar\n",
        "\n",
        "$\\mu$ = media"
      ]
    },
    {
      "cell_type": "markdown",
      "metadata": {
        "id": "hUrVKJH3G3D2"
      },
      "source": [
        "### Construyendo la tabla normal estandarizada\n",
        "https://docs.scipy.org/doc/scipy/reference/generated/scipy.stats.norm.html"
      ]
    },
    {
      "cell_type": "code",
      "metadata": {
        "colab": {
          "base_uri": "https://localhost:8080/",
          "height": 1000
        },
        "id": "7SudUNlcG3D4",
        "outputId": "dcf14a58-1de4-4dc7-9bd2-bcd65da8e2a4"
      },
      "source": [
        "import pandas as pd\n",
        "import numpy as np\n",
        "from scipy.stats import norm\n",
        "\n",
        "# Tabla de la distribución normal estándar acumulada (Z)\n",
        "# Se construye una tabla tipo \"tabla Z\" que muestra los valores de la función de distribución acumulada (CDF)\n",
        "# para distintos valores de Z (de 0.00 a 3.90 en pasos de 0.01)\n",
        "\n",
        "# Crea el DataFrame vacío con índices y columnas formateados como strings de 2 decimales\n",
        "# Las filas van desde 0.00 hasta 3.90 en pasos de 0.10\n",
        "# Las columnas van desde 0.00 hasta 0.09 en pasos de 0.01\n",
        "tabla_normal_estandarizada = pd.DataFrame(\n",
        "    [],  # Data vacía por ahora\n",
        "    index=[\"{0:0.2f}\".format(i / 100) for i in range(0, 400, 10)],  # 0.00, 0.10, ..., 3.90\n",
        "    columns=[\"{0:0.2f}\".format(i / 100) for i in range(0, 10)]     # 0.00, 0.01, ..., 0.09\n",
        ")\n",
        "\n",
        "# Llena la tabla con los valores de probabilidad acumulada de la distribución normal estándar\n",
        "# Para cada celda, se suma la fila + columna para obtener el valor Z (por ejemplo, 1.20 + 0.06 = 1.26)\n",
        "for index in tabla_normal_estandarizada.index:\n",
        "    for column in tabla_normal_estandarizada.columns:\n",
        "        Z = np.round(float(index) + float(column), 2)\n",
        "        tabla_normal_estandarizada.loc[index, column] = \"{0:0.4f}\".format(norm.cdf(Z))  # CDF acumulada\n",
        "\n",
        "# Renombra el eje de las columnas como \"Z\" para dejar más clara su función\n",
        "tabla_normal_estandarizada.rename_axis('Z', axis='columns', inplace=True)\n",
        "\n",
        "# Muestra la tabla final con valores acumulados de la distribución normal estándar\n",
        "tabla_normal_estandarizada"
      ],
      "execution_count": 506,
      "outputs": [
        {
          "output_type": "execute_result",
          "data": {
            "text/plain": [
              "Z       0.00    0.01    0.02    0.03    0.04    0.05    0.06    0.07    0.08  \\\n",
              "0.00  0.5000  0.5040  0.5080  0.5120  0.5160  0.5199  0.5239  0.5279  0.5319   \n",
              "0.10  0.5398  0.5438  0.5478  0.5517  0.5557  0.5596  0.5636  0.5675  0.5714   \n",
              "0.20  0.5793  0.5832  0.5871  0.5910  0.5948  0.5987  0.6026  0.6064  0.6103   \n",
              "0.30  0.6179  0.6217  0.6255  0.6293  0.6331  0.6368  0.6406  0.6443  0.6480   \n",
              "0.40  0.6554  0.6591  0.6628  0.6664  0.6700  0.6736  0.6772  0.6808  0.6844   \n",
              "0.50  0.6915  0.6950  0.6985  0.7019  0.7054  0.7088  0.7123  0.7157  0.7190   \n",
              "0.60  0.7257  0.7291  0.7324  0.7357  0.7389  0.7422  0.7454  0.7486  0.7517   \n",
              "0.70  0.7580  0.7611  0.7642  0.7673  0.7704  0.7734  0.7764  0.7794  0.7823   \n",
              "0.80  0.7881  0.7910  0.7939  0.7967  0.7995  0.8023  0.8051  0.8078  0.8106   \n",
              "0.90  0.8159  0.8186  0.8212  0.8238  0.8264  0.8289  0.8315  0.8340  0.8365   \n",
              "1.00  0.8413  0.8438  0.8461  0.8485  0.8508  0.8531  0.8554  0.8577  0.8599   \n",
              "1.10  0.8643  0.8665  0.8686  0.8708  0.8729  0.8749  0.8770  0.8790  0.8810   \n",
              "1.20  0.8849  0.8869  0.8888  0.8907  0.8925  0.8944  0.8962  0.8980  0.8997   \n",
              "1.30  0.9032  0.9049  0.9066  0.9082  0.9099  0.9115  0.9131  0.9147  0.9162   \n",
              "1.40  0.9192  0.9207  0.9222  0.9236  0.9251  0.9265  0.9279  0.9292  0.9306   \n",
              "1.50  0.9332  0.9345  0.9357  0.9370  0.9382  0.9394  0.9406  0.9418  0.9429   \n",
              "1.60  0.9452  0.9463  0.9474  0.9484  0.9495  0.9505  0.9515  0.9525  0.9535   \n",
              "1.70  0.9554  0.9564  0.9573  0.9582  0.9591  0.9599  0.9608  0.9616  0.9625   \n",
              "1.80  0.9641  0.9649  0.9656  0.9664  0.9671  0.9678  0.9686  0.9693  0.9699   \n",
              "1.90  0.9713  0.9719  0.9726  0.9732  0.9738  0.9744  0.9750  0.9756  0.9761   \n",
              "2.00  0.9772  0.9778  0.9783  0.9788  0.9793  0.9798  0.9803  0.9808  0.9812   \n",
              "2.10  0.9821  0.9826  0.9830  0.9834  0.9838  0.9842  0.9846  0.9850  0.9854   \n",
              "2.20  0.9861  0.9864  0.9868  0.9871  0.9875  0.9878  0.9881  0.9884  0.9887   \n",
              "2.30  0.9893  0.9896  0.9898  0.9901  0.9904  0.9906  0.9909  0.9911  0.9913   \n",
              "2.40  0.9918  0.9920  0.9922  0.9925  0.9927  0.9929  0.9931  0.9932  0.9934   \n",
              "2.50  0.9938  0.9940  0.9941  0.9943  0.9945  0.9946  0.9948  0.9949  0.9951   \n",
              "2.60  0.9953  0.9955  0.9956  0.9957  0.9959  0.9960  0.9961  0.9962  0.9963   \n",
              "2.70  0.9965  0.9966  0.9967  0.9968  0.9969  0.9970  0.9971  0.9972  0.9973   \n",
              "2.80  0.9974  0.9975  0.9976  0.9977  0.9977  0.9978  0.9979  0.9979  0.9980   \n",
              "2.90  0.9981  0.9982  0.9982  0.9983  0.9984  0.9984  0.9985  0.9985  0.9986   \n",
              "3.00  0.9987  0.9987  0.9987  0.9988  0.9988  0.9989  0.9989  0.9989  0.9990   \n",
              "3.10  0.9990  0.9991  0.9991  0.9991  0.9992  0.9992  0.9992  0.9992  0.9993   \n",
              "3.20  0.9993  0.9993  0.9994  0.9994  0.9994  0.9994  0.9994  0.9995  0.9995   \n",
              "3.30  0.9995  0.9995  0.9995  0.9996  0.9996  0.9996  0.9996  0.9996  0.9996   \n",
              "3.40  0.9997  0.9997  0.9997  0.9997  0.9997  0.9997  0.9997  0.9997  0.9997   \n",
              "3.50  0.9998  0.9998  0.9998  0.9998  0.9998  0.9998  0.9998  0.9998  0.9998   \n",
              "3.60  0.9998  0.9998  0.9999  0.9999  0.9999  0.9999  0.9999  0.9999  0.9999   \n",
              "3.70  0.9999  0.9999  0.9999  0.9999  0.9999  0.9999  0.9999  0.9999  0.9999   \n",
              "3.80  0.9999  0.9999  0.9999  0.9999  0.9999  0.9999  0.9999  0.9999  0.9999   \n",
              "3.90  1.0000  1.0000  1.0000  1.0000  1.0000  1.0000  1.0000  1.0000  1.0000   \n",
              "\n",
              "Z       0.09  \n",
              "0.00  0.5359  \n",
              "0.10  0.5753  \n",
              "0.20  0.6141  \n",
              "0.30  0.6517  \n",
              "0.40  0.6879  \n",
              "0.50  0.7224  \n",
              "0.60  0.7549  \n",
              "0.70  0.7852  \n",
              "0.80  0.8133  \n",
              "0.90  0.8389  \n",
              "1.00  0.8621  \n",
              "1.10  0.8830  \n",
              "1.20  0.9015  \n",
              "1.30  0.9177  \n",
              "1.40  0.9319  \n",
              "1.50  0.9441  \n",
              "1.60  0.9545  \n",
              "1.70  0.9633  \n",
              "1.80  0.9706  \n",
              "1.90  0.9767  \n",
              "2.00  0.9817  \n",
              "2.10  0.9857  \n",
              "2.20  0.9890  \n",
              "2.30  0.9916  \n",
              "2.40  0.9936  \n",
              "2.50  0.9952  \n",
              "2.60  0.9964  \n",
              "2.70  0.9974  \n",
              "2.80  0.9981  \n",
              "2.90  0.9986  \n",
              "3.00  0.9990  \n",
              "3.10  0.9993  \n",
              "3.20  0.9995  \n",
              "3.30  0.9997  \n",
              "3.40  0.9998  \n",
              "3.50  0.9998  \n",
              "3.60  0.9999  \n",
              "3.70  0.9999  \n",
              "3.80  0.9999  \n",
              "3.90  1.0000  "
            ],
            "text/html": [
              "\n",
              "  <div id=\"df-ff1615c7-2a9a-4466-b8d8-6ed2da7a03fb\" class=\"colab-df-container\">\n",
              "    <div>\n",
              "<style scoped>\n",
              "    .dataframe tbody tr th:only-of-type {\n",
              "        vertical-align: middle;\n",
              "    }\n",
              "\n",
              "    .dataframe tbody tr th {\n",
              "        vertical-align: top;\n",
              "    }\n",
              "\n",
              "    .dataframe thead th {\n",
              "        text-align: right;\n",
              "    }\n",
              "</style>\n",
              "<table border=\"1\" class=\"dataframe\">\n",
              "  <thead>\n",
              "    <tr style=\"text-align: right;\">\n",
              "      <th>Z</th>\n",
              "      <th>0.00</th>\n",
              "      <th>0.01</th>\n",
              "      <th>0.02</th>\n",
              "      <th>0.03</th>\n",
              "      <th>0.04</th>\n",
              "      <th>0.05</th>\n",
              "      <th>0.06</th>\n",
              "      <th>0.07</th>\n",
              "      <th>0.08</th>\n",
              "      <th>0.09</th>\n",
              "    </tr>\n",
              "  </thead>\n",
              "  <tbody>\n",
              "    <tr>\n",
              "      <th>0.00</th>\n",
              "      <td>0.5000</td>\n",
              "      <td>0.5040</td>\n",
              "      <td>0.5080</td>\n",
              "      <td>0.5120</td>\n",
              "      <td>0.5160</td>\n",
              "      <td>0.5199</td>\n",
              "      <td>0.5239</td>\n",
              "      <td>0.5279</td>\n",
              "      <td>0.5319</td>\n",
              "      <td>0.5359</td>\n",
              "    </tr>\n",
              "    <tr>\n",
              "      <th>0.10</th>\n",
              "      <td>0.5398</td>\n",
              "      <td>0.5438</td>\n",
              "      <td>0.5478</td>\n",
              "      <td>0.5517</td>\n",
              "      <td>0.5557</td>\n",
              "      <td>0.5596</td>\n",
              "      <td>0.5636</td>\n",
              "      <td>0.5675</td>\n",
              "      <td>0.5714</td>\n",
              "      <td>0.5753</td>\n",
              "    </tr>\n",
              "    <tr>\n",
              "      <th>0.20</th>\n",
              "      <td>0.5793</td>\n",
              "      <td>0.5832</td>\n",
              "      <td>0.5871</td>\n",
              "      <td>0.5910</td>\n",
              "      <td>0.5948</td>\n",
              "      <td>0.5987</td>\n",
              "      <td>0.6026</td>\n",
              "      <td>0.6064</td>\n",
              "      <td>0.6103</td>\n",
              "      <td>0.6141</td>\n",
              "    </tr>\n",
              "    <tr>\n",
              "      <th>0.30</th>\n",
              "      <td>0.6179</td>\n",
              "      <td>0.6217</td>\n",
              "      <td>0.6255</td>\n",
              "      <td>0.6293</td>\n",
              "      <td>0.6331</td>\n",
              "      <td>0.6368</td>\n",
              "      <td>0.6406</td>\n",
              "      <td>0.6443</td>\n",
              "      <td>0.6480</td>\n",
              "      <td>0.6517</td>\n",
              "    </tr>\n",
              "    <tr>\n",
              "      <th>0.40</th>\n",
              "      <td>0.6554</td>\n",
              "      <td>0.6591</td>\n",
              "      <td>0.6628</td>\n",
              "      <td>0.6664</td>\n",
              "      <td>0.6700</td>\n",
              "      <td>0.6736</td>\n",
              "      <td>0.6772</td>\n",
              "      <td>0.6808</td>\n",
              "      <td>0.6844</td>\n",
              "      <td>0.6879</td>\n",
              "    </tr>\n",
              "    <tr>\n",
              "      <th>0.50</th>\n",
              "      <td>0.6915</td>\n",
              "      <td>0.6950</td>\n",
              "      <td>0.6985</td>\n",
              "      <td>0.7019</td>\n",
              "      <td>0.7054</td>\n",
              "      <td>0.7088</td>\n",
              "      <td>0.7123</td>\n",
              "      <td>0.7157</td>\n",
              "      <td>0.7190</td>\n",
              "      <td>0.7224</td>\n",
              "    </tr>\n",
              "    <tr>\n",
              "      <th>0.60</th>\n",
              "      <td>0.7257</td>\n",
              "      <td>0.7291</td>\n",
              "      <td>0.7324</td>\n",
              "      <td>0.7357</td>\n",
              "      <td>0.7389</td>\n",
              "      <td>0.7422</td>\n",
              "      <td>0.7454</td>\n",
              "      <td>0.7486</td>\n",
              "      <td>0.7517</td>\n",
              "      <td>0.7549</td>\n",
              "    </tr>\n",
              "    <tr>\n",
              "      <th>0.70</th>\n",
              "      <td>0.7580</td>\n",
              "      <td>0.7611</td>\n",
              "      <td>0.7642</td>\n",
              "      <td>0.7673</td>\n",
              "      <td>0.7704</td>\n",
              "      <td>0.7734</td>\n",
              "      <td>0.7764</td>\n",
              "      <td>0.7794</td>\n",
              "      <td>0.7823</td>\n",
              "      <td>0.7852</td>\n",
              "    </tr>\n",
              "    <tr>\n",
              "      <th>0.80</th>\n",
              "      <td>0.7881</td>\n",
              "      <td>0.7910</td>\n",
              "      <td>0.7939</td>\n",
              "      <td>0.7967</td>\n",
              "      <td>0.7995</td>\n",
              "      <td>0.8023</td>\n",
              "      <td>0.8051</td>\n",
              "      <td>0.8078</td>\n",
              "      <td>0.8106</td>\n",
              "      <td>0.8133</td>\n",
              "    </tr>\n",
              "    <tr>\n",
              "      <th>0.90</th>\n",
              "      <td>0.8159</td>\n",
              "      <td>0.8186</td>\n",
              "      <td>0.8212</td>\n",
              "      <td>0.8238</td>\n",
              "      <td>0.8264</td>\n",
              "      <td>0.8289</td>\n",
              "      <td>0.8315</td>\n",
              "      <td>0.8340</td>\n",
              "      <td>0.8365</td>\n",
              "      <td>0.8389</td>\n",
              "    </tr>\n",
              "    <tr>\n",
              "      <th>1.00</th>\n",
              "      <td>0.8413</td>\n",
              "      <td>0.8438</td>\n",
              "      <td>0.8461</td>\n",
              "      <td>0.8485</td>\n",
              "      <td>0.8508</td>\n",
              "      <td>0.8531</td>\n",
              "      <td>0.8554</td>\n",
              "      <td>0.8577</td>\n",
              "      <td>0.8599</td>\n",
              "      <td>0.8621</td>\n",
              "    </tr>\n",
              "    <tr>\n",
              "      <th>1.10</th>\n",
              "      <td>0.8643</td>\n",
              "      <td>0.8665</td>\n",
              "      <td>0.8686</td>\n",
              "      <td>0.8708</td>\n",
              "      <td>0.8729</td>\n",
              "      <td>0.8749</td>\n",
              "      <td>0.8770</td>\n",
              "      <td>0.8790</td>\n",
              "      <td>0.8810</td>\n",
              "      <td>0.8830</td>\n",
              "    </tr>\n",
              "    <tr>\n",
              "      <th>1.20</th>\n",
              "      <td>0.8849</td>\n",
              "      <td>0.8869</td>\n",
              "      <td>0.8888</td>\n",
              "      <td>0.8907</td>\n",
              "      <td>0.8925</td>\n",
              "      <td>0.8944</td>\n",
              "      <td>0.8962</td>\n",
              "      <td>0.8980</td>\n",
              "      <td>0.8997</td>\n",
              "      <td>0.9015</td>\n",
              "    </tr>\n",
              "    <tr>\n",
              "      <th>1.30</th>\n",
              "      <td>0.9032</td>\n",
              "      <td>0.9049</td>\n",
              "      <td>0.9066</td>\n",
              "      <td>0.9082</td>\n",
              "      <td>0.9099</td>\n",
              "      <td>0.9115</td>\n",
              "      <td>0.9131</td>\n",
              "      <td>0.9147</td>\n",
              "      <td>0.9162</td>\n",
              "      <td>0.9177</td>\n",
              "    </tr>\n",
              "    <tr>\n",
              "      <th>1.40</th>\n",
              "      <td>0.9192</td>\n",
              "      <td>0.9207</td>\n",
              "      <td>0.9222</td>\n",
              "      <td>0.9236</td>\n",
              "      <td>0.9251</td>\n",
              "      <td>0.9265</td>\n",
              "      <td>0.9279</td>\n",
              "      <td>0.9292</td>\n",
              "      <td>0.9306</td>\n",
              "      <td>0.9319</td>\n",
              "    </tr>\n",
              "    <tr>\n",
              "      <th>1.50</th>\n",
              "      <td>0.9332</td>\n",
              "      <td>0.9345</td>\n",
              "      <td>0.9357</td>\n",
              "      <td>0.9370</td>\n",
              "      <td>0.9382</td>\n",
              "      <td>0.9394</td>\n",
              "      <td>0.9406</td>\n",
              "      <td>0.9418</td>\n",
              "      <td>0.9429</td>\n",
              "      <td>0.9441</td>\n",
              "    </tr>\n",
              "    <tr>\n",
              "      <th>1.60</th>\n",
              "      <td>0.9452</td>\n",
              "      <td>0.9463</td>\n",
              "      <td>0.9474</td>\n",
              "      <td>0.9484</td>\n",
              "      <td>0.9495</td>\n",
              "      <td>0.9505</td>\n",
              "      <td>0.9515</td>\n",
              "      <td>0.9525</td>\n",
              "      <td>0.9535</td>\n",
              "      <td>0.9545</td>\n",
              "    </tr>\n",
              "    <tr>\n",
              "      <th>1.70</th>\n",
              "      <td>0.9554</td>\n",
              "      <td>0.9564</td>\n",
              "      <td>0.9573</td>\n",
              "      <td>0.9582</td>\n",
              "      <td>0.9591</td>\n",
              "      <td>0.9599</td>\n",
              "      <td>0.9608</td>\n",
              "      <td>0.9616</td>\n",
              "      <td>0.9625</td>\n",
              "      <td>0.9633</td>\n",
              "    </tr>\n",
              "    <tr>\n",
              "      <th>1.80</th>\n",
              "      <td>0.9641</td>\n",
              "      <td>0.9649</td>\n",
              "      <td>0.9656</td>\n",
              "      <td>0.9664</td>\n",
              "      <td>0.9671</td>\n",
              "      <td>0.9678</td>\n",
              "      <td>0.9686</td>\n",
              "      <td>0.9693</td>\n",
              "      <td>0.9699</td>\n",
              "      <td>0.9706</td>\n",
              "    </tr>\n",
              "    <tr>\n",
              "      <th>1.90</th>\n",
              "      <td>0.9713</td>\n",
              "      <td>0.9719</td>\n",
              "      <td>0.9726</td>\n",
              "      <td>0.9732</td>\n",
              "      <td>0.9738</td>\n",
              "      <td>0.9744</td>\n",
              "      <td>0.9750</td>\n",
              "      <td>0.9756</td>\n",
              "      <td>0.9761</td>\n",
              "      <td>0.9767</td>\n",
              "    </tr>\n",
              "    <tr>\n",
              "      <th>2.00</th>\n",
              "      <td>0.9772</td>\n",
              "      <td>0.9778</td>\n",
              "      <td>0.9783</td>\n",
              "      <td>0.9788</td>\n",
              "      <td>0.9793</td>\n",
              "      <td>0.9798</td>\n",
              "      <td>0.9803</td>\n",
              "      <td>0.9808</td>\n",
              "      <td>0.9812</td>\n",
              "      <td>0.9817</td>\n",
              "    </tr>\n",
              "    <tr>\n",
              "      <th>2.10</th>\n",
              "      <td>0.9821</td>\n",
              "      <td>0.9826</td>\n",
              "      <td>0.9830</td>\n",
              "      <td>0.9834</td>\n",
              "      <td>0.9838</td>\n",
              "      <td>0.9842</td>\n",
              "      <td>0.9846</td>\n",
              "      <td>0.9850</td>\n",
              "      <td>0.9854</td>\n",
              "      <td>0.9857</td>\n",
              "    </tr>\n",
              "    <tr>\n",
              "      <th>2.20</th>\n",
              "      <td>0.9861</td>\n",
              "      <td>0.9864</td>\n",
              "      <td>0.9868</td>\n",
              "      <td>0.9871</td>\n",
              "      <td>0.9875</td>\n",
              "      <td>0.9878</td>\n",
              "      <td>0.9881</td>\n",
              "      <td>0.9884</td>\n",
              "      <td>0.9887</td>\n",
              "      <td>0.9890</td>\n",
              "    </tr>\n",
              "    <tr>\n",
              "      <th>2.30</th>\n",
              "      <td>0.9893</td>\n",
              "      <td>0.9896</td>\n",
              "      <td>0.9898</td>\n",
              "      <td>0.9901</td>\n",
              "      <td>0.9904</td>\n",
              "      <td>0.9906</td>\n",
              "      <td>0.9909</td>\n",
              "      <td>0.9911</td>\n",
              "      <td>0.9913</td>\n",
              "      <td>0.9916</td>\n",
              "    </tr>\n",
              "    <tr>\n",
              "      <th>2.40</th>\n",
              "      <td>0.9918</td>\n",
              "      <td>0.9920</td>\n",
              "      <td>0.9922</td>\n",
              "      <td>0.9925</td>\n",
              "      <td>0.9927</td>\n",
              "      <td>0.9929</td>\n",
              "      <td>0.9931</td>\n",
              "      <td>0.9932</td>\n",
              "      <td>0.9934</td>\n",
              "      <td>0.9936</td>\n",
              "    </tr>\n",
              "    <tr>\n",
              "      <th>2.50</th>\n",
              "      <td>0.9938</td>\n",
              "      <td>0.9940</td>\n",
              "      <td>0.9941</td>\n",
              "      <td>0.9943</td>\n",
              "      <td>0.9945</td>\n",
              "      <td>0.9946</td>\n",
              "      <td>0.9948</td>\n",
              "      <td>0.9949</td>\n",
              "      <td>0.9951</td>\n",
              "      <td>0.9952</td>\n",
              "    </tr>\n",
              "    <tr>\n",
              "      <th>2.60</th>\n",
              "      <td>0.9953</td>\n",
              "      <td>0.9955</td>\n",
              "      <td>0.9956</td>\n",
              "      <td>0.9957</td>\n",
              "      <td>0.9959</td>\n",
              "      <td>0.9960</td>\n",
              "      <td>0.9961</td>\n",
              "      <td>0.9962</td>\n",
              "      <td>0.9963</td>\n",
              "      <td>0.9964</td>\n",
              "    </tr>\n",
              "    <tr>\n",
              "      <th>2.70</th>\n",
              "      <td>0.9965</td>\n",
              "      <td>0.9966</td>\n",
              "      <td>0.9967</td>\n",
              "      <td>0.9968</td>\n",
              "      <td>0.9969</td>\n",
              "      <td>0.9970</td>\n",
              "      <td>0.9971</td>\n",
              "      <td>0.9972</td>\n",
              "      <td>0.9973</td>\n",
              "      <td>0.9974</td>\n",
              "    </tr>\n",
              "    <tr>\n",
              "      <th>2.80</th>\n",
              "      <td>0.9974</td>\n",
              "      <td>0.9975</td>\n",
              "      <td>0.9976</td>\n",
              "      <td>0.9977</td>\n",
              "      <td>0.9977</td>\n",
              "      <td>0.9978</td>\n",
              "      <td>0.9979</td>\n",
              "      <td>0.9979</td>\n",
              "      <td>0.9980</td>\n",
              "      <td>0.9981</td>\n",
              "    </tr>\n",
              "    <tr>\n",
              "      <th>2.90</th>\n",
              "      <td>0.9981</td>\n",
              "      <td>0.9982</td>\n",
              "      <td>0.9982</td>\n",
              "      <td>0.9983</td>\n",
              "      <td>0.9984</td>\n",
              "      <td>0.9984</td>\n",
              "      <td>0.9985</td>\n",
              "      <td>0.9985</td>\n",
              "      <td>0.9986</td>\n",
              "      <td>0.9986</td>\n",
              "    </tr>\n",
              "    <tr>\n",
              "      <th>3.00</th>\n",
              "      <td>0.9987</td>\n",
              "      <td>0.9987</td>\n",
              "      <td>0.9987</td>\n",
              "      <td>0.9988</td>\n",
              "      <td>0.9988</td>\n",
              "      <td>0.9989</td>\n",
              "      <td>0.9989</td>\n",
              "      <td>0.9989</td>\n",
              "      <td>0.9990</td>\n",
              "      <td>0.9990</td>\n",
              "    </tr>\n",
              "    <tr>\n",
              "      <th>3.10</th>\n",
              "      <td>0.9990</td>\n",
              "      <td>0.9991</td>\n",
              "      <td>0.9991</td>\n",
              "      <td>0.9991</td>\n",
              "      <td>0.9992</td>\n",
              "      <td>0.9992</td>\n",
              "      <td>0.9992</td>\n",
              "      <td>0.9992</td>\n",
              "      <td>0.9993</td>\n",
              "      <td>0.9993</td>\n",
              "    </tr>\n",
              "    <tr>\n",
              "      <th>3.20</th>\n",
              "      <td>0.9993</td>\n",
              "      <td>0.9993</td>\n",
              "      <td>0.9994</td>\n",
              "      <td>0.9994</td>\n",
              "      <td>0.9994</td>\n",
              "      <td>0.9994</td>\n",
              "      <td>0.9994</td>\n",
              "      <td>0.9995</td>\n",
              "      <td>0.9995</td>\n",
              "      <td>0.9995</td>\n",
              "    </tr>\n",
              "    <tr>\n",
              "      <th>3.30</th>\n",
              "      <td>0.9995</td>\n",
              "      <td>0.9995</td>\n",
              "      <td>0.9995</td>\n",
              "      <td>0.9996</td>\n",
              "      <td>0.9996</td>\n",
              "      <td>0.9996</td>\n",
              "      <td>0.9996</td>\n",
              "      <td>0.9996</td>\n",
              "      <td>0.9996</td>\n",
              "      <td>0.9997</td>\n",
              "    </tr>\n",
              "    <tr>\n",
              "      <th>3.40</th>\n",
              "      <td>0.9997</td>\n",
              "      <td>0.9997</td>\n",
              "      <td>0.9997</td>\n",
              "      <td>0.9997</td>\n",
              "      <td>0.9997</td>\n",
              "      <td>0.9997</td>\n",
              "      <td>0.9997</td>\n",
              "      <td>0.9997</td>\n",
              "      <td>0.9997</td>\n",
              "      <td>0.9998</td>\n",
              "    </tr>\n",
              "    <tr>\n",
              "      <th>3.50</th>\n",
              "      <td>0.9998</td>\n",
              "      <td>0.9998</td>\n",
              "      <td>0.9998</td>\n",
              "      <td>0.9998</td>\n",
              "      <td>0.9998</td>\n",
              "      <td>0.9998</td>\n",
              "      <td>0.9998</td>\n",
              "      <td>0.9998</td>\n",
              "      <td>0.9998</td>\n",
              "      <td>0.9998</td>\n",
              "    </tr>\n",
              "    <tr>\n",
              "      <th>3.60</th>\n",
              "      <td>0.9998</td>\n",
              "      <td>0.9998</td>\n",
              "      <td>0.9999</td>\n",
              "      <td>0.9999</td>\n",
              "      <td>0.9999</td>\n",
              "      <td>0.9999</td>\n",
              "      <td>0.9999</td>\n",
              "      <td>0.9999</td>\n",
              "      <td>0.9999</td>\n",
              "      <td>0.9999</td>\n",
              "    </tr>\n",
              "    <tr>\n",
              "      <th>3.70</th>\n",
              "      <td>0.9999</td>\n",
              "      <td>0.9999</td>\n",
              "      <td>0.9999</td>\n",
              "      <td>0.9999</td>\n",
              "      <td>0.9999</td>\n",
              "      <td>0.9999</td>\n",
              "      <td>0.9999</td>\n",
              "      <td>0.9999</td>\n",
              "      <td>0.9999</td>\n",
              "      <td>0.9999</td>\n",
              "    </tr>\n",
              "    <tr>\n",
              "      <th>3.80</th>\n",
              "      <td>0.9999</td>\n",
              "      <td>0.9999</td>\n",
              "      <td>0.9999</td>\n",
              "      <td>0.9999</td>\n",
              "      <td>0.9999</td>\n",
              "      <td>0.9999</td>\n",
              "      <td>0.9999</td>\n",
              "      <td>0.9999</td>\n",
              "      <td>0.9999</td>\n",
              "      <td>0.9999</td>\n",
              "    </tr>\n",
              "    <tr>\n",
              "      <th>3.90</th>\n",
              "      <td>1.0000</td>\n",
              "      <td>1.0000</td>\n",
              "      <td>1.0000</td>\n",
              "      <td>1.0000</td>\n",
              "      <td>1.0000</td>\n",
              "      <td>1.0000</td>\n",
              "      <td>1.0000</td>\n",
              "      <td>1.0000</td>\n",
              "      <td>1.0000</td>\n",
              "      <td>1.0000</td>\n",
              "    </tr>\n",
              "  </tbody>\n",
              "</table>\n",
              "</div>\n",
              "    <div class=\"colab-df-buttons\">\n",
              "\n",
              "  <div class=\"colab-df-container\">\n",
              "    <button class=\"colab-df-convert\" onclick=\"convertToInteractive('df-ff1615c7-2a9a-4466-b8d8-6ed2da7a03fb')\"\n",
              "            title=\"Convert this dataframe to an interactive table.\"\n",
              "            style=\"display:none;\">\n",
              "\n",
              "  <svg xmlns=\"http://www.w3.org/2000/svg\" height=\"24px\" viewBox=\"0 -960 960 960\">\n",
              "    <path d=\"M120-120v-720h720v720H120Zm60-500h600v-160H180v160Zm220 220h160v-160H400v160Zm0 220h160v-160H400v160ZM180-400h160v-160H180v160Zm440 0h160v-160H620v160ZM180-180h160v-160H180v160Zm440 0h160v-160H620v160Z\"/>\n",
              "  </svg>\n",
              "    </button>\n",
              "\n",
              "  <style>\n",
              "    .colab-df-container {\n",
              "      display:flex;\n",
              "      gap: 12px;\n",
              "    }\n",
              "\n",
              "    .colab-df-convert {\n",
              "      background-color: #E8F0FE;\n",
              "      border: none;\n",
              "      border-radius: 50%;\n",
              "      cursor: pointer;\n",
              "      display: none;\n",
              "      fill: #1967D2;\n",
              "      height: 32px;\n",
              "      padding: 0 0 0 0;\n",
              "      width: 32px;\n",
              "    }\n",
              "\n",
              "    .colab-df-convert:hover {\n",
              "      background-color: #E2EBFA;\n",
              "      box-shadow: 0px 1px 2px rgba(60, 64, 67, 0.3), 0px 1px 3px 1px rgba(60, 64, 67, 0.15);\n",
              "      fill: #174EA6;\n",
              "    }\n",
              "\n",
              "    .colab-df-buttons div {\n",
              "      margin-bottom: 4px;\n",
              "    }\n",
              "\n",
              "    [theme=dark] .colab-df-convert {\n",
              "      background-color: #3B4455;\n",
              "      fill: #D2E3FC;\n",
              "    }\n",
              "\n",
              "    [theme=dark] .colab-df-convert:hover {\n",
              "      background-color: #434B5C;\n",
              "      box-shadow: 0px 1px 3px 1px rgba(0, 0, 0, 0.15);\n",
              "      filter: drop-shadow(0px 1px 2px rgba(0, 0, 0, 0.3));\n",
              "      fill: #FFFFFF;\n",
              "    }\n",
              "  </style>\n",
              "\n",
              "    <script>\n",
              "      const buttonEl =\n",
              "        document.querySelector('#df-ff1615c7-2a9a-4466-b8d8-6ed2da7a03fb button.colab-df-convert');\n",
              "      buttonEl.style.display =\n",
              "        google.colab.kernel.accessAllowed ? 'block' : 'none';\n",
              "\n",
              "      async function convertToInteractive(key) {\n",
              "        const element = document.querySelector('#df-ff1615c7-2a9a-4466-b8d8-6ed2da7a03fb');\n",
              "        const dataTable =\n",
              "          await google.colab.kernel.invokeFunction('convertToInteractive',\n",
              "                                                    [key], {});\n",
              "        if (!dataTable) return;\n",
              "\n",
              "        const docLinkHtml = 'Like what you see? Visit the ' +\n",
              "          '<a target=\"_blank\" href=https://colab.research.google.com/notebooks/data_table.ipynb>data table notebook</a>'\n",
              "          + ' to learn more about interactive tables.';\n",
              "        element.innerHTML = '';\n",
              "        dataTable['output_type'] = 'display_data';\n",
              "        await google.colab.output.renderOutput(dataTable, element);\n",
              "        const docLink = document.createElement('div');\n",
              "        docLink.innerHTML = docLinkHtml;\n",
              "        element.appendChild(docLink);\n",
              "      }\n",
              "    </script>\n",
              "  </div>\n",
              "\n",
              "\n",
              "    <div id=\"df-197b3883-3511-4284-ae37-d99da9596495\">\n",
              "      <button class=\"colab-df-quickchart\" onclick=\"quickchart('df-197b3883-3511-4284-ae37-d99da9596495')\"\n",
              "                title=\"Suggest charts\"\n",
              "                style=\"display:none;\">\n",
              "\n",
              "<svg xmlns=\"http://www.w3.org/2000/svg\" height=\"24px\"viewBox=\"0 0 24 24\"\n",
              "     width=\"24px\">\n",
              "    <g>\n",
              "        <path d=\"M19 3H5c-1.1 0-2 .9-2 2v14c0 1.1.9 2 2 2h14c1.1 0 2-.9 2-2V5c0-1.1-.9-2-2-2zM9 17H7v-7h2v7zm4 0h-2V7h2v10zm4 0h-2v-4h2v4z\"/>\n",
              "    </g>\n",
              "</svg>\n",
              "      </button>\n",
              "\n",
              "<style>\n",
              "  .colab-df-quickchart {\n",
              "      --bg-color: #E8F0FE;\n",
              "      --fill-color: #1967D2;\n",
              "      --hover-bg-color: #E2EBFA;\n",
              "      --hover-fill-color: #174EA6;\n",
              "      --disabled-fill-color: #AAA;\n",
              "      --disabled-bg-color: #DDD;\n",
              "  }\n",
              "\n",
              "  [theme=dark] .colab-df-quickchart {\n",
              "      --bg-color: #3B4455;\n",
              "      --fill-color: #D2E3FC;\n",
              "      --hover-bg-color: #434B5C;\n",
              "      --hover-fill-color: #FFFFFF;\n",
              "      --disabled-bg-color: #3B4455;\n",
              "      --disabled-fill-color: #666;\n",
              "  }\n",
              "\n",
              "  .colab-df-quickchart {\n",
              "    background-color: var(--bg-color);\n",
              "    border: none;\n",
              "    border-radius: 50%;\n",
              "    cursor: pointer;\n",
              "    display: none;\n",
              "    fill: var(--fill-color);\n",
              "    height: 32px;\n",
              "    padding: 0;\n",
              "    width: 32px;\n",
              "  }\n",
              "\n",
              "  .colab-df-quickchart:hover {\n",
              "    background-color: var(--hover-bg-color);\n",
              "    box-shadow: 0 1px 2px rgba(60, 64, 67, 0.3), 0 1px 3px 1px rgba(60, 64, 67, 0.15);\n",
              "    fill: var(--button-hover-fill-color);\n",
              "  }\n",
              "\n",
              "  .colab-df-quickchart-complete:disabled,\n",
              "  .colab-df-quickchart-complete:disabled:hover {\n",
              "    background-color: var(--disabled-bg-color);\n",
              "    fill: var(--disabled-fill-color);\n",
              "    box-shadow: none;\n",
              "  }\n",
              "\n",
              "  .colab-df-spinner {\n",
              "    border: 2px solid var(--fill-color);\n",
              "    border-color: transparent;\n",
              "    border-bottom-color: var(--fill-color);\n",
              "    animation:\n",
              "      spin 1s steps(1) infinite;\n",
              "  }\n",
              "\n",
              "  @keyframes spin {\n",
              "    0% {\n",
              "      border-color: transparent;\n",
              "      border-bottom-color: var(--fill-color);\n",
              "      border-left-color: var(--fill-color);\n",
              "    }\n",
              "    20% {\n",
              "      border-color: transparent;\n",
              "      border-left-color: var(--fill-color);\n",
              "      border-top-color: var(--fill-color);\n",
              "    }\n",
              "    30% {\n",
              "      border-color: transparent;\n",
              "      border-left-color: var(--fill-color);\n",
              "      border-top-color: var(--fill-color);\n",
              "      border-right-color: var(--fill-color);\n",
              "    }\n",
              "    40% {\n",
              "      border-color: transparent;\n",
              "      border-right-color: var(--fill-color);\n",
              "      border-top-color: var(--fill-color);\n",
              "    }\n",
              "    60% {\n",
              "      border-color: transparent;\n",
              "      border-right-color: var(--fill-color);\n",
              "    }\n",
              "    80% {\n",
              "      border-color: transparent;\n",
              "      border-right-color: var(--fill-color);\n",
              "      border-bottom-color: var(--fill-color);\n",
              "    }\n",
              "    90% {\n",
              "      border-color: transparent;\n",
              "      border-bottom-color: var(--fill-color);\n",
              "    }\n",
              "  }\n",
              "</style>\n",
              "\n",
              "      <script>\n",
              "        async function quickchart(key) {\n",
              "          const quickchartButtonEl =\n",
              "            document.querySelector('#' + key + ' button');\n",
              "          quickchartButtonEl.disabled = true;  // To prevent multiple clicks.\n",
              "          quickchartButtonEl.classList.add('colab-df-spinner');\n",
              "          try {\n",
              "            const charts = await google.colab.kernel.invokeFunction(\n",
              "                'suggestCharts', [key], {});\n",
              "          } catch (error) {\n",
              "            console.error('Error during call to suggestCharts:', error);\n",
              "          }\n",
              "          quickchartButtonEl.classList.remove('colab-df-spinner');\n",
              "          quickchartButtonEl.classList.add('colab-df-quickchart-complete');\n",
              "        }\n",
              "        (() => {\n",
              "          let quickchartButtonEl =\n",
              "            document.querySelector('#df-197b3883-3511-4284-ae37-d99da9596495 button');\n",
              "          quickchartButtonEl.style.display =\n",
              "            google.colab.kernel.accessAllowed ? 'block' : 'none';\n",
              "        })();\n",
              "      </script>\n",
              "    </div>\n",
              "\n",
              "  <div id=\"id_4d3fa865-3cfc-4ebd-b19a-a122b9d27c4e\">\n",
              "    <style>\n",
              "      .colab-df-generate {\n",
              "        background-color: #E8F0FE;\n",
              "        border: none;\n",
              "        border-radius: 50%;\n",
              "        cursor: pointer;\n",
              "        display: none;\n",
              "        fill: #1967D2;\n",
              "        height: 32px;\n",
              "        padding: 0 0 0 0;\n",
              "        width: 32px;\n",
              "      }\n",
              "\n",
              "      .colab-df-generate:hover {\n",
              "        background-color: #E2EBFA;\n",
              "        box-shadow: 0px 1px 2px rgba(60, 64, 67, 0.3), 0px 1px 3px 1px rgba(60, 64, 67, 0.15);\n",
              "        fill: #174EA6;\n",
              "      }\n",
              "\n",
              "      [theme=dark] .colab-df-generate {\n",
              "        background-color: #3B4455;\n",
              "        fill: #D2E3FC;\n",
              "      }\n",
              "\n",
              "      [theme=dark] .colab-df-generate:hover {\n",
              "        background-color: #434B5C;\n",
              "        box-shadow: 0px 1px 3px 1px rgba(0, 0, 0, 0.15);\n",
              "        filter: drop-shadow(0px 1px 2px rgba(0, 0, 0, 0.3));\n",
              "        fill: #FFFFFF;\n",
              "      }\n",
              "    </style>\n",
              "    <button class=\"colab-df-generate\" onclick=\"generateWithVariable('tabla_normal_estandarizada')\"\n",
              "            title=\"Generate code using this dataframe.\"\n",
              "            style=\"display:none;\">\n",
              "\n",
              "  <svg xmlns=\"http://www.w3.org/2000/svg\" height=\"24px\"viewBox=\"0 0 24 24\"\n",
              "       width=\"24px\">\n",
              "    <path d=\"M7,19H8.4L18.45,9,17,7.55,7,17.6ZM5,21V16.75L18.45,3.32a2,2,0,0,1,2.83,0l1.4,1.43a1.91,1.91,0,0,1,.58,1.4,1.91,1.91,0,0,1-.58,1.4L9.25,21ZM18.45,9,17,7.55Zm-12,3A5.31,5.31,0,0,0,4.9,8.1,5.31,5.31,0,0,0,1,6.5,5.31,5.31,0,0,0,4.9,4.9,5.31,5.31,0,0,0,6.5,1,5.31,5.31,0,0,0,8.1,4.9,5.31,5.31,0,0,0,12,6.5,5.46,5.46,0,0,0,6.5,12Z\"/>\n",
              "  </svg>\n",
              "    </button>\n",
              "    <script>\n",
              "      (() => {\n",
              "      const buttonEl =\n",
              "        document.querySelector('#id_4d3fa865-3cfc-4ebd-b19a-a122b9d27c4e button.colab-df-generate');\n",
              "      buttonEl.style.display =\n",
              "        google.colab.kernel.accessAllowed ? 'block' : 'none';\n",
              "\n",
              "      buttonEl.onclick = () => {\n",
              "        google.colab.notebook.generateWithVariable('tabla_normal_estandarizada');\n",
              "      }\n",
              "      })();\n",
              "    </script>\n",
              "  </div>\n",
              "\n",
              "    </div>\n",
              "  </div>\n"
            ],
            "application/vnd.google.colaboratory.intrinsic+json": {
              "type": "dataframe",
              "variable_name": "tabla_normal_estandarizada",
              "summary": "{\n  \"name\": \"tabla_normal_estandarizada\",\n  \"rows\": 40,\n  \"fields\": [\n    {\n      \"column\": \"0.00\",\n      \"properties\": {\n        \"dtype\": \"string\",\n        \"num_unique_values\": 38,\n        \"samples\": [\n          \"0.9995\",\n          \"0.9999\",\n          \"0.6554\"\n        ],\n        \"semantic_type\": \"\",\n        \"description\": \"\"\n      }\n    },\n    {\n      \"column\": \"0.01\",\n      \"properties\": {\n        \"dtype\": \"string\",\n        \"num_unique_values\": 38,\n        \"samples\": [\n          \"0.9995\",\n          \"0.9999\",\n          \"0.6591\"\n        ],\n        \"semantic_type\": \"\",\n        \"description\": \"\"\n      }\n    },\n    {\n      \"column\": \"0.02\",\n      \"properties\": {\n        \"dtype\": \"string\",\n        \"num_unique_values\": 38,\n        \"samples\": [\n          \"0.9995\",\n          \"0.9999\",\n          \"0.6628\"\n        ],\n        \"semantic_type\": \"\",\n        \"description\": \"\"\n      }\n    },\n    {\n      \"column\": \"0.03\",\n      \"properties\": {\n        \"dtype\": \"string\",\n        \"num_unique_values\": 38,\n        \"samples\": [\n          \"0.9996\",\n          \"0.9999\",\n          \"0.6664\"\n        ],\n        \"semantic_type\": \"\",\n        \"description\": \"\"\n      }\n    },\n    {\n      \"column\": \"0.04\",\n      \"properties\": {\n        \"dtype\": \"string\",\n        \"num_unique_values\": 38,\n        \"samples\": [\n          \"0.9996\",\n          \"0.9999\",\n          \"0.6700\"\n        ],\n        \"semantic_type\": \"\",\n        \"description\": \"\"\n      }\n    },\n    {\n      \"column\": \"0.05\",\n      \"properties\": {\n        \"dtype\": \"string\",\n        \"num_unique_values\": 38,\n        \"samples\": [\n          \"0.9996\",\n          \"0.9999\",\n          \"0.6736\"\n        ],\n        \"semantic_type\": \"\",\n        \"description\": \"\"\n      }\n    },\n    {\n      \"column\": \"0.06\",\n      \"properties\": {\n        \"dtype\": \"string\",\n        \"num_unique_values\": 38,\n        \"samples\": [\n          \"0.9996\",\n          \"0.9999\",\n          \"0.6772\"\n        ],\n        \"semantic_type\": \"\",\n        \"description\": \"\"\n      }\n    },\n    {\n      \"column\": \"0.07\",\n      \"properties\": {\n        \"dtype\": \"string\",\n        \"num_unique_values\": 38,\n        \"samples\": [\n          \"0.9996\",\n          \"0.9999\",\n          \"0.6808\"\n        ],\n        \"semantic_type\": \"\",\n        \"description\": \"\"\n      }\n    },\n    {\n      \"column\": \"0.08\",\n      \"properties\": {\n        \"dtype\": \"string\",\n        \"num_unique_values\": 38,\n        \"samples\": [\n          \"0.9996\",\n          \"0.9999\",\n          \"0.6844\"\n        ],\n        \"semantic_type\": \"\",\n        \"description\": \"\"\n      }\n    },\n    {\n      \"column\": \"0.09\",\n      \"properties\": {\n        \"dtype\": \"string\",\n        \"num_unique_values\": 37,\n        \"samples\": [\n          \"0.9633\",\n          \"0.9177\",\n          \"0.6879\"\n        ],\n        \"semantic_type\": \"\",\n        \"description\": \"\"\n      }\n    }\n  ]\n}"
            }
          },
          "metadata": {},
          "execution_count": 506
        }
      ]
    },
    {
      "cell_type": "markdown",
      "metadata": {
        "id": "XHYeMaN3G3D9"
      },
      "source": [
        "<img src='https://caelum-online-public.s3.amazonaws.com/ESP-1764-estadistica-con-python-probabilidad-y-muestreo/img003.png' width='250px'>\n",
        "\n",
        "La tabla anterior proporciona el área bajo la curva entre $-\\infty$ y $Z$ desviaciones estándar por encima de la media. Recordando que dado que estos son valores estandarizados, tenemos $\\mu = 0$."
      ]
    },
    {
      "cell_type": "markdown",
      "metadata": {
        "id": "Bs-KyZAJG3D-"
      },
      "source": [
        "## <font color='blue'>Ejemplo: ¿Cuánto mides?</font>"
      ]
    },
    {
      "cell_type": "markdown",
      "metadata": {
        "id": "8PFIjXejG3EA"
      },
      "source": [
        "En un estudio sobre la altura de los residentes de una ciudad, se encontró que el conjunto de datos sigue una **distribución aproximadamente normal**, con **media 1.70** y **desviación estándar de 0.1**. Con esta información, obtenga el siguiente conjunto de probabilidades:\n",
        "\n",
        "> **A.** probabilidad de que una persona, seleccionada al azar, mida menos que 1.80 metros.\n",
        "\n",
        "> **B.** probabilidad de que una persona, seleccionada al azar, mida entre 1.60 metros y 1.80 metros.\n",
        "\n",
        "> **C.** probabilidad de que una persona, seleccionada al azar, mida más de 1.90 metros."
      ]
    },
    {
      "cell_type": "markdown",
      "metadata": {
        "id": "aHpZLwt1G3EC"
      },
      "source": [
        "### Problema A - Identificación del área bajo la curva"
      ]
    },
    {
      "cell_type": "markdown",
      "metadata": {
        "id": "V1eC7tydG3EF"
      },
      "source": [
        "<img style='float: left' src='https://caelum-online-public.s3.amazonaws.com/ESP-1764-estadistica-con-python-probabilidad-y-muestreo/img004.png' width='350px'>\n"
      ]
    },
    {
      "cell_type": "markdown",
      "metadata": {
        "id": "X61wEuRrG3EI"
      },
      "source": [
        "### Obtener la variable estandarizada $Z$"
      ]
    },
    {
      "cell_type": "code",
      "metadata": {
        "id": "gNSNIMvZG3EK",
        "colab": {
          "base_uri": "https://localhost:8080/"
        },
        "outputId": "8f922eae-309c-4bd7-f48c-eb9cf3e8f800"
      },
      "source": [
        "# Media poblacional (μ)\n",
        "media = 1.70\n",
        "media"
      ],
      "execution_count": 507,
      "outputs": [
        {
          "output_type": "execute_result",
          "data": {
            "text/plain": [
              "1.7"
            ]
          },
          "metadata": {},
          "execution_count": 507
        }
      ]
    },
    {
      "cell_type": "code",
      "metadata": {
        "id": "E_f2lycRG3ES",
        "colab": {
          "base_uri": "https://localhost:8080/"
        },
        "outputId": "b1377360-d9fa-47cf-c64b-4c0690b7ccc4"
      },
      "source": [
        "# Desviación estándar (σ)\n",
        "desviacion_estandar = 0.1\n",
        "desviacion_estandar"
      ],
      "execution_count": 508,
      "outputs": [
        {
          "output_type": "execute_result",
          "data": {
            "text/plain": [
              "0.1"
            ]
          },
          "metadata": {},
          "execution_count": 508
        }
      ]
    },
    {
      "cell_type": "code",
      "metadata": {
        "id": "xnsCkUb6G3EX",
        "colab": {
          "base_uri": "https://localhost:8080/"
        },
        "outputId": "28dd92d5-5497-41e2-f890-7e631c3cd3a3"
      },
      "source": [
        "# Calcula el valor Z (Z-score) correspondiente a 1.80 metros\n",
        "Z = (1.8 - media) / desviacion_estandar # Resultado: Z = 1.0\n",
        "Z"
      ],
      "execution_count": 509,
      "outputs": [
        {
          "output_type": "execute_result",
          "data": {
            "text/plain": [
              "1.0000000000000009"
            ]
          },
          "metadata": {},
          "execution_count": 509
        }
      ]
    },
    {
      "cell_type": "markdown",
      "metadata": {
        "id": "oj9sgHbkG3Eb"
      },
      "source": [
        "### Solución 1 - Utilizando la tabla"
      ]
    },
    {
      "cell_type": "code",
      "metadata": {
        "id": "ReDTH3WgG3Ec",
        "colab": {
          "base_uri": "https://localhost:8080/"
        },
        "outputId": "a7529611-a8a3-49ce-965c-c0c00fbcd366"
      },
      "source": [
        "# Distribución Normal - Cálculo de probabilidad usando Z-score\n",
        "# Se desea conocer la probabilidad de que una persona mida menos de 1.80 metros,\n",
        "# sabiendo que la altura media es de 1.70 m con una desviación estándar de 0.1 m.\n",
        "\n",
        "# Según la tabla Z, P(Z ≤ 1.0) ≈ 0.8413\n",
        "# En la tabla (ya que tenemos 1.0): Fila corresponde a 1.0 y Columna a 0.0 -> 0.8413\n",
        "probabilidad = 0.8413\n",
        "# Imprime la probabilidad en porcentaje con dos decimales\n",
        "print (f'La probabilidad de que una persona tenga una altura menor a 1.80 es de {probabilidad:.2%}')"
      ],
      "execution_count": 510,
      "outputs": [
        {
          "output_type": "stream",
          "name": "stdout",
          "text": [
            "La probabilidad de que una persona tenga una altura menor a 1.80 es de 84.13%\n"
          ]
        }
      ]
    },
    {
      "cell_type": "markdown",
      "metadata": {
        "id": "4ud0OnQOG3Eh"
      },
      "source": [
        "### Solución 2 - Utilizando Scipy"
      ]
    },
    {
      "cell_type": "code",
      "metadata": {
        "id": "sx7riZVlG3Ei",
        "colab": {
          "base_uri": "https://localhost:8080/"
        },
        "outputId": "6557b155-015b-4ecf-f19e-c405c818d930"
      },
      "source": [
        "from scipy.stats import norm\n",
        "probabilidad = norm.cdf(Z)\n",
        "\n",
        "print (f'La probabilidad de que una persona tenga una altura menor a 1.80 es de {probabilidad:.2%}')"
      ],
      "execution_count": 511,
      "outputs": [
        {
          "output_type": "stream",
          "name": "stdout",
          "text": [
            "La probabilidad de que una persona tenga una altura menor a 1.80 es de 84.13%\n"
          ]
        }
      ]
    },
    {
      "cell_type": "markdown",
      "source": [
        "### Solución 3 - Más rápido"
      ],
      "metadata": {
        "id": "uchl-BBES1kR"
      }
    },
    {
      "cell_type": "code",
      "source": [
        "# Distribución Normal - Cálculo directo con norm.cdf()\n",
        "# Queremos saber la probabilidad de que una persona mida menos de 1.80 metros\n",
        "# Dado que la altura promedio es 1.70 m y la desviación estándar es 0.1 m\n",
        "media = 1.70\n",
        "desviacion_estandar = 0.1\n",
        "altura = 1.80\n",
        "# Calcula la probabilidad acumulada hasta 1.80 usando norm.cdf()\n",
        "# loc → media, scale → desviación estándar\n",
        "probabilidad = norm.cdf(altura, loc=media, scale=desviacion_estandar)\n",
        "print(f'La probabilidad de que una persona tenga una altura menor a {altura}m es de {probabilidad:.2%}')"
      ],
      "metadata": {
        "id": "ISIqNHjJS4IR",
        "outputId": "968a095c-53ea-4f48-b62c-4b7d13813181",
        "colab": {
          "base_uri": "https://localhost:8080/"
        }
      },
      "execution_count": 512,
      "outputs": [
        {
          "output_type": "stream",
          "name": "stdout",
          "text": [
            "La probabilidad de que una persona tenga una altura menor a 1.8m es de 84.13%\n"
          ]
        }
      ]
    },
    {
      "cell_type": "markdown",
      "source": [
        "**Ejercicio**\n",
        "---\n",
        ">La aplicación de una prueba Estadística en una competencia presentó un conjunto de notas normalmente distribuidas. Se encontró que el conjunto de notas tenía una media de 70 y una desviación estándar de 5 puntos.\n",
        "\n",
        ">¿Qué probabilidad hay de que un estudiante, seleccionado al azar, obtenga una puntuación inferior a 85 puntos?"
      ],
      "metadata": {
        "id": "S8CAkYoWUm1q"
      }
    },
    {
      "cell_type": "code",
      "source": [
        "# Forma 1\n",
        "Z = (85 - 70) / 5\n",
        "from scipy.stats import norm\n",
        "probabilidad = norm.cdf(Z)\n",
        "print(f'La probabilidad de que un estudiante seleccionado al azar obtenga una puntuación inferior a 85 puntos es de {probabilidad:.5%}')"
      ],
      "metadata": {
        "id": "fgv8WalGW1Em",
        "outputId": "5cd70f11-487c-4c52-b7c3-0931ba3f749b",
        "colab": {
          "base_uri": "https://localhost:8080/"
        }
      },
      "execution_count": 513,
      "outputs": [
        {
          "output_type": "stream",
          "name": "stdout",
          "text": [
            "La probabilidad de que un estudiante seleccionado al azar obtenga una puntuación inferior a 85 puntos es de 99.86501%\n"
          ]
        }
      ]
    },
    {
      "cell_type": "code",
      "source": [
        "# Forma 2\n",
        "probabilidad = round(norm.cdf(85,         # puntuacion inferior a 85 puntos\n",
        "                              loc=70,     # media\n",
        "                              scale=5),8) # desviacion estándar\n",
        "print(f'La probabilidad de que un estudiante seleccionado al azar obtenga una puntuación inferior a 85 puntos es de {probabilidad:.5%}')"
      ],
      "metadata": {
        "id": "74d25vsQUnBg",
        "outputId": "2cb81b11-1343-4049-9ca3-41f19998963b",
        "colab": {
          "base_uri": "https://localhost:8080/"
        }
      },
      "execution_count": 514,
      "outputs": [
        {
          "output_type": "stream",
          "name": "stdout",
          "text": [
            "La probabilidad de que un estudiante seleccionado al azar obtenga una puntuación inferior a 85 puntos es de 99.86501%\n"
          ]
        }
      ]
    },
    {
      "cell_type": "markdown",
      "metadata": {
        "id": "ZsnMjGzJG3Ep"
      },
      "source": [
        "### Problema B - Identificación del área bajo la curva"
      ]
    },
    {
      "cell_type": "markdown",
      "metadata": {
        "id": "LN2HY-UCG3Ep"
      },
      "source": [
        "<img style='float: left' src='https://caelum-online-public.s3.amazonaws.com/ESP-1764-estadistica-con-python-probabilidad-y-muestreo/img005.png' width='350px'>"
      ]
    },
    {
      "cell_type": "markdown",
      "metadata": {
        "id": "FS6WNg88G3Eq"
      },
      "source": [
        "### Obtener la variable estandarizada $Z$"
      ]
    },
    {
      "cell_type": "code",
      "metadata": {
        "id": "mxPsPIOYG3Er",
        "colab": {
          "base_uri": "https://localhost:8080/"
        },
        "outputId": "ad1203c1-1988-4496-a8ce-975db56f8ee2"
      },
      "source": [
        "# Cálculo de valores Z (Z-score) manualmente\n",
        "Z = (1.7 - media) / desviacion_estandar # Resultado: Z = 1.0\n",
        "Z"
      ],
      "execution_count": 515,
      "outputs": [
        {
          "output_type": "execute_result",
          "data": {
            "text/plain": [
              "0.0"
            ]
          },
          "metadata": {},
          "execution_count": 515
        }
      ]
    },
    {
      "cell_type": "code",
      "metadata": {
        "id": "s0Vf0GXHG3Et",
        "colab": {
          "base_uri": "https://localhost:8080/"
        },
        "outputId": "8c671229-8057-4fc0-cd33-005aa2ca9416"
      },
      "source": [
        "# Cálculo de valores Z (Z-score) manualmente\n",
        "Z= (1.8 - media) / desviacion_estandar # Resultado: Z = 1.0\n",
        "Z"
      ],
      "execution_count": 516,
      "outputs": [
        {
          "output_type": "execute_result",
          "data": {
            "text/plain": [
              "1.0000000000000009"
            ]
          },
          "metadata": {},
          "execution_count": 516
        }
      ]
    },
    {
      "cell_type": "markdown",
      "metadata": {
        "id": "MseXjmZ7G3E0"
      },
      "source": [
        "### Solución 1 - Utilizando la tabla"
      ]
    },
    {
      "cell_type": "code",
      "metadata": {
        "id": "swZ6SVQGG3E0",
        "colab": {
          "base_uri": "https://localhost:8080/"
        },
        "outputId": "2cd3a2e1-f864-4f2f-eaee-99e1b46fc9e3"
      },
      "source": [
        "# Usamos valores de la tabla Z:\n",
        "probabilidad = 0.8413 #84.13%\n",
        "probabilidad"
      ],
      "execution_count": 517,
      "outputs": [
        {
          "output_type": "execute_result",
          "data": {
            "text/plain": [
              "0.8413"
            ]
          },
          "metadata": {},
          "execution_count": 517
        }
      ]
    },
    {
      "cell_type": "code",
      "metadata": {
        "id": "oNfZZRBdGy2G",
        "colab": {
          "base_uri": "https://localhost:8080/"
        },
        "outputId": "d8090459-7a99-4a48-de5f-c56f8ff88c93"
      },
      "source": [
        "# P(Z ≤ 1.70) = 0.5 (por simetría, ya que Z = 0)\n",
        "# 0.8413 o 84.13% es el área hasta 1.80\n",
        "# 0.5 o 50%  es el área hasta 1.70\n",
        "# Calculamos el área entre 1.70 y 1.80\n",
        "probabilidad = 0.8413 - 0.5\n",
        "probabilidad\n",
        "# Entonces el área entre 1.70 a 1.80 es 0.34130000000000005 o 34.13%"
      ],
      "execution_count": 518,
      "outputs": [
        {
          "output_type": "execute_result",
          "data": {
            "text/plain": [
              "0.34130000000000005"
            ]
          },
          "metadata": {},
          "execution_count": 518
        }
      ]
    },
    {
      "cell_type": "code",
      "source": [
        "# Área entre 1.60 y 1.80 es el doble (por simetría alrededor de la media)\n",
        "# Entonces, resolviendo el ejercicio, el área entre 1.60 a 1.80 es 0.6826000000000001 o 68.26%\n",
        "# O sea, la probabilidad de una persona de medir entre 1.60 a 1.80 es de 68.26%\n",
        "probabilidad = (0.8413 - 0.5) * 2\n",
        "print(f'La probabilidad de una persona de medir entre 1.60 a 1.80 es de {probabilidad:.2%}')"
      ],
      "metadata": {
        "colab": {
          "base_uri": "https://localhost:8080/"
        },
        "id": "W0FqqrWkqd8h",
        "outputId": "1c893c51-8614-418a-e185-0063b17c50d6"
      },
      "execution_count": 519,
      "outputs": [
        {
          "output_type": "stream",
          "name": "stdout",
          "text": [
            "La probabilidad de una persona de medir entre 1.60 a 1.80 es de 68.26%\n"
          ]
        }
      ]
    },
    {
      "cell_type": "markdown",
      "metadata": {
        "id": "y5e4zAifG3E2"
      },
      "source": [
        "### Solución 2 - Utilizando Scipy"
      ]
    },
    {
      "cell_type": "code",
      "metadata": {
        "id": "hcps6lkNG3E3",
        "colab": {
          "base_uri": "https://localhost:8080/"
        },
        "outputId": "62245765-06c0-4fc0-e4fd-d5322dcf58cd"
      },
      "source": [
        "# Cálculo de valores Z (Z-score) para los extremos: superior\n",
        "Z_superior = (1.8 - media) / desviacion_estandar\n",
        "Z_superior"
      ],
      "execution_count": 520,
      "outputs": [
        {
          "output_type": "execute_result",
          "data": {
            "text/plain": [
              "1.0000000000000009"
            ]
          },
          "metadata": {},
          "execution_count": 520
        }
      ]
    },
    {
      "cell_type": "code",
      "source": [
        "# Cálculo de valores Z (Z-score) para los extremos: inferior\n",
        "Z_inferior = (1.6 - media) / desviacion_estandar\n",
        "Z_inferior"
      ],
      "metadata": {
        "colab": {
          "base_uri": "https://localhost:8080/"
        },
        "id": "vdj2Yg8Rslbr",
        "outputId": "85ef2538-f0d2-4f2f-d247-1bc54fa5ca4b"
      },
      "execution_count": 521,
      "outputs": [
        {
          "output_type": "execute_result",
          "data": {
            "text/plain": [
              "-0.9999999999999987"
            ]
          },
          "metadata": {},
          "execution_count": 521
        }
      ]
    },
    {
      "cell_type": "code",
      "metadata": {
        "id": "MjEfhnQEG3E5",
        "colab": {
          "base_uri": "https://localhost:8080/"
        },
        "outputId": "8b03a29e-c451-4247-a4bb-8e1a434a0310"
      },
      "source": [
        "# FORMA NO RECOMENDADA (aunque da el mismo resultado en este caso):\n",
        "# Esto hace: P(Z ≤ 1.0) - P(Z > 1.0) = 0.8413 - (1 - 0.8413) = 0.6826\n",
        "# Pero solo funciona si el intervalo es simétrico con respecto a la media (como -1 a +1)\n",
        "probabilidad = norm.cdf(Z_superior) - (1 - norm.cdf(Z_superior))\n",
        "probabilidad"
      ],
      "execution_count": 522,
      "outputs": [
        {
          "output_type": "execute_result",
          "data": {
            "text/plain": [
              "np.float64(0.6826894921370863)"
            ]
          },
          "metadata": {},
          "execution_count": 522
        }
      ]
    },
    {
      "cell_type": "code",
      "source": [
        "# FORMA CORRECTA Y GENERAL: Más versátil y no requiere que el intervalo sea simétrico.\n",
        "# Calculamos la probabilidad entre 1.60 y 1.80:\n",
        "# P(1.60 ≤ X ≤ 1.80) = P(Z ≤ 1.0) - P(Z ≤ -1.0)\n",
        "probabilidad = norm.cdf(Z_superior) - (norm.cdf(Z_inferior))\n",
        "probabilidad"
      ],
      "metadata": {
        "colab": {
          "base_uri": "https://localhost:8080/"
        },
        "id": "rSnY_StztNMq",
        "outputId": "95bd05b0-df3a-4eda-91ee-fc9b44a98746"
      },
      "execution_count": 523,
      "outputs": [
        {
          "output_type": "execute_result",
          "data": {
            "text/plain": [
              "np.float64(0.6826894921370857)"
            ]
          },
          "metadata": {},
          "execution_count": 523
        }
      ]
    },
    {
      "cell_type": "markdown",
      "source": [
        "La facturación diaria de un controlador de aplicación sigue una distribución aproximadamente normal, con un media de $ 300,00\n",
        "\n",
        "y una desviación estándar igual a $ 50,00. Obtenga las probabilidades de que, en un día aleatorio, el conductor gane:\n",
        "\n",
        "* 1) `Entre $ 250,00 y $ 350,00`\n",
        "\n",
        "* 2) `Entre $ 400,00 y $ 500,00`"
      ],
      "metadata": {
        "id": "kjjg0rSpwXY8"
      }
    },
    {
      "cell_type": "markdown",
      "source": [
        "**Caso 1**"
      ],
      "metadata": {
        "id": "RPrLW5Y1yD3D"
      }
    },
    {
      "cell_type": "code",
      "source": [
        "media= 300.00\n",
        "media"
      ],
      "metadata": {
        "colab": {
          "base_uri": "https://localhost:8080/"
        },
        "id": "JEdQlI2Rw5IZ",
        "outputId": "e3f02244-075a-4bae-96bf-3a147a4435df"
      },
      "execution_count": 524,
      "outputs": [
        {
          "output_type": "execute_result",
          "data": {
            "text/plain": [
              "300.0"
            ]
          },
          "metadata": {},
          "execution_count": 524
        }
      ]
    },
    {
      "cell_type": "code",
      "source": [
        "desviacion_estandar = 50.00\n",
        "desviacion_estandar"
      ],
      "metadata": {
        "colab": {
          "base_uri": "https://localhost:8080/"
        },
        "id": "1uwwBm01xC6Z",
        "outputId": "9cc60dc5-7c53-45c8-b5e6-661a19a0f24e"
      },
      "execution_count": 525,
      "outputs": [
        {
          "output_type": "execute_result",
          "data": {
            "text/plain": [
              "50.0"
            ]
          },
          "metadata": {},
          "execution_count": 525
        }
      ]
    },
    {
      "cell_type": "code",
      "source": [
        "Z_superior_1 = (350.0 - media) / desviacion_estandar\n",
        "Z_superior_1"
      ],
      "metadata": {
        "colab": {
          "base_uri": "https://localhost:8080/"
        },
        "id": "Qa_7Rll1wXh6",
        "outputId": "1d1edebe-a070-4aea-d71f-265562802ef5"
      },
      "execution_count": 526,
      "outputs": [
        {
          "output_type": "execute_result",
          "data": {
            "text/plain": [
              "1.0"
            ]
          },
          "metadata": {},
          "execution_count": 526
        }
      ]
    },
    {
      "cell_type": "code",
      "source": [
        "Z_inferior_1 = (250.0 - media) / desviacion_estandar\n",
        "Z_inferior_1"
      ],
      "metadata": {
        "colab": {
          "base_uri": "https://localhost:8080/"
        },
        "id": "mktKFe39wxu6",
        "outputId": "d163b308-b89a-4122-a64e-f211e4953506"
      },
      "execution_count": 527,
      "outputs": [
        {
          "output_type": "execute_result",
          "data": {
            "text/plain": [
              "-1.0"
            ]
          },
          "metadata": {},
          "execution_count": 527
        }
      ]
    },
    {
      "cell_type": "code",
      "source": [
        "probabilidad_1 = norm.cdf(Z_superior_1) - (norm.cdf(Z_inferior_1))\n",
        "print(f'La probabilidad de que un conductor gane entre $250 a $350 es de {probabilidad_1:.2%}')"
      ],
      "metadata": {
        "colab": {
          "base_uri": "https://localhost:8080/"
        },
        "id": "ymOi4Gh1xQ6Z",
        "outputId": "bcd2fe6c-5f2c-44d2-f11b-4064433e6ded"
      },
      "execution_count": 528,
      "outputs": [
        {
          "output_type": "stream",
          "name": "stdout",
          "text": [
            "La probabilidad de que un conductor gane entre $250 a $350 es de 68.27%\n"
          ]
        }
      ]
    },
    {
      "cell_type": "markdown",
      "source": [
        "**Caso 2**"
      ],
      "metadata": {
        "id": "69REVAEzyGkA"
      }
    },
    {
      "cell_type": "code",
      "source": [
        "Z_superior_2 = (500.0 - media) / desviacion_estandar\n",
        "Z_superior_2"
      ],
      "metadata": {
        "colab": {
          "base_uri": "https://localhost:8080/"
        },
        "id": "5QVtm4atyF-4",
        "outputId": "ca3e9702-3e8b-4205-80fb-2db8b8ea4cec"
      },
      "execution_count": 529,
      "outputs": [
        {
          "output_type": "execute_result",
          "data": {
            "text/plain": [
              "4.0"
            ]
          },
          "metadata": {},
          "execution_count": 529
        }
      ]
    },
    {
      "cell_type": "code",
      "source": [
        "Z_inferior_2 = (400.0 - media) / desviacion_estandar\n",
        "Z_inferior_2"
      ],
      "metadata": {
        "colab": {
          "base_uri": "https://localhost:8080/"
        },
        "id": "uMqkuKZJyTIZ",
        "outputId": "95714e97-9ec6-4b9b-eba3-ea9cd09af7ac"
      },
      "execution_count": 530,
      "outputs": [
        {
          "output_type": "execute_result",
          "data": {
            "text/plain": [
              "2.0"
            ]
          },
          "metadata": {},
          "execution_count": 530
        }
      ]
    },
    {
      "cell_type": "code",
      "source": [
        "probabilidad_2 = norm.cdf(Z_superior_2) - (norm.cdf(Z_inferior_2))\n",
        "print(f'La probabilidad de que un conductor gane entre $400 a $500 es de {probabilidad_2:.2%}')"
      ],
      "metadata": {
        "colab": {
          "base_uri": "https://localhost:8080/"
        },
        "id": "KBnL8dIByd3C",
        "outputId": "fa235a65-3a0d-4257-a415-441c17612fee"
      },
      "execution_count": 531,
      "outputs": [
        {
          "output_type": "stream",
          "name": "stdout",
          "text": [
            "La probabilidad de que un conductor gane entre $400 a $500 es de 2.27%\n"
          ]
        }
      ]
    },
    {
      "cell_type": "markdown",
      "metadata": {
        "id": "05sqVgdaG3E-"
      },
      "source": [
        "### Problema C - Identificación del área bajo la curva"
      ]
    },
    {
      "cell_type": "markdown",
      "metadata": {
        "id": "EPKhGTEkG3E_"
      },
      "source": [
        "<img style='float: left' src='https://caelum-online-public.s3.amazonaws.com/ESP-1764-estadistica-con-python-probabilidad-y-muestreo/img006.png' width='350px'>"
      ]
    },
    {
      "cell_type": "markdown",
      "metadata": {
        "id": "BA6jYbsSG3E_"
      },
      "source": [
        "### Obtener la variable estandarizada $Z$"
      ]
    },
    {
      "cell_type": "code",
      "source": [
        "media = 1.70\n",
        "desviacion_estandar = 0.1"
      ],
      "metadata": {
        "id": "dHPtkKfEzW5B"
      },
      "execution_count": 532,
      "outputs": []
    },
    {
      "cell_type": "code",
      "metadata": {
        "id": "3OVj60MzG3E_",
        "colab": {
          "base_uri": "https://localhost:8080/"
        },
        "outputId": "708ac74e-acac-4943-e45f-0468517c5a77"
      },
      "source": [
        "# Cálculo del valor Z\n",
        "Z = (1.9 - media) / desviacion_estandar\n",
        "Z                 # Z = 2.0 (redondeado)"
      ],
      "execution_count": 533,
      "outputs": [
        {
          "output_type": "execute_result",
          "data": {
            "text/plain": [
              "1.9999999999999996"
            ]
          },
          "metadata": {},
          "execution_count": 533
        }
      ]
    },
    {
      "cell_type": "markdown",
      "metadata": {
        "id": "hCiiWAm_G3FC"
      },
      "source": [
        "### Solución 1 - Utilizando la tabla"
      ]
    },
    {
      "cell_type": "code",
      "metadata": {
        "id": "mSNfoO6VG3FC",
        "colab": {
          "base_uri": "https://localhost:8080/"
        },
        "outputId": "219e6b2b-e317-4619-c907-19c54f4ec4ff"
      },
      "source": [
        "# Buscamos en la tabla Z el valor P(Z ≤ 2.0) = 0.9772\n",
        "# Queremos P(Z > 2.0) → probabilidad de que la persona mida más de 1.90\n",
        "probabilidad = 1- 0.9772\n",
        "print(f'La probabilidad de que una persona al azar mida más de 1.90 es de {probabilidad:.2%}')"
      ],
      "execution_count": 534,
      "outputs": [
        {
          "output_type": "stream",
          "name": "stdout",
          "text": [
            "La probabilidad de que una persona al azar mida más de 1.90 es de 2.28%\n"
          ]
        }
      ]
    },
    {
      "cell_type": "markdown",
      "metadata": {
        "id": "QCyoVXOdG3FF"
      },
      "source": [
        "### Solución 2 - Utilizando Scipy"
      ]
    },
    {
      "cell_type": "code",
      "metadata": {
        "id": "caIE-t83G3FF",
        "colab": {
          "base_uri": "https://localhost:8080/"
        },
        "outputId": "ef933079-d24d-427a-e263-b569f6739d1e"
      },
      "source": [
        "# Usamos norm.cdf(Z) para obtener P(Z ≤ 2.0)\n",
        "# Luego restamos de 1 para obtener P(Z > 2.0)\n",
        "probabilidad = 1- norm.cdf(Z)\n",
        "print(f'La probabilidad de que una persona al azar mida más de 1.90 es de {probabilidad:.2%}')"
      ],
      "execution_count": 535,
      "outputs": [
        {
          "output_type": "stream",
          "name": "stdout",
          "text": [
            "La probabilidad de que una persona al azar mida más de 1.90 es de 2.28%\n"
          ]
        }
      ]
    },
    {
      "cell_type": "markdown",
      "source": [
        "### Solución 3 - También utilizando Scipy"
      ],
      "metadata": {
        "id": "y6wjn44N2gJB"
      }
    },
    {
      "cell_type": "code",
      "metadata": {
        "id": "wKjqQGgMG3FI",
        "colab": {
          "base_uri": "https://localhost:8080/"
        },
        "outputId": "17581687-7524-4a85-b67b-655cd045fd1c"
      },
      "source": [
        "# P(Z > 2.0) = P(Z < -2.0) por simetría de la distribución normal\n",
        "probabilidad = norm.cdf(-Z)\n",
        "print(f'La probabilidad de que una persona al azar mida más de 1.90 es de {probabilidad:.2%}')"
      ],
      "execution_count": 536,
      "outputs": [
        {
          "output_type": "stream",
          "name": "stdout",
          "text": [
            "La probabilidad de que una persona al azar mida más de 1.90 es de 2.28%\n"
          ]
        }
      ]
    },
    {
      "cell_type": "markdown",
      "source": [
        "**Ejercicio**\n",
        "\n",
        "Una empresa verificó que las lámparas incandescentes XPTO tienen una vida útil normalmente distribuida, con un media igual a 720 días y una desviación estándar igual a 30 días. Calcula la probabilidad de que una lámpara, elegida al azar, dure:\n",
        "\n",
        "1) `Entre 650 y 750 días`\n",
        "\n",
        "2) `Más de 800 días`\n",
        "\n",
        "3) `Menos de 700 días`"
      ],
      "metadata": {
        "id": "f7SJFNVF2rYQ"
      }
    },
    {
      "cell_type": "markdown",
      "source": [
        "**Caso 1: Entre 650 y 750 días**"
      ],
      "metadata": {
        "id": "S6y_vJTI3ghQ"
      }
    },
    {
      "cell_type": "code",
      "source": [
        "media = 720\n",
        "desviacion_estandar = 30"
      ],
      "metadata": {
        "id": "HwHZ4y282rga"
      },
      "execution_count": 537,
      "outputs": []
    },
    {
      "cell_type": "code",
      "source": [
        "Z_superior = (750 - media) / desviacion_estandar\n",
        "Z_inferior = (650 - media) / desviacion_estandar\n"
      ],
      "metadata": {
        "id": "bc9eLr8p28_C"
      },
      "execution_count": 538,
      "outputs": []
    },
    {
      "cell_type": "code",
      "source": [
        "probabilidad = norm.cdf(Z_superior) - (norm.cdf(Z_inferior))\n",
        "print(f'La probabilidad de que una lámpara elegida al azar dure entre 650 a 750 días es de {probabilidad:.2%}')"
      ],
      "metadata": {
        "colab": {
          "base_uri": "https://localhost:8080/"
        },
        "id": "TeGXsXiV3ZSL",
        "outputId": "fdd68eb9-53fb-4354-820d-ebfa15eba360"
      },
      "execution_count": 539,
      "outputs": [
        {
          "output_type": "stream",
          "name": "stdout",
          "text": [
            "La probabilidad de que una lámpara elegida al azar dure entre 650 a 750 días es de 83.15%\n"
          ]
        }
      ]
    },
    {
      "cell_type": "markdown",
      "source": [
        "**Caso 2: Más de 800 días**"
      ],
      "metadata": {
        "id": "SzypbNXM38HA"
      }
    },
    {
      "cell_type": "code",
      "source": [
        "media = 720\n",
        "desviacion_estandar = 30"
      ],
      "metadata": {
        "id": "QJcIO1wE38OZ"
      },
      "execution_count": 540,
      "outputs": []
    },
    {
      "cell_type": "code",
      "source": [
        "Z = (800 - media) / desviacion_estandar"
      ],
      "metadata": {
        "id": "-R5IBNeb4Gzw"
      },
      "execution_count": 541,
      "outputs": []
    },
    {
      "cell_type": "code",
      "source": [
        "probabilidad = norm.cdf(-Z)\n",
        "print(f'La probabilidad de que una lámpara elegida al azar dure más de 800 días es de {probabilidad:.2%}')"
      ],
      "metadata": {
        "colab": {
          "base_uri": "https://localhost:8080/"
        },
        "id": "kvJ_VsSL4SSw",
        "outputId": "d0b5b456-e87b-4610-ba5c-c05b44c9fa10"
      },
      "execution_count": 542,
      "outputs": [
        {
          "output_type": "stream",
          "name": "stdout",
          "text": [
            "La probabilidad de que una lámpara elegida al azar dure más de 800 días es de 0.38%\n"
          ]
        }
      ]
    },
    {
      "cell_type": "markdown",
      "source": [
        "**Caso 3: Menos de 700 días**"
      ],
      "metadata": {
        "id": "8y_iXIjp4oHY"
      }
    },
    {
      "cell_type": "code",
      "source": [
        "media = 720\n",
        "desviacion_estandar = 30"
      ],
      "metadata": {
        "id": "jzAdUnrL473A"
      },
      "execution_count": 543,
      "outputs": []
    },
    {
      "cell_type": "code",
      "source": [
        "Z = (700 - media) / desviacion_estandar"
      ],
      "metadata": {
        "id": "e4-YPlJD4oQy"
      },
      "execution_count": 544,
      "outputs": []
    },
    {
      "cell_type": "code",
      "source": [
        "probabilidad = norm.cdf(Z)\n",
        "print(f'La probabilidad de que una lámpara elegida al azar dure menos de 700 días es de {probabilidad:.2%}')"
      ],
      "metadata": {
        "colab": {
          "base_uri": "https://localhost:8080/"
        },
        "id": "RrLItNfG5B8X",
        "outputId": "e58bbbb3-a23f-4e61-ebcc-71f78c9849e4"
      },
      "execution_count": 545,
      "outputs": [
        {
          "output_type": "stream",
          "name": "stdout",
          "text": [
            "La probabilidad de que una lámpara elegida al azar dure menos de 700 días es de 25.25%\n"
          ]
        }
      ]
    },
    {
      "cell_type": "markdown",
      "source": [
        "**Respuesta completa en un solo código**"
      ],
      "metadata": {
        "id": "mu7Xd8ME5Ryf"
      }
    },
    {
      "cell_type": "code",
      "source": [
        "from scipy.stats import norm\n",
        "\n",
        "# Distribución Normal - Duración de lámparas\n",
        "# La vida útil de las lámparas sigue una distribución normal con:\n",
        "media = 720                 # Promedio de duración (μ) en días\n",
        "desviacion_estandar = 30    # Desviación estándar (σ) en días\n",
        "\n",
        "# Item A\n",
        "# Calculamos los valores Z para los extremos del intervalo\n",
        "Z_inferior = (650 - media) / desviacion_estandar  # Z para 650 días\n",
        "Z_superior = (750 - media) / desviacion_estandar  # Z para 750 días\n",
        "\n",
        "# Calculamos la probabilidad acumulada entre esos valores\n",
        "probabilidad = norm.cdf(Z_superior) - norm.cdf(Z_inferior)\n",
        "print(f'La probabilidad de que una lámpara elegida al azar dure entre 650 a 750 días es de {probabilidad:.2%}')\n",
        "\n",
        "\n",
        "# Item B\n",
        "# Calculamos el valor Z para 800 días\n",
        "Z = (800 - media) / desviacion_estandar\n",
        "\n",
        "# Calculamos la probabilidad de que la duración sea mayor que 800 días (cola superior)\n",
        "probabilidad = 1 - norm.cdf(Z)\n",
        "print(f'La probabilidad de que una lámpara elegida al azar dure más de 800 días es de {probabilidad:.2%}')\n",
        "\n",
        "\n",
        "# Item C\n",
        "# Calculamos el valor Z para 700 días\n",
        "Z = (700 - media) / desviacion_estandar\n",
        "\n",
        "# Calculamos la probabilidad acumulada hasta 700 días\n",
        "probabilidad = norm.cdf(Z)\n",
        "print(f'La probabilidad de que una lámpara elegida al azar dure menos de 700 días es de {probabilidad:.2%}')"
      ],
      "metadata": {
        "colab": {
          "base_uri": "https://localhost:8080/"
        },
        "id": "QCUXmHYX5R5b",
        "outputId": "99f0f619-ddf1-4fea-c351-8435ea44d987"
      },
      "execution_count": 546,
      "outputs": [
        {
          "output_type": "stream",
          "name": "stdout",
          "text": [
            "La probabilidad de que una lámpara elegida al azar dure entre 650 a 750 días es de 83.15%\n",
            "La probabilidad de que una lámpara elegida al azar dure más de 800 días es de 0.38%\n",
            "La probabilidad de que una lámpara elegida al azar dure menos de 700 días es de 25.25%\n"
          ]
        }
      ]
    },
    {
      "cell_type": "markdown",
      "source": [
        "**Ejercicio 2**\n",
        "\n",
        "Usando la tabla estandarizada, o las herramientas proporcionadas por Python, encuentre el área debajo de la curva normal para los valores Z a continuación:\n",
        "\n",
        "1) `Z < 1,96`\n",
        "\n",
        "2) `Z > 2,15`\n",
        "\n",
        "3) `Z < -0,78`\n",
        "\n",
        "4) `Z > 0,59`"
      ],
      "metadata": {
        "id": "2sNSnj0u6g-o"
      }
    },
    {
      "cell_type": "code",
      "source": [
        "from scipy.stats import norm\n",
        "\n",
        "# Cálculo del área bajo la curva normal estándar para distintos valores de Z\n",
        "\n",
        "# 1) P(Z < 1.96): Área acumulada a la izquierda de Z = 1.96\n",
        "prob_1 = norm.cdf(1.96)\n",
        "\n",
        "# 2) P(Z > 2.15): Área a la derecha de Z = 2.15 → se obtiene con complemento\n",
        "prob_2 = 1 - norm.cdf(2.15)\n",
        "\n",
        "# 3) P(Z < -0.78): Área acumulada a la izquierda de Z negativo\n",
        "prob_3 = norm.cdf(-0.78)\n",
        "\n",
        "# 4) P(Z > 0.59): Área a la derecha de Z positivo → también se obtiene con complemento\n",
        "prob_4 = 1 - norm.cdf(0.59)\n",
        "\n",
        "# Impresión de resultados\n",
        "print(f'El área debajo de la curva normal para los valores de Z son:')\n",
        "print(f'(1) P(Z < 1.96)  = {prob_1:.4f}')   # ≈ 0.9750\n",
        "print(f'(2) P(Z > 2.15)  = {prob_2:.4f}')   # ≈ 0.0158\n",
        "print(f'(3) P(Z < -0.78) = {prob_3:.4f}')   # ≈ 0.2177\n",
        "print(f'(4) P(Z > 0.59)  = {prob_4:.4f}')   # ≈ 0.2776"
      ],
      "metadata": {
        "colab": {
          "base_uri": "https://localhost:8080/"
        },
        "id": "ju42YHbS62IP",
        "outputId": "c07edeee-26b9-4c6e-ac00-201590760044"
      },
      "execution_count": 547,
      "outputs": [
        {
          "output_type": "stream",
          "name": "stdout",
          "text": [
            "El área debajo de la curva normal para los valores de Z son:\n",
            "(1) P(Z < 1.96)  = 0.9750\n",
            "(2) P(Z > 2.15)  = 0.0158\n",
            "(3) P(Z < -0.78) = 0.2177\n",
            "(4) P(Z > 0.59)  = 0.2776\n"
          ]
        }
      ]
    },
    {
      "cell_type": "markdown",
      "metadata": {
        "id": "GmmzChE2t4wW"
      },
      "source": [
        "# <font color=green>3 MUESTREO</font>\n",
        "***"
      ]
    },
    {
      "cell_type": "markdown",
      "metadata": {
        "id": "g8PbtmQZt4Wv"
      },
      "source": [
        "## <font color=green>3.1 Población y Muestra</font>\n",
        "***"
      ]
    },
    {
      "cell_type": "markdown",
      "metadata": {
        "id": "sedD5gB9G3FV"
      },
      "source": [
        "### Población\n",
        "Conjunto de todos los elementos de interés de un estudio. Varios elementos pueden componer una población, por ejemplo: personas, edades, alturas, automóviles, etc.\n",
        "\n",
        "En cuanto al tamaño, las poblaciones pueden ser limitadas (poblaciones finitas) o ilimitadas (poblaciones infinitas)."
      ]
    },
    {
      "cell_type": "markdown",
      "metadata": {
        "id": "XBFhAWNcG3FW"
      },
      "source": [
        "### Poblaciones finitas\n",
        "\n",
        "Permiten el recuento de sus elementos. Los ejemplos incluyen el número de empleados en una empresa, el número de estudiantes en una escuela, etc."
      ]
    },
    {
      "cell_type": "markdown",
      "metadata": {
        "id": "YT8V2GB1G3FW"
      },
      "source": [
        "### Poblaciones infinitas\n",
        "\n",
        "No es posible contar sus elementos. Como ejemplos tenemos el número de porciones que se pueden extraer del agua del mar para su análisis, la temperatura medida en cada punto de un territorio, etc.\n",
        "\n",
        "<font color=red>Cuando se pueden contar los elementos de una población, pero presentando una cantidad muy grande, se supone que la población es infinita.</font>"
      ]
    },
    {
      "cell_type": "markdown",
      "metadata": {
        "id": "a-WtAXv1G3FX"
      },
      "source": [
        "### Muestra\n",
        "Subconjunto representativo de la población."
      ]
    },
    {
      "cell_type": "markdown",
      "metadata": {
        "id": "QWnDYpPSG3FX"
      },
      "source": [
        "Los atributos numéricos de una población, como su media, varianza y desviación estándar, se conocen como **parámetros**. El enfoque principal de la inferencia estadística es precisamente generar estimaciones y probar hipótesis sobre parámetros poblacionales utilizando información de la muestra."
      ]
    },
    {
      "cell_type": "markdown",
      "metadata": {
        "id": "dDz6vFbDG3FZ"
      },
      "source": [
        "## <font color=green>3.2 ¿Cuándo usar una muestra?</font>\n",
        "***"
      ]
    },
    {
      "cell_type": "markdown",
      "metadata": {
        "id": "5X1YwCGlG3Fe"
      },
      "source": [
        "### Poblaciones infinitas\n",
        "\n",
        "El estudio nunca llegaría a su fin. No es posible investigar todos los elementos de la población."
      ]
    },
    {
      "cell_type": "markdown",
      "metadata": {
        "id": "jHLtG8HSG3Ff"
      },
      "source": [
        "### Pruebas destructivas\n",
        "\n",
        "Estudios donde los elementos evaluados son totalmente consumidos o destruidos. Ejemplo: pruebas de vida útil, pruebas de seguridad en accidentes de tráfico."
      ]
    },
    {
      "cell_type": "markdown",
      "metadata": {
        "id": "lxYxepmdG3Ff"
      },
      "source": [
        "### Resultados rápidos\n",
        "\n",
        "Investigaciones que necesitan más agilidad en la difusión. Ejemplo: encuestas de opinión, encuestas sobre problemas de salud pública."
      ]
    },
    {
      "cell_type": "markdown",
      "metadata": {
        "id": "PeUCGL5nG3Fj"
      },
      "source": [
        "### Altos precios\n",
        "\n",
        "Cuando la población es finita pero muy grande, el costo de un censo puede hacer inviable el proceso."
      ]
    },
    {
      "cell_type": "markdown",
      "metadata": {
        "id": "1sbJeMpSG3Fj"
      },
      "source": [
        "## <font color=green>3.3 Muestreo Aleatorio Simple</font>\n",
        "***"
      ]
    },
    {
      "cell_type": "markdown",
      "metadata": {
        "id": "Kiq9cYMYG3Fp"
      },
      "source": [
        "Es una de las principales formas de extraer una muestra de una población. El requisito fundamental de este tipo de enfoque es que cada elemento de la población tenga las mismas posibilidades de ser seleccionado para formar parte de la muestra."
      ]
    },
    {
      "cell_type": "code",
      "metadata": {
        "id": "NtQ8HOYdG3Fq",
        "colab": {
          "base_uri": "https://localhost:8080/"
        },
        "outputId": "d200d351-6ebc-4989-9568-fa806e90e181"
      },
      "source": [
        "# Total de registros (observaciones) en el DataFrame original\n",
        "datos.shape[0] # resultado: 76840 registros u observaciones"
      ],
      "execution_count": 548,
      "outputs": [
        {
          "output_type": "execute_result",
          "data": {
            "text/plain": [
              "76840"
            ]
          },
          "metadata": {},
          "execution_count": 548
        }
      ]
    },
    {
      "cell_type": "code",
      "metadata": {
        "id": "DsXJHWhMG3Fs",
        "colab": {
          "base_uri": "https://localhost:8080/"
        },
        "outputId": "d83ce781-6a42-43f1-b176-0e36d113e5da"
      },
      "source": [
        "# Media de ingresos en la población completa\n",
        "datos.Ingreso.mean()"
      ],
      "execution_count": 549,
      "outputs": [
        {
          "output_type": "execute_result",
          "data": {
            "text/plain": [
              "np.float64(2000.3831988547631)"
            ]
          },
          "metadata": {},
          "execution_count": 549
        }
      ]
    },
    {
      "cell_type": "markdown",
      "source": [
        "**Selección de muestra aleatoria simple**"
      ],
      "metadata": {
        "id": "KSqvlDLBy8BV"
      }
    },
    {
      "cell_type": "code",
      "metadata": {
        "id": "k7yJucVMG3Fw"
      },
      "source": [
        "# Selección de una muestra aleatoria simple de tamaño 1000\n",
        "# random_state se fija para que los resultados sean reproducibles\n",
        "# random_state es como ponerle una \"semilla\" a la aleatoriedad, para que no cambie cada vez que se ejecute el código.\n",
        "muestra = datos.sample(n = 1000, random_state = 101)"
      ],
      "execution_count": 550,
      "outputs": []
    },
    {
      "cell_type": "code",
      "metadata": {
        "id": "wUyXS65sG3F2",
        "colab": {
          "base_uri": "https://localhost:8080/"
        },
        "outputId": "01f8c5ac-6694-47ab-b3c8-a9a8ac9943e3"
      },
      "source": [
        "# Confirmamos el tamaño de la muestra\n",
        "muestra.shape[0]"
      ],
      "execution_count": 551,
      "outputs": [
        {
          "output_type": "execute_result",
          "data": {
            "text/plain": [
              "1000"
            ]
          },
          "metadata": {},
          "execution_count": 551
        }
      ]
    },
    {
      "cell_type": "code",
      "metadata": {
        "id": "y0J4UtOwG3F5",
        "colab": {
          "base_uri": "https://localhost:8080/"
        },
        "outputId": "dcea6422-1d65-45a9-bba7-e860260e4a2f"
      },
      "source": [
        "# Media de ingresos en la muestra\n",
        "muestra.Ingreso.mean()"
      ],
      "execution_count": 552,
      "outputs": [
        {
          "output_type": "execute_result",
          "data": {
            "text/plain": [
              "np.float64(1998.783)"
            ]
          },
          "metadata": {},
          "execution_count": 552
        }
      ]
    },
    {
      "cell_type": "markdown",
      "source": [
        "**Distribución por sexo en % (Población vs. Muestra)**"
      ],
      "metadata": {
        "id": "x4eN14VzzMZz"
      }
    },
    {
      "cell_type": "code",
      "metadata": {
        "id": "WGZT_wnjSgPy",
        "colab": {
          "base_uri": "https://localhost:8080/",
          "height": 178
        },
        "outputId": "b888fd2e-0a0d-4725-d06e-e84ccd6c2989"
      },
      "source": [
        "# Distribución porcentual de Sexo en la población total\n",
        "datos.Sexo.value_counts(normalize = True) * 100"
      ],
      "execution_count": 553,
      "outputs": [
        {
          "output_type": "execute_result",
          "data": {
            "text/plain": [
              "Sexo\n",
              "0    69.299844\n",
              "1    30.700156\n",
              "Name: proportion, dtype: float64"
            ],
            "text/html": [
              "<div>\n",
              "<style scoped>\n",
              "    .dataframe tbody tr th:only-of-type {\n",
              "        vertical-align: middle;\n",
              "    }\n",
              "\n",
              "    .dataframe tbody tr th {\n",
              "        vertical-align: top;\n",
              "    }\n",
              "\n",
              "    .dataframe thead th {\n",
              "        text-align: right;\n",
              "    }\n",
              "</style>\n",
              "<table border=\"1\" class=\"dataframe\">\n",
              "  <thead>\n",
              "    <tr style=\"text-align: right;\">\n",
              "      <th></th>\n",
              "      <th>proportion</th>\n",
              "    </tr>\n",
              "    <tr>\n",
              "      <th>Sexo</th>\n",
              "      <th></th>\n",
              "    </tr>\n",
              "  </thead>\n",
              "  <tbody>\n",
              "    <tr>\n",
              "      <th>0</th>\n",
              "      <td>69.299844</td>\n",
              "    </tr>\n",
              "    <tr>\n",
              "      <th>1</th>\n",
              "      <td>30.700156</td>\n",
              "    </tr>\n",
              "  </tbody>\n",
              "</table>\n",
              "</div><br><label><b>dtype:</b> float64</label>"
            ]
          },
          "metadata": {},
          "execution_count": 553
        }
      ]
    },
    {
      "cell_type": "code",
      "metadata": {
        "id": "1la3Y_reSgEM",
        "colab": {
          "base_uri": "https://localhost:8080/",
          "height": 178
        },
        "outputId": "e92bdcac-6dc7-4cb2-bfd4-2ac01ef99f95"
      },
      "source": [
        "# Distribución porcentual de Sexo en la muestra\n",
        "muestra.Sexo.value_counts(normalize = True) * 100"
      ],
      "execution_count": 554,
      "outputs": [
        {
          "output_type": "execute_result",
          "data": {
            "text/plain": [
              "Sexo\n",
              "0    70.6\n",
              "1    29.4\n",
              "Name: proportion, dtype: float64"
            ],
            "text/html": [
              "<div>\n",
              "<style scoped>\n",
              "    .dataframe tbody tr th:only-of-type {\n",
              "        vertical-align: middle;\n",
              "    }\n",
              "\n",
              "    .dataframe tbody tr th {\n",
              "        vertical-align: top;\n",
              "    }\n",
              "\n",
              "    .dataframe thead th {\n",
              "        text-align: right;\n",
              "    }\n",
              "</style>\n",
              "<table border=\"1\" class=\"dataframe\">\n",
              "  <thead>\n",
              "    <tr style=\"text-align: right;\">\n",
              "      <th></th>\n",
              "      <th>proportion</th>\n",
              "    </tr>\n",
              "    <tr>\n",
              "      <th>Sexo</th>\n",
              "      <th></th>\n",
              "    </tr>\n",
              "  </thead>\n",
              "  <tbody>\n",
              "    <tr>\n",
              "      <th>0</th>\n",
              "      <td>70.6</td>\n",
              "    </tr>\n",
              "    <tr>\n",
              "      <th>1</th>\n",
              "      <td>29.4</td>\n",
              "    </tr>\n",
              "  </tbody>\n",
              "</table>\n",
              "</div><br><label><b>dtype:</b> float64</label>"
            ]
          },
          "metadata": {},
          "execution_count": 554
        }
      ]
    },
    {
      "cell_type": "markdown",
      "metadata": {
        "id": "stcKhnJBG3F7"
      },
      "source": [
        "## <font color=green>3.4 Muestreo Estratificado</font>\n",
        "***"
      ]
    },
    {
      "cell_type": "markdown",
      "metadata": {
        "id": "W1uEZMRIG3GA"
      },
      "source": [
        "Es una mejora del proceso de muestreo aleatorio simple. En este método, se propone dividir la población en subgrupos de elementos con características similares, es decir, grupos más homogéneos. Con estos subgrupos separados, la técnica de muestreo aleatorio simple dentro de cada subgrupo se aplica individualmente."
      ]
    },
    {
      "cell_type": "markdown",
      "metadata": {
        "id": "xRjUHDAbG3GB"
      },
      "source": [
        "## <font color=green>3.5 Muestreo por Conglomerados</font>\n",
        "***"
      ]
    },
    {
      "cell_type": "markdown",
      "metadata": {
        "id": "sW9IuaL9G3GH"
      },
      "source": [
        "También tiene como objetivo mejorar el criterio de muestreo aleatorio simple. En el muestreo por conglomerados también se crean subgrupos, pero no serán homogéneos como en el muestreo estratificado. En el muestreo por conglomerados los subgrupos serán heterogéneos, donde luego se aplicará un muestreo aleatorio simple o estratificado.\n",
        "\n",
        "Un ejemplo muy común de la aplicación de este tipo de técnica es la división de la población en grupos territoriales, donde los elementos investigados tendrán características bastante variadas."
      ]
    },
    {
      "cell_type": "markdown",
      "metadata": {
        "id": "2LNJT4FEuzO4"
      },
      "source": [
        "# <font color=green>4 ESTIMACIÓN</font>\n",
        "***"
      ]
    },
    {
      "cell_type": "markdown",
      "metadata": {
        "id": "z69W2sVGmybS"
      },
      "source": [
        "## <font color='red'>Problema </font>"
      ]
    },
    {
      "cell_type": "markdown",
      "metadata": {
        "id": "ytP6VpismwDY"
      },
      "source": [
        "Suponga que los pesos de las bolsas de arroz de una industria alimentaria se distribuyen aproximadamente como una distribución normal **desviación estándar igual a 150 g**. Se seleccionó una **muestra aleatoria de 20 bolsas** de un lote específico, se obtuvo un **peso promedio de 5.050 g**. Construya un **intervalo de confianza para la media de la población** asumiendo un **nivel de significancia del 5%**."
      ]
    },
    {
      "cell_type": "markdown",
      "metadata": {
        "id": "PCqEvJMOwvUf"
      },
      "source": [
        "---"
      ]
    },
    {
      "cell_type": "markdown",
      "metadata": {
        "id": "HU578SXBG3GN"
      },
      "source": [
        "Es la forma de hacer suposiciones generalizadas sobre los parámetros de una población a partir de información de una muestra.\n",
        "\n",
        "- **Los parámetros** son los atributos numéricos de una población, como la media, la desviación estándar, etc.\n",
        "\n",
        "- **Estimación** es el valor obtenido para un parámetro dado a partir de los datos de una muestra de la población."
      ]
    },
    {
      "cell_type": "markdown",
      "metadata": {
        "id": "klWVkoUDG3GR"
      },
      "source": [
        "## <font color=green>4.1 Teorema central del límite</font>\n",
        "***"
      ]
    },
    {
      "cell_type": "markdown",
      "metadata": {
        "id": "QpgTvbISG3GU"
      },
      "source": [
        "> El **Teorema Central del Límite** establece que, con el aumento del tamaño de la muestra, la distribución de las medias muestrales se aproxima a una distribución normal con media igual a la media de la población y una desviación estándar igual a la desviación estándar de la variable original dividida por la raíz cuadrada del tamaño de la muestra. Este hecho está asegurado para $n$ mayores o iguales a 30."
      ]
    },
    {
      "cell_type": "markdown",
      "metadata": {
        "id": "ZIAr6is3wEMp"
      },
      "source": [
        "# $$\\sigma_\\bar{x} = \\frac{\\sigma}{\\sqrt{n}}$$\n",
        "\n",
        "La desviación estándar de las medias muestrales se conoce como **error estándar de la media**"
      ]
    },
    {
      "cell_type": "markdown",
      "metadata": {
        "id": "eFtSo6H0iz7z"
      },
      "source": [
        "### Entendiendo el Teorema Central del Límite"
      ]
    },
    {
      "cell_type": "code",
      "metadata": {
        "id": "S3q73XpnizTi"
      },
      "source": [
        "# Definición de parámetros\n",
        "n = 2000 # tamaño de cada muestra\n",
        "total_de_muestras = 1500 # Número total de muestras a generar"
      ],
      "execution_count": 555,
      "outputs": []
    },
    {
      "cell_type": "code",
      "metadata": {
        "id": "uXZvARZ0izQp",
        "colab": {
          "base_uri": "https://localhost:8080/",
          "height": 89
        },
        "outputId": "3d186f96-ba4a-4269-f566-3651708bba66"
      },
      "source": [
        "# Crear un DataFrame vacío para almacenar las muestras\n",
        "muestras = pd.DataFrame()\n",
        "muestras"
      ],
      "execution_count": 556,
      "outputs": [
        {
          "output_type": "execute_result",
          "data": {
            "text/plain": [
              "Empty DataFrame\n",
              "Columns: []\n",
              "Index: []"
            ],
            "text/html": [
              "\n",
              "  <div id=\"df-0fbbac05-5f4b-470e-9ac3-64f63547c2ba\" class=\"colab-df-container\">\n",
              "    <div>\n",
              "<style scoped>\n",
              "    .dataframe tbody tr th:only-of-type {\n",
              "        vertical-align: middle;\n",
              "    }\n",
              "\n",
              "    .dataframe tbody tr th {\n",
              "        vertical-align: top;\n",
              "    }\n",
              "\n",
              "    .dataframe thead th {\n",
              "        text-align: right;\n",
              "    }\n",
              "</style>\n",
              "<table border=\"1\" class=\"dataframe\">\n",
              "  <thead>\n",
              "    <tr style=\"text-align: right;\">\n",
              "      <th></th>\n",
              "    </tr>\n",
              "  </thead>\n",
              "  <tbody>\n",
              "  </tbody>\n",
              "</table>\n",
              "</div>\n",
              "    <div class=\"colab-df-buttons\">\n",
              "\n",
              "  <div class=\"colab-df-container\">\n",
              "    <button class=\"colab-df-convert\" onclick=\"convertToInteractive('df-0fbbac05-5f4b-470e-9ac3-64f63547c2ba')\"\n",
              "            title=\"Convert this dataframe to an interactive table.\"\n",
              "            style=\"display:none;\">\n",
              "\n",
              "  <svg xmlns=\"http://www.w3.org/2000/svg\" height=\"24px\" viewBox=\"0 -960 960 960\">\n",
              "    <path d=\"M120-120v-720h720v720H120Zm60-500h600v-160H180v160Zm220 220h160v-160H400v160Zm0 220h160v-160H400v160ZM180-400h160v-160H180v160Zm440 0h160v-160H620v160ZM180-180h160v-160H180v160Zm440 0h160v-160H620v160Z\"/>\n",
              "  </svg>\n",
              "    </button>\n",
              "\n",
              "  <style>\n",
              "    .colab-df-container {\n",
              "      display:flex;\n",
              "      gap: 12px;\n",
              "    }\n",
              "\n",
              "    .colab-df-convert {\n",
              "      background-color: #E8F0FE;\n",
              "      border: none;\n",
              "      border-radius: 50%;\n",
              "      cursor: pointer;\n",
              "      display: none;\n",
              "      fill: #1967D2;\n",
              "      height: 32px;\n",
              "      padding: 0 0 0 0;\n",
              "      width: 32px;\n",
              "    }\n",
              "\n",
              "    .colab-df-convert:hover {\n",
              "      background-color: #E2EBFA;\n",
              "      box-shadow: 0px 1px 2px rgba(60, 64, 67, 0.3), 0px 1px 3px 1px rgba(60, 64, 67, 0.15);\n",
              "      fill: #174EA6;\n",
              "    }\n",
              "\n",
              "    .colab-df-buttons div {\n",
              "      margin-bottom: 4px;\n",
              "    }\n",
              "\n",
              "    [theme=dark] .colab-df-convert {\n",
              "      background-color: #3B4455;\n",
              "      fill: #D2E3FC;\n",
              "    }\n",
              "\n",
              "    [theme=dark] .colab-df-convert:hover {\n",
              "      background-color: #434B5C;\n",
              "      box-shadow: 0px 1px 3px 1px rgba(0, 0, 0, 0.15);\n",
              "      filter: drop-shadow(0px 1px 2px rgba(0, 0, 0, 0.3));\n",
              "      fill: #FFFFFF;\n",
              "    }\n",
              "  </style>\n",
              "\n",
              "    <script>\n",
              "      const buttonEl =\n",
              "        document.querySelector('#df-0fbbac05-5f4b-470e-9ac3-64f63547c2ba button.colab-df-convert');\n",
              "      buttonEl.style.display =\n",
              "        google.colab.kernel.accessAllowed ? 'block' : 'none';\n",
              "\n",
              "      async function convertToInteractive(key) {\n",
              "        const element = document.querySelector('#df-0fbbac05-5f4b-470e-9ac3-64f63547c2ba');\n",
              "        const dataTable =\n",
              "          await google.colab.kernel.invokeFunction('convertToInteractive',\n",
              "                                                    [key], {});\n",
              "        if (!dataTable) return;\n",
              "\n",
              "        const docLinkHtml = 'Like what you see? Visit the ' +\n",
              "          '<a target=\"_blank\" href=https://colab.research.google.com/notebooks/data_table.ipynb>data table notebook</a>'\n",
              "          + ' to learn more about interactive tables.';\n",
              "        element.innerHTML = '';\n",
              "        dataTable['output_type'] = 'display_data';\n",
              "        await google.colab.output.renderOutput(dataTable, element);\n",
              "        const docLink = document.createElement('div');\n",
              "        docLink.innerHTML = docLinkHtml;\n",
              "        element.appendChild(docLink);\n",
              "      }\n",
              "    </script>\n",
              "  </div>\n",
              "\n",
              "\n",
              "  <div id=\"id_9db19e9e-8bdb-41c1-a5c0-a5b44fc7de39\">\n",
              "    <style>\n",
              "      .colab-df-generate {\n",
              "        background-color: #E8F0FE;\n",
              "        border: none;\n",
              "        border-radius: 50%;\n",
              "        cursor: pointer;\n",
              "        display: none;\n",
              "        fill: #1967D2;\n",
              "        height: 32px;\n",
              "        padding: 0 0 0 0;\n",
              "        width: 32px;\n",
              "      }\n",
              "\n",
              "      .colab-df-generate:hover {\n",
              "        background-color: #E2EBFA;\n",
              "        box-shadow: 0px 1px 2px rgba(60, 64, 67, 0.3), 0px 1px 3px 1px rgba(60, 64, 67, 0.15);\n",
              "        fill: #174EA6;\n",
              "      }\n",
              "\n",
              "      [theme=dark] .colab-df-generate {\n",
              "        background-color: #3B4455;\n",
              "        fill: #D2E3FC;\n",
              "      }\n",
              "\n",
              "      [theme=dark] .colab-df-generate:hover {\n",
              "        background-color: #434B5C;\n",
              "        box-shadow: 0px 1px 3px 1px rgba(0, 0, 0, 0.15);\n",
              "        filter: drop-shadow(0px 1px 2px rgba(0, 0, 0, 0.3));\n",
              "        fill: #FFFFFF;\n",
              "      }\n",
              "    </style>\n",
              "    <button class=\"colab-df-generate\" onclick=\"generateWithVariable('muestras')\"\n",
              "            title=\"Generate code using this dataframe.\"\n",
              "            style=\"display:none;\">\n",
              "\n",
              "  <svg xmlns=\"http://www.w3.org/2000/svg\" height=\"24px\"viewBox=\"0 0 24 24\"\n",
              "       width=\"24px\">\n",
              "    <path d=\"M7,19H8.4L18.45,9,17,7.55,7,17.6ZM5,21V16.75L18.45,3.32a2,2,0,0,1,2.83,0l1.4,1.43a1.91,1.91,0,0,1,.58,1.4,1.91,1.91,0,0,1-.58,1.4L9.25,21ZM18.45,9,17,7.55Zm-12,3A5.31,5.31,0,0,0,4.9,8.1,5.31,5.31,0,0,0,1,6.5,5.31,5.31,0,0,0,4.9,4.9,5.31,5.31,0,0,0,6.5,1,5.31,5.31,0,0,0,8.1,4.9,5.31,5.31,0,0,0,12,6.5,5.46,5.46,0,0,0,6.5,12Z\"/>\n",
              "  </svg>\n",
              "    </button>\n",
              "    <script>\n",
              "      (() => {\n",
              "      const buttonEl =\n",
              "        document.querySelector('#id_9db19e9e-8bdb-41c1-a5c0-a5b44fc7de39 button.colab-df-generate');\n",
              "      buttonEl.style.display =\n",
              "        google.colab.kernel.accessAllowed ? 'block' : 'none';\n",
              "\n",
              "      buttonEl.onclick = () => {\n",
              "        google.colab.notebook.generateWithVariable('muestras');\n",
              "      }\n",
              "      })();\n",
              "    </script>\n",
              "  </div>\n",
              "\n",
              "    </div>\n",
              "  </div>\n"
            ],
            "application/vnd.google.colaboratory.intrinsic+json": {
              "type": "dataframe",
              "variable_name": "muestras",
              "summary": "{\n  \"name\": \"muestras\",\n  \"rows\": 0,\n  \"fields\": []\n}"
            }
          },
          "metadata": {},
          "execution_count": 556
        }
      ]
    },
    {
      "cell_type": "code",
      "metadata": {
        "id": "tXa7XKhKTyMu",
        "scrolled": true,
        "colab": {
          "base_uri": "https://localhost:8080/",
          "height": 443
        },
        "outputId": "7209a1d9-8d90-4302-b75f-6dd77efcf024"
      },
      "source": [
        "# Generar múltiples muestras y guardarlas columna por columna\n",
        "# _ es una variable temporal, que sea _ no significa nada en particular (es un nombre como cualquier otro)\n",
        "for i in range (total_de_muestras):\n",
        "  _ = datos.Edad.sample(n)  # Muestra aleatoria de tamaño n\n",
        "  _.index = range(0, len(_)) # Se reinicia el índice para evitar conflictos\n",
        "  muestras['Muestra_' + str(i)] = _ # Cada muestra se guarda como una columna diferente\n",
        "# Ahora se tienen 1500 columnas, cada una con 2000 valores de edades aleatorias tomadas del conjunto original.\n",
        "muestras"
      ],
      "execution_count": 618,
      "outputs": [
        {
          "output_type": "execute_result",
          "data": {
            "text/plain": [
              "      Muestra_0  Muestra_1  Muestra_2  Muestra_3  Muestra_4  Muestra_5  \\\n",
              "0            31         34         27         36         43         29   \n",
              "1            24         51         34         52         52         48   \n",
              "2            29         38         40         39         37         56   \n",
              "3            22         45         26         54         43         50   \n",
              "4            43         46         60         51         43         47   \n",
              "...         ...        ...        ...        ...        ...        ...   \n",
              "1995         28         47         46         33         34         32   \n",
              "1996         58         46         54         24         31         39   \n",
              "1997         30         33         53         52         37         55   \n",
              "1998         58         41         48         49         33         52   \n",
              "1999         63         69         55         30         35         68   \n",
              "\n",
              "      Muestra_6  Muestra_7  Muestra_8  Muestra_9  ...  Muestra_1490  \\\n",
              "0            49         50         64         42  ...            50   \n",
              "1            52         28         41         55  ...            29   \n",
              "2            20         36         41         34  ...            64   \n",
              "3            60         40         41         68  ...            39   \n",
              "4            28         67         24         47  ...            55   \n",
              "...         ...        ...        ...        ...  ...           ...   \n",
              "1995         57         58         48         31  ...            52   \n",
              "1996         32         55         54         25  ...            24   \n",
              "1997         23         42         38         33  ...            50   \n",
              "1998         43         47         52         46  ...            31   \n",
              "1999         38         38         49         23  ...            29   \n",
              "\n",
              "      Muestra_1491  Muestra_1492  Muestra_1493  Muestra_1494  Muestra_1495  \\\n",
              "0               45            37            43            40            53   \n",
              "1               33            53            55            45            54   \n",
              "2               31            79            28            47            39   \n",
              "3               59            30            35            47            41   \n",
              "4               50            59            26            54            34   \n",
              "...            ...           ...           ...           ...           ...   \n",
              "1995            49            34            26            39            36   \n",
              "1996            47            45            33            50            56   \n",
              "1997            75            61            34            44            60   \n",
              "1998            33            35            39            39            75   \n",
              "1999            27            83            52            51            27   \n",
              "\n",
              "      Muestra_1496  Muestra_1497  Muestra_1498  Muestra_1499  \n",
              "0               36            47            44            36  \n",
              "1               59            49            42            31  \n",
              "2               40            37            42            38  \n",
              "3               61            66            38            59  \n",
              "4               26            36            34            47  \n",
              "...            ...           ...           ...           ...  \n",
              "1995            53            51            48            36  \n",
              "1996            29            56            33            26  \n",
              "1997            37            28            43            50  \n",
              "1998            30            46            61            64  \n",
              "1999            48            34            35            55  \n",
              "\n",
              "[2000 rows x 1500 columns]"
            ],
            "text/html": [
              "\n",
              "  <div id=\"df-234a3b7e-9f39-4317-b3ce-983b9833a3b0\" class=\"colab-df-container\">\n",
              "    <div>\n",
              "<style scoped>\n",
              "    .dataframe tbody tr th:only-of-type {\n",
              "        vertical-align: middle;\n",
              "    }\n",
              "\n",
              "    .dataframe tbody tr th {\n",
              "        vertical-align: top;\n",
              "    }\n",
              "\n",
              "    .dataframe thead th {\n",
              "        text-align: right;\n",
              "    }\n",
              "</style>\n",
              "<table border=\"1\" class=\"dataframe\">\n",
              "  <thead>\n",
              "    <tr style=\"text-align: right;\">\n",
              "      <th></th>\n",
              "      <th>Muestra_0</th>\n",
              "      <th>Muestra_1</th>\n",
              "      <th>Muestra_2</th>\n",
              "      <th>Muestra_3</th>\n",
              "      <th>Muestra_4</th>\n",
              "      <th>Muestra_5</th>\n",
              "      <th>Muestra_6</th>\n",
              "      <th>Muestra_7</th>\n",
              "      <th>Muestra_8</th>\n",
              "      <th>Muestra_9</th>\n",
              "      <th>...</th>\n",
              "      <th>Muestra_1490</th>\n",
              "      <th>Muestra_1491</th>\n",
              "      <th>Muestra_1492</th>\n",
              "      <th>Muestra_1493</th>\n",
              "      <th>Muestra_1494</th>\n",
              "      <th>Muestra_1495</th>\n",
              "      <th>Muestra_1496</th>\n",
              "      <th>Muestra_1497</th>\n",
              "      <th>Muestra_1498</th>\n",
              "      <th>Muestra_1499</th>\n",
              "    </tr>\n",
              "  </thead>\n",
              "  <tbody>\n",
              "    <tr>\n",
              "      <th>0</th>\n",
              "      <td>31</td>\n",
              "      <td>34</td>\n",
              "      <td>27</td>\n",
              "      <td>36</td>\n",
              "      <td>43</td>\n",
              "      <td>29</td>\n",
              "      <td>49</td>\n",
              "      <td>50</td>\n",
              "      <td>64</td>\n",
              "      <td>42</td>\n",
              "      <td>...</td>\n",
              "      <td>50</td>\n",
              "      <td>45</td>\n",
              "      <td>37</td>\n",
              "      <td>43</td>\n",
              "      <td>40</td>\n",
              "      <td>53</td>\n",
              "      <td>36</td>\n",
              "      <td>47</td>\n",
              "      <td>44</td>\n",
              "      <td>36</td>\n",
              "    </tr>\n",
              "    <tr>\n",
              "      <th>1</th>\n",
              "      <td>24</td>\n",
              "      <td>51</td>\n",
              "      <td>34</td>\n",
              "      <td>52</td>\n",
              "      <td>52</td>\n",
              "      <td>48</td>\n",
              "      <td>52</td>\n",
              "      <td>28</td>\n",
              "      <td>41</td>\n",
              "      <td>55</td>\n",
              "      <td>...</td>\n",
              "      <td>29</td>\n",
              "      <td>33</td>\n",
              "      <td>53</td>\n",
              "      <td>55</td>\n",
              "      <td>45</td>\n",
              "      <td>54</td>\n",
              "      <td>59</td>\n",
              "      <td>49</td>\n",
              "      <td>42</td>\n",
              "      <td>31</td>\n",
              "    </tr>\n",
              "    <tr>\n",
              "      <th>2</th>\n",
              "      <td>29</td>\n",
              "      <td>38</td>\n",
              "      <td>40</td>\n",
              "      <td>39</td>\n",
              "      <td>37</td>\n",
              "      <td>56</td>\n",
              "      <td>20</td>\n",
              "      <td>36</td>\n",
              "      <td>41</td>\n",
              "      <td>34</td>\n",
              "      <td>...</td>\n",
              "      <td>64</td>\n",
              "      <td>31</td>\n",
              "      <td>79</td>\n",
              "      <td>28</td>\n",
              "      <td>47</td>\n",
              "      <td>39</td>\n",
              "      <td>40</td>\n",
              "      <td>37</td>\n",
              "      <td>42</td>\n",
              "      <td>38</td>\n",
              "    </tr>\n",
              "    <tr>\n",
              "      <th>3</th>\n",
              "      <td>22</td>\n",
              "      <td>45</td>\n",
              "      <td>26</td>\n",
              "      <td>54</td>\n",
              "      <td>43</td>\n",
              "      <td>50</td>\n",
              "      <td>60</td>\n",
              "      <td>40</td>\n",
              "      <td>41</td>\n",
              "      <td>68</td>\n",
              "      <td>...</td>\n",
              "      <td>39</td>\n",
              "      <td>59</td>\n",
              "      <td>30</td>\n",
              "      <td>35</td>\n",
              "      <td>47</td>\n",
              "      <td>41</td>\n",
              "      <td>61</td>\n",
              "      <td>66</td>\n",
              "      <td>38</td>\n",
              "      <td>59</td>\n",
              "    </tr>\n",
              "    <tr>\n",
              "      <th>4</th>\n",
              "      <td>43</td>\n",
              "      <td>46</td>\n",
              "      <td>60</td>\n",
              "      <td>51</td>\n",
              "      <td>43</td>\n",
              "      <td>47</td>\n",
              "      <td>28</td>\n",
              "      <td>67</td>\n",
              "      <td>24</td>\n",
              "      <td>47</td>\n",
              "      <td>...</td>\n",
              "      <td>55</td>\n",
              "      <td>50</td>\n",
              "      <td>59</td>\n",
              "      <td>26</td>\n",
              "      <td>54</td>\n",
              "      <td>34</td>\n",
              "      <td>26</td>\n",
              "      <td>36</td>\n",
              "      <td>34</td>\n",
              "      <td>47</td>\n",
              "    </tr>\n",
              "    <tr>\n",
              "      <th>...</th>\n",
              "      <td>...</td>\n",
              "      <td>...</td>\n",
              "      <td>...</td>\n",
              "      <td>...</td>\n",
              "      <td>...</td>\n",
              "      <td>...</td>\n",
              "      <td>...</td>\n",
              "      <td>...</td>\n",
              "      <td>...</td>\n",
              "      <td>...</td>\n",
              "      <td>...</td>\n",
              "      <td>...</td>\n",
              "      <td>...</td>\n",
              "      <td>...</td>\n",
              "      <td>...</td>\n",
              "      <td>...</td>\n",
              "      <td>...</td>\n",
              "      <td>...</td>\n",
              "      <td>...</td>\n",
              "      <td>...</td>\n",
              "      <td>...</td>\n",
              "    </tr>\n",
              "    <tr>\n",
              "      <th>1995</th>\n",
              "      <td>28</td>\n",
              "      <td>47</td>\n",
              "      <td>46</td>\n",
              "      <td>33</td>\n",
              "      <td>34</td>\n",
              "      <td>32</td>\n",
              "      <td>57</td>\n",
              "      <td>58</td>\n",
              "      <td>48</td>\n",
              "      <td>31</td>\n",
              "      <td>...</td>\n",
              "      <td>52</td>\n",
              "      <td>49</td>\n",
              "      <td>34</td>\n",
              "      <td>26</td>\n",
              "      <td>39</td>\n",
              "      <td>36</td>\n",
              "      <td>53</td>\n",
              "      <td>51</td>\n",
              "      <td>48</td>\n",
              "      <td>36</td>\n",
              "    </tr>\n",
              "    <tr>\n",
              "      <th>1996</th>\n",
              "      <td>58</td>\n",
              "      <td>46</td>\n",
              "      <td>54</td>\n",
              "      <td>24</td>\n",
              "      <td>31</td>\n",
              "      <td>39</td>\n",
              "      <td>32</td>\n",
              "      <td>55</td>\n",
              "      <td>54</td>\n",
              "      <td>25</td>\n",
              "      <td>...</td>\n",
              "      <td>24</td>\n",
              "      <td>47</td>\n",
              "      <td>45</td>\n",
              "      <td>33</td>\n",
              "      <td>50</td>\n",
              "      <td>56</td>\n",
              "      <td>29</td>\n",
              "      <td>56</td>\n",
              "      <td>33</td>\n",
              "      <td>26</td>\n",
              "    </tr>\n",
              "    <tr>\n",
              "      <th>1997</th>\n",
              "      <td>30</td>\n",
              "      <td>33</td>\n",
              "      <td>53</td>\n",
              "      <td>52</td>\n",
              "      <td>37</td>\n",
              "      <td>55</td>\n",
              "      <td>23</td>\n",
              "      <td>42</td>\n",
              "      <td>38</td>\n",
              "      <td>33</td>\n",
              "      <td>...</td>\n",
              "      <td>50</td>\n",
              "      <td>75</td>\n",
              "      <td>61</td>\n",
              "      <td>34</td>\n",
              "      <td>44</td>\n",
              "      <td>60</td>\n",
              "      <td>37</td>\n",
              "      <td>28</td>\n",
              "      <td>43</td>\n",
              "      <td>50</td>\n",
              "    </tr>\n",
              "    <tr>\n",
              "      <th>1998</th>\n",
              "      <td>58</td>\n",
              "      <td>41</td>\n",
              "      <td>48</td>\n",
              "      <td>49</td>\n",
              "      <td>33</td>\n",
              "      <td>52</td>\n",
              "      <td>43</td>\n",
              "      <td>47</td>\n",
              "      <td>52</td>\n",
              "      <td>46</td>\n",
              "      <td>...</td>\n",
              "      <td>31</td>\n",
              "      <td>33</td>\n",
              "      <td>35</td>\n",
              "      <td>39</td>\n",
              "      <td>39</td>\n",
              "      <td>75</td>\n",
              "      <td>30</td>\n",
              "      <td>46</td>\n",
              "      <td>61</td>\n",
              "      <td>64</td>\n",
              "    </tr>\n",
              "    <tr>\n",
              "      <th>1999</th>\n",
              "      <td>63</td>\n",
              "      <td>69</td>\n",
              "      <td>55</td>\n",
              "      <td>30</td>\n",
              "      <td>35</td>\n",
              "      <td>68</td>\n",
              "      <td>38</td>\n",
              "      <td>38</td>\n",
              "      <td>49</td>\n",
              "      <td>23</td>\n",
              "      <td>...</td>\n",
              "      <td>29</td>\n",
              "      <td>27</td>\n",
              "      <td>83</td>\n",
              "      <td>52</td>\n",
              "      <td>51</td>\n",
              "      <td>27</td>\n",
              "      <td>48</td>\n",
              "      <td>34</td>\n",
              "      <td>35</td>\n",
              "      <td>55</td>\n",
              "    </tr>\n",
              "  </tbody>\n",
              "</table>\n",
              "<p>2000 rows × 1500 columns</p>\n",
              "</div>\n",
              "    <div class=\"colab-df-buttons\">\n",
              "\n",
              "  <div class=\"colab-df-container\">\n",
              "    <button class=\"colab-df-convert\" onclick=\"convertToInteractive('df-234a3b7e-9f39-4317-b3ce-983b9833a3b0')\"\n",
              "            title=\"Convert this dataframe to an interactive table.\"\n",
              "            style=\"display:none;\">\n",
              "\n",
              "  <svg xmlns=\"http://www.w3.org/2000/svg\" height=\"24px\" viewBox=\"0 -960 960 960\">\n",
              "    <path d=\"M120-120v-720h720v720H120Zm60-500h600v-160H180v160Zm220 220h160v-160H400v160Zm0 220h160v-160H400v160ZM180-400h160v-160H180v160Zm440 0h160v-160H620v160ZM180-180h160v-160H180v160Zm440 0h160v-160H620v160Z\"/>\n",
              "  </svg>\n",
              "    </button>\n",
              "\n",
              "  <style>\n",
              "    .colab-df-container {\n",
              "      display:flex;\n",
              "      gap: 12px;\n",
              "    }\n",
              "\n",
              "    .colab-df-convert {\n",
              "      background-color: #E8F0FE;\n",
              "      border: none;\n",
              "      border-radius: 50%;\n",
              "      cursor: pointer;\n",
              "      display: none;\n",
              "      fill: #1967D2;\n",
              "      height: 32px;\n",
              "      padding: 0 0 0 0;\n",
              "      width: 32px;\n",
              "    }\n",
              "\n",
              "    .colab-df-convert:hover {\n",
              "      background-color: #E2EBFA;\n",
              "      box-shadow: 0px 1px 2px rgba(60, 64, 67, 0.3), 0px 1px 3px 1px rgba(60, 64, 67, 0.15);\n",
              "      fill: #174EA6;\n",
              "    }\n",
              "\n",
              "    .colab-df-buttons div {\n",
              "      margin-bottom: 4px;\n",
              "    }\n",
              "\n",
              "    [theme=dark] .colab-df-convert {\n",
              "      background-color: #3B4455;\n",
              "      fill: #D2E3FC;\n",
              "    }\n",
              "\n",
              "    [theme=dark] .colab-df-convert:hover {\n",
              "      background-color: #434B5C;\n",
              "      box-shadow: 0px 1px 3px 1px rgba(0, 0, 0, 0.15);\n",
              "      filter: drop-shadow(0px 1px 2px rgba(0, 0, 0, 0.3));\n",
              "      fill: #FFFFFF;\n",
              "    }\n",
              "  </style>\n",
              "\n",
              "    <script>\n",
              "      const buttonEl =\n",
              "        document.querySelector('#df-234a3b7e-9f39-4317-b3ce-983b9833a3b0 button.colab-df-convert');\n",
              "      buttonEl.style.display =\n",
              "        google.colab.kernel.accessAllowed ? 'block' : 'none';\n",
              "\n",
              "      async function convertToInteractive(key) {\n",
              "        const element = document.querySelector('#df-234a3b7e-9f39-4317-b3ce-983b9833a3b0');\n",
              "        const dataTable =\n",
              "          await google.colab.kernel.invokeFunction('convertToInteractive',\n",
              "                                                    [key], {});\n",
              "        if (!dataTable) return;\n",
              "\n",
              "        const docLinkHtml = 'Like what you see? Visit the ' +\n",
              "          '<a target=\"_blank\" href=https://colab.research.google.com/notebooks/data_table.ipynb>data table notebook</a>'\n",
              "          + ' to learn more about interactive tables.';\n",
              "        element.innerHTML = '';\n",
              "        dataTable['output_type'] = 'display_data';\n",
              "        await google.colab.output.renderOutput(dataTable, element);\n",
              "        const docLink = document.createElement('div');\n",
              "        docLink.innerHTML = docLinkHtml;\n",
              "        element.appendChild(docLink);\n",
              "      }\n",
              "    </script>\n",
              "  </div>\n",
              "\n",
              "\n",
              "    <div id=\"df-70d297a9-e7f5-4df0-a8a6-0f37576811f0\">\n",
              "      <button class=\"colab-df-quickchart\" onclick=\"quickchart('df-70d297a9-e7f5-4df0-a8a6-0f37576811f0')\"\n",
              "                title=\"Suggest charts\"\n",
              "                style=\"display:none;\">\n",
              "\n",
              "<svg xmlns=\"http://www.w3.org/2000/svg\" height=\"24px\"viewBox=\"0 0 24 24\"\n",
              "     width=\"24px\">\n",
              "    <g>\n",
              "        <path d=\"M19 3H5c-1.1 0-2 .9-2 2v14c0 1.1.9 2 2 2h14c1.1 0 2-.9 2-2V5c0-1.1-.9-2-2-2zM9 17H7v-7h2v7zm4 0h-2V7h2v10zm4 0h-2v-4h2v4z\"/>\n",
              "    </g>\n",
              "</svg>\n",
              "      </button>\n",
              "\n",
              "<style>\n",
              "  .colab-df-quickchart {\n",
              "      --bg-color: #E8F0FE;\n",
              "      --fill-color: #1967D2;\n",
              "      --hover-bg-color: #E2EBFA;\n",
              "      --hover-fill-color: #174EA6;\n",
              "      --disabled-fill-color: #AAA;\n",
              "      --disabled-bg-color: #DDD;\n",
              "  }\n",
              "\n",
              "  [theme=dark] .colab-df-quickchart {\n",
              "      --bg-color: #3B4455;\n",
              "      --fill-color: #D2E3FC;\n",
              "      --hover-bg-color: #434B5C;\n",
              "      --hover-fill-color: #FFFFFF;\n",
              "      --disabled-bg-color: #3B4455;\n",
              "      --disabled-fill-color: #666;\n",
              "  }\n",
              "\n",
              "  .colab-df-quickchart {\n",
              "    background-color: var(--bg-color);\n",
              "    border: none;\n",
              "    border-radius: 50%;\n",
              "    cursor: pointer;\n",
              "    display: none;\n",
              "    fill: var(--fill-color);\n",
              "    height: 32px;\n",
              "    padding: 0;\n",
              "    width: 32px;\n",
              "  }\n",
              "\n",
              "  .colab-df-quickchart:hover {\n",
              "    background-color: var(--hover-bg-color);\n",
              "    box-shadow: 0 1px 2px rgba(60, 64, 67, 0.3), 0 1px 3px 1px rgba(60, 64, 67, 0.15);\n",
              "    fill: var(--button-hover-fill-color);\n",
              "  }\n",
              "\n",
              "  .colab-df-quickchart-complete:disabled,\n",
              "  .colab-df-quickchart-complete:disabled:hover {\n",
              "    background-color: var(--disabled-bg-color);\n",
              "    fill: var(--disabled-fill-color);\n",
              "    box-shadow: none;\n",
              "  }\n",
              "\n",
              "  .colab-df-spinner {\n",
              "    border: 2px solid var(--fill-color);\n",
              "    border-color: transparent;\n",
              "    border-bottom-color: var(--fill-color);\n",
              "    animation:\n",
              "      spin 1s steps(1) infinite;\n",
              "  }\n",
              "\n",
              "  @keyframes spin {\n",
              "    0% {\n",
              "      border-color: transparent;\n",
              "      border-bottom-color: var(--fill-color);\n",
              "      border-left-color: var(--fill-color);\n",
              "    }\n",
              "    20% {\n",
              "      border-color: transparent;\n",
              "      border-left-color: var(--fill-color);\n",
              "      border-top-color: var(--fill-color);\n",
              "    }\n",
              "    30% {\n",
              "      border-color: transparent;\n",
              "      border-left-color: var(--fill-color);\n",
              "      border-top-color: var(--fill-color);\n",
              "      border-right-color: var(--fill-color);\n",
              "    }\n",
              "    40% {\n",
              "      border-color: transparent;\n",
              "      border-right-color: var(--fill-color);\n",
              "      border-top-color: var(--fill-color);\n",
              "    }\n",
              "    60% {\n",
              "      border-color: transparent;\n",
              "      border-right-color: var(--fill-color);\n",
              "    }\n",
              "    80% {\n",
              "      border-color: transparent;\n",
              "      border-right-color: var(--fill-color);\n",
              "      border-bottom-color: var(--fill-color);\n",
              "    }\n",
              "    90% {\n",
              "      border-color: transparent;\n",
              "      border-bottom-color: var(--fill-color);\n",
              "    }\n",
              "  }\n",
              "</style>\n",
              "\n",
              "      <script>\n",
              "        async function quickchart(key) {\n",
              "          const quickchartButtonEl =\n",
              "            document.querySelector('#' + key + ' button');\n",
              "          quickchartButtonEl.disabled = true;  // To prevent multiple clicks.\n",
              "          quickchartButtonEl.classList.add('colab-df-spinner');\n",
              "          try {\n",
              "            const charts = await google.colab.kernel.invokeFunction(\n",
              "                'suggestCharts', [key], {});\n",
              "          } catch (error) {\n",
              "            console.error('Error during call to suggestCharts:', error);\n",
              "          }\n",
              "          quickchartButtonEl.classList.remove('colab-df-spinner');\n",
              "          quickchartButtonEl.classList.add('colab-df-quickchart-complete');\n",
              "        }\n",
              "        (() => {\n",
              "          let quickchartButtonEl =\n",
              "            document.querySelector('#df-70d297a9-e7f5-4df0-a8a6-0f37576811f0 button');\n",
              "          quickchartButtonEl.style.display =\n",
              "            google.colab.kernel.accessAllowed ? 'block' : 'none';\n",
              "        })();\n",
              "      </script>\n",
              "    </div>\n",
              "\n",
              "  <div id=\"id_1ce95a21-e3df-47b6-8709-7a1fade93959\">\n",
              "    <style>\n",
              "      .colab-df-generate {\n",
              "        background-color: #E8F0FE;\n",
              "        border: none;\n",
              "        border-radius: 50%;\n",
              "        cursor: pointer;\n",
              "        display: none;\n",
              "        fill: #1967D2;\n",
              "        height: 32px;\n",
              "        padding: 0 0 0 0;\n",
              "        width: 32px;\n",
              "      }\n",
              "\n",
              "      .colab-df-generate:hover {\n",
              "        background-color: #E2EBFA;\n",
              "        box-shadow: 0px 1px 2px rgba(60, 64, 67, 0.3), 0px 1px 3px 1px rgba(60, 64, 67, 0.15);\n",
              "        fill: #174EA6;\n",
              "      }\n",
              "\n",
              "      [theme=dark] .colab-df-generate {\n",
              "        background-color: #3B4455;\n",
              "        fill: #D2E3FC;\n",
              "      }\n",
              "\n",
              "      [theme=dark] .colab-df-generate:hover {\n",
              "        background-color: #434B5C;\n",
              "        box-shadow: 0px 1px 3px 1px rgba(0, 0, 0, 0.15);\n",
              "        filter: drop-shadow(0px 1px 2px rgba(0, 0, 0, 0.3));\n",
              "        fill: #FFFFFF;\n",
              "      }\n",
              "    </style>\n",
              "    <button class=\"colab-df-generate\" onclick=\"generateWithVariable('muestras')\"\n",
              "            title=\"Generate code using this dataframe.\"\n",
              "            style=\"display:none;\">\n",
              "\n",
              "  <svg xmlns=\"http://www.w3.org/2000/svg\" height=\"24px\"viewBox=\"0 0 24 24\"\n",
              "       width=\"24px\">\n",
              "    <path d=\"M7,19H8.4L18.45,9,17,7.55,7,17.6ZM5,21V16.75L18.45,3.32a2,2,0,0,1,2.83,0l1.4,1.43a1.91,1.91,0,0,1,.58,1.4,1.91,1.91,0,0,1-.58,1.4L9.25,21ZM18.45,9,17,7.55Zm-12,3A5.31,5.31,0,0,0,4.9,8.1,5.31,5.31,0,0,0,1,6.5,5.31,5.31,0,0,0,4.9,4.9,5.31,5.31,0,0,0,6.5,1,5.31,5.31,0,0,0,8.1,4.9,5.31,5.31,0,0,0,12,6.5,5.46,5.46,0,0,0,6.5,12Z\"/>\n",
              "  </svg>\n",
              "    </button>\n",
              "    <script>\n",
              "      (() => {\n",
              "      const buttonEl =\n",
              "        document.querySelector('#id_1ce95a21-e3df-47b6-8709-7a1fade93959 button.colab-df-generate');\n",
              "      buttonEl.style.display =\n",
              "        google.colab.kernel.accessAllowed ? 'block' : 'none';\n",
              "\n",
              "      buttonEl.onclick = () => {\n",
              "        google.colab.notebook.generateWithVariable('muestras');\n",
              "      }\n",
              "      })();\n",
              "    </script>\n",
              "  </div>\n",
              "\n",
              "    </div>\n",
              "  </div>\n"
            ],
            "application/vnd.google.colaboratory.intrinsic+json": {
              "type": "dataframe",
              "variable_name": "muestras"
            }
          },
          "metadata": {},
          "execution_count": 618
        }
      ]
    },
    {
      "cell_type": "code",
      "metadata": {
        "id": "v5Q-rnS_izNd",
        "scrolled": true,
        "colab": {
          "base_uri": "https://localhost:8080/",
          "height": 458
        },
        "outputId": "f3ba047c-232b-485c-e7e8-247c774ad381"
      },
      "source": [
        "# Promedio de cada muestra\n",
        "muestras.mean()"
      ],
      "execution_count": 558,
      "outputs": [
        {
          "output_type": "execute_result",
          "data": {
            "text/plain": [
              "Muestra_0       44.5570\n",
              "Muestra_1       43.8825\n",
              "Muestra_2       44.1270\n",
              "Muestra_3       43.5745\n",
              "Muestra_4       43.8040\n",
              "                 ...   \n",
              "Muestra_1495    43.8425\n",
              "Muestra_1496    44.0535\n",
              "Muestra_1497    44.1265\n",
              "Muestra_1498    44.3485\n",
              "Muestra_1499    43.9540\n",
              "Length: 1500, dtype: float64"
            ],
            "text/html": [
              "<div>\n",
              "<style scoped>\n",
              "    .dataframe tbody tr th:only-of-type {\n",
              "        vertical-align: middle;\n",
              "    }\n",
              "\n",
              "    .dataframe tbody tr th {\n",
              "        vertical-align: top;\n",
              "    }\n",
              "\n",
              "    .dataframe thead th {\n",
              "        text-align: right;\n",
              "    }\n",
              "</style>\n",
              "<table border=\"1\" class=\"dataframe\">\n",
              "  <thead>\n",
              "    <tr style=\"text-align: right;\">\n",
              "      <th></th>\n",
              "      <th>0</th>\n",
              "    </tr>\n",
              "  </thead>\n",
              "  <tbody>\n",
              "    <tr>\n",
              "      <th>Muestra_0</th>\n",
              "      <td>44.5570</td>\n",
              "    </tr>\n",
              "    <tr>\n",
              "      <th>Muestra_1</th>\n",
              "      <td>43.8825</td>\n",
              "    </tr>\n",
              "    <tr>\n",
              "      <th>Muestra_2</th>\n",
              "      <td>44.1270</td>\n",
              "    </tr>\n",
              "    <tr>\n",
              "      <th>Muestra_3</th>\n",
              "      <td>43.5745</td>\n",
              "    </tr>\n",
              "    <tr>\n",
              "      <th>Muestra_4</th>\n",
              "      <td>43.8040</td>\n",
              "    </tr>\n",
              "    <tr>\n",
              "      <th>...</th>\n",
              "      <td>...</td>\n",
              "    </tr>\n",
              "    <tr>\n",
              "      <th>Muestra_1495</th>\n",
              "      <td>43.8425</td>\n",
              "    </tr>\n",
              "    <tr>\n",
              "      <th>Muestra_1496</th>\n",
              "      <td>44.0535</td>\n",
              "    </tr>\n",
              "    <tr>\n",
              "      <th>Muestra_1497</th>\n",
              "      <td>44.1265</td>\n",
              "    </tr>\n",
              "    <tr>\n",
              "      <th>Muestra_1498</th>\n",
              "      <td>44.3485</td>\n",
              "    </tr>\n",
              "    <tr>\n",
              "      <th>Muestra_1499</th>\n",
              "      <td>43.9540</td>\n",
              "    </tr>\n",
              "  </tbody>\n",
              "</table>\n",
              "<p>1500 rows × 1 columns</p>\n",
              "</div><br><label><b>dtype:</b> float64</label>"
            ]
          },
          "metadata": {},
          "execution_count": 558
        }
      ]
    },
    {
      "cell_type": "markdown",
      "metadata": {
        "id": "JfgEBDx0jDzf"
      },
      "source": [
        "> El **Teorema Central del Límite** establece que, con el aumento del tamaño de la muestra, la distribución de las medias muestrales se aproxima a una distribución normal con media igual a la media de la población y una desviación estándar igual a la desviación estándar de la variable original dividida por la raíz cuadrada del tamaño de la muestra. Este hecho está asegurado para $n$ mayores o iguales a 30."
      ]
    },
    {
      "cell_type": "code",
      "metadata": {
        "id": "NBPGDBJ3VeBw",
        "colab": {
          "base_uri": "https://localhost:8080/",
          "height": 448
        },
        "outputId": "07314398-7e07-4fa9-b378-ff36cc9e08c4"
      },
      "source": [
        "# Histograma de los promedios muestrales → forma una distribución normal\n",
        "muestras.mean().hist()"
      ],
      "execution_count": 559,
      "outputs": [
        {
          "output_type": "execute_result",
          "data": {
            "text/plain": [
              "<Axes: >"
            ]
          },
          "metadata": {},
          "execution_count": 559
        },
        {
          "output_type": "display_data",
          "data": {
            "text/plain": [
              "<Figure size 640x480 with 1 Axes>"
            ],
            "image/png": "[encoded data removed]"
          },
          "metadata": {}
        }
      ]
    },
    {
      "cell_type": "markdown",
      "metadata": {
        "id": "_A4RKStwjkLI"
      },
      "source": [
        "> El **Teorema Central del Límite** establece que, con el aumento del tamaño de la muestra, la distribución de las medias muestrales se aproxima a una distribución normal con media igual a la media de la población y una desviación estándar igual a la desviación estándar de la variable original dividida por la raíz cuadrada del tamaño de la muestra. Este hecho está asegurado para $n$ mayores o iguales a 30."
      ]
    },
    {
      "cell_type": "markdown",
      "source": [
        "**Comparaciones con la población normal**"
      ],
      "metadata": {
        "id": "9WIN5drQHacX"
      }
    },
    {
      "cell_type": "code",
      "metadata": {
        "id": "vXE-UOj_izGZ",
        "colab": {
          "base_uri": "https://localhost:8080/"
        },
        "outputId": "2ffdf51e-6c80-4d55-d951-164f6b55af0e"
      },
      "source": [
        "# Media poblacional real\n",
        "datos.Edad.mean()"
      ],
      "execution_count": 560,
      "outputs": [
        {
          "output_type": "execute_result",
          "data": {
            "text/plain": [
              "np.float64(44.07142113482561)"
            ]
          },
          "metadata": {},
          "execution_count": 560
        }
      ]
    },
    {
      "cell_type": "code",
      "metadata": {
        "id": "bahA7_WYizC6",
        "colab": {
          "base_uri": "https://localhost:8080/"
        },
        "outputId": "c993c754-b7d5-4789-e710-50904a5d9390"
      },
      "source": [
        "# Media de las medias muestrales\n",
        "muestras.mean().mean()"
      ],
      "execution_count": 561,
      "outputs": [
        {
          "output_type": "execute_result",
          "data": {
            "text/plain": [
              "np.float64(44.067541000000006)"
            ]
          },
          "metadata": {},
          "execution_count": 561
        }
      ]
    },
    {
      "cell_type": "markdown",
      "metadata": {
        "id": "7lIWJCAKlPmA"
      },
      "source": [
        "> El **Teorema Central del Límite** establece que, con el aumento del tamaño de la muestra, la distribución de las medias muestrales se aproxima a una distribución normal con media igual a la media de la población y una desviación estándar igual a la desviación estándar de la variable original dividida por la raíz cuadrada del tamaño de la muestra. Este hecho está asegurado para $n$ mayores o iguales a 30.\n",
        "\n",
        "# $$\\sigma_\\bar{x} = \\frac{\\sigma}{\\sqrt{n}}$$"
      ]
    },
    {
      "cell_type": "markdown",
      "source": [
        ">🔹 Esto es el error estándar estimado empíricamente\n",
        ">\n",
        ">🔸 Representa cuánto varían las medias de tus 1500 muestras respecto a la media general."
      ],
      "metadata": {
        "id": "XfObx9GOL1SM"
      }
    },
    {
      "cell_type": "code",
      "metadata": {
        "id": "qKrG0zqhVNzn",
        "colab": {
          "base_uri": "https://localhost:8080/"
        },
        "outputId": "369ecdab-aa1d-443d-cdb2-f1686b90b6a5"
      },
      "source": [
        "# Desviación estándar de las medias muestrales\n",
        "# Estimar el error estándar empíricamente\n",
        "muestras.mean().std()\n",
        "print(f'El error estándar de las medias muestrales estimado empíricamente es de {muestras.mean().std():.4f} años.')"
      ],
      "execution_count": 562,
      "outputs": [
        {
          "output_type": "stream",
          "name": "stdout",
          "text": [
            "El error estándar de las medias muestrales estimado empíricamente es de 0.2831 años.\n"
          ]
        }
      ]
    },
    {
      "cell_type": "markdown",
      "source": [
        ">🔹 Es la desviación estándar real de la población original (en este caso, la edad de las personas).\n",
        ">\n",
        ">🔸 Representa cuán dispersas están las edades individuales respecto a su media."
      ],
      "metadata": {
        "id": "BDd9b1z5L7Uc"
      }
    },
    {
      "cell_type": "code",
      "metadata": {
        "id": "83ILp8Quiy_W",
        "colab": {
          "base_uri": "https://localhost:8080/"
        },
        "outputId": "bcb29b67-656c-493c-f4f8-819a390d56f2"
      },
      "source": [
        "# Desviación estándar real: de la edad en la población\n",
        "# Ver cuán dispersas están las edades individuales\n",
        "datos.Edad.std()\n",
        "print(f'La desviación estándar real de las edades en la población es de {datos.Edad.std():.2f} años.')"
      ],
      "execution_count": 563,
      "outputs": [
        {
          "output_type": "stream",
          "name": "stdout",
          "text": [
            "La desviación estándar real de las edades en la población es de 12.48 años.\n"
          ]
        }
      ]
    },
    {
      "cell_type": "markdown",
      "source": [
        ">🔹 Es el error estándar teórico\n",
        ">\n",
        ">🔸 Te dice cuánto esperamos que varíen las medias muestrales, si tomáramos muchas muestras de tamaño n."
      ],
      "metadata": {
        "id": "BhkGrKJjL_KU"
      }
    },
    {
      "cell_type": "code",
      "metadata": {
        "id": "IQ7wC-Nkiy75",
        "colab": {
          "base_uri": "https://localhost:8080/"
        },
        "outputId": "5e8bac4a-b282-469a-87d0-7e6b1be30b8b"
      },
      "source": [
        "# Error estándar (estimado teóricamente): s / √n\n",
        "# Predecir cuánto variarían las medias muestrales\n",
        "datos.Edad.std() / np.sqrt(n)\n",
        "print(f'El error estándar estimado teóricamente (σ / √n) es de {datos.Edad.std() / np.sqrt(n):.4f} años.')"
      ],
      "execution_count": 564,
      "outputs": [
        {
          "output_type": "stream",
          "name": "stdout",
          "text": [
            "El error estándar estimado teóricamente (σ / √n) es de 0.2791 años.\n"
          ]
        }
      ]
    },
    {
      "cell_type": "markdown",
      "metadata": {
        "id": "ku8CE67iG3Ge"
      },
      "source": [
        "## <font color=green>4.2 Los niveles de confianza y significación</font>\n",
        "***"
      ]
    },
    {
      "cell_type": "markdown",
      "metadata": {
        "id": "mk6ZsvgyG3Gf"
      },
      "source": [
        "El **nivel de confianza** ($1 - \\alpha$) representa la probabilidad de que la estimación sea correcta. Además, el **nivel de significancia** ($\\alpha$) expresa la probabilidad de error de la estimación.\n",
        "\n",
        "El **nivel de confianza** representa el grado de confiabilidad del resultado estimado dentro de un cierto rango. Cuando establecemos un **nivel de confianza del 95%** en una encuesta, por ejemplo, estamos asumiendo que existe una probabilidad del 95% de que los resultados de la encuesta representen bien la realidad, es decir, sean correctos.\n",
        "\n",
        "El **nivel de confianza** de una estimación se puede obtener del área bajo la curva normal como se muestra en la figura siguiente."
      ]
    },
    {
      "cell_type": "markdown",
      "metadata": {
        "id": "WeGyDfvaG3Gg"
      },
      "source": [
        "<img src='https://caelum-online-public.s3.amazonaws.com/ESP-1764-estadistica-con-python-probabilidad-y-muestreo/img007.png' width='450px'>\n"
      ]
    },
    {
      "cell_type": "markdown",
      "metadata": {
        "id": "AN8WDZ-HG3Gi"
      },
      "source": [
        "## <font color=green>4.3 Error inferencial</font>\n",
        "***"
      ]
    },
    {
      "cell_type": "markdown",
      "metadata": {
        "id": "tk-TwhhfG3Gi"
      },
      "source": [
        "El **error inferencial** se define por la **desviación estándar de las medias muestrales** $\\sigma_\\bar{x}$ y por el **nivel de confianza** determinado para el proceso."
      ]
    },
    {
      "cell_type": "markdown",
      "metadata": {
        "id": "FKOQUPYHG3Gk"
      },
      "source": [
        "# $$e = z \\frac{\\sigma}{\\sqrt{n}}$$"
      ]
    },
    {
      "cell_type": "markdown",
      "metadata": {
        "id": "ELbWQW4sG3HS"
      },
      "source": [
        "## <font color=green>4.4 Intervalos de confianza</font>\n",
        "***"
      ]
    },
    {
      "cell_type": "markdown",
      "metadata": {
        "id": "-r6EMnH-G3HT"
      },
      "source": [
        "### Intervalo de confianza para la media poblacional"
      ]
    },
    {
      "cell_type": "markdown",
      "metadata": {
        "id": "QWgBFeRnG3HT"
      },
      "source": [
        "#### Con desviación estándar poblacional conocida\n",
        "\n",
        "## $$\\mu = \\bar{x} \\pm z\\frac{\\sigma}{\\sqrt{n}}$$\n",
        "\n",
        "#### Con desviación estándar de población desconocida\n",
        "\n",
        "## $$\\mu = \\bar{x} \\pm z\\frac{s}{\\sqrt{n}}$$"
      ]
    },
    {
      "cell_type": "markdown",
      "metadata": {
        "id": "R2qqLneeG3HT"
      },
      "source": [
        "## <font color='blue'>Ejemplo: </font>"
      ]
    },
    {
      "cell_type": "markdown",
      "metadata": {
        "id": "AgnrFjdMG3HT"
      },
      "source": [
        "Suponga que los pesos de las bolsas de arroz de una industria alimentaria se distribuyen aproximadamente como una población normal con **desviación estándar igual a 150 g**. Se seleccionó una **muestra aleatoria de 20 bolsas** de un lote específico, se obtuvo un **peso promedio de 5.050 g**. Construya un intervalo de confianza para el **promedio de la población** asumiendo un **nivel de significancia del 5%**."
      ]
    },
    {
      "cell_type": "markdown",
      "metadata": {
        "id": "LpGQGksTG3HU"
      },
      "source": [
        "### Media muestral"
      ]
    },
    {
      "cell_type": "markdown",
      "source": [
        "Se define la media del peso de arroz observada en la muestra (20 bolsas). Esta será la base del intervalo de confianza."
      ],
      "metadata": {
        "id": "RcvzQH1OZ8oa"
      }
    },
    {
      "cell_type": "code",
      "metadata": {
        "id": "aF2QQ0z3G3HU",
        "colab": {
          "base_uri": "https://localhost:8080/"
        },
        "outputId": "d826725b-5e1d-415c-edda-38cd45e9a37b"
      },
      "source": [
        "# Se define la media muestral observada en las 20 bolsas\n",
        "media_muestra = 5050\n",
        "media_muestra  # Resultado: 5050"
      ],
      "execution_count": 565,
      "outputs": [
        {
          "output_type": "execute_result",
          "data": {
            "text/plain": [
              "5050"
            ]
          },
          "metadata": {},
          "execution_count": 565
        }
      ]
    },
    {
      "cell_type": "markdown",
      "metadata": {
        "id": "Jly1bVP9G3HY"
      },
      "source": [
        "### Nivel de significancia ($\\alpha$)"
      ]
    },
    {
      "cell_type": "markdown",
      "source": [
        "El nivel de significancia indica el área total que dejamos fuera del intervalo de confianza (en ambos extremos). En este caso, es 5%, o sea, dejamos un 2.5% en cada cola de la curva."
      ],
      "metadata": {
        "id": "1iG1gwVzZ-WI"
      }
    },
    {
      "cell_type": "code",
      "metadata": {
        "id": "BzIgN3C7G3HY",
        "colab": {
          "base_uri": "https://localhost:8080/"
        },
        "outputId": "3b6de928-fb49-4721-a308-86c6036e4566"
      },
      "source": [
        "# Se establece el nivel de significancia (α)\n",
        "# Un nivel de confianza del 95% implica una significancia del 5% (0.05)\n",
        "significancia = 0.05\n",
        "significancia  # Resultado: 0.05"
      ],
      "execution_count": 566,
      "outputs": [
        {
          "output_type": "execute_result",
          "data": {
            "text/plain": [
              "0.05"
            ]
          },
          "metadata": {},
          "execution_count": 566
        }
      ]
    },
    {
      "cell_type": "markdown",
      "metadata": {
        "id": "SrZAbQRKG3Ha"
      },
      "source": [
        "### Nivel de confianza ($1 - \\alpha$)"
      ]
    },
    {
      "cell_type": "markdown",
      "source": [
        "Aquí se calcula que el 95% del área bajo la curva corresponde al intervalo de confianza: es la zona gris central donde esperamos que esté la media poblacional."
      ],
      "metadata": {
        "id": "cLCAQOiUaBhB"
      }
    },
    {
      "cell_type": "code",
      "metadata": {
        "id": "1JeWXwA6G3Ha",
        "colab": {
          "base_uri": "https://localhost:8080/"
        },
        "outputId": "dc3bf3ee-b7a8-417e-cc0d-02fdb338e9b2"
      },
      "source": [
        "# Se calcula el nivel de confianza como complemento de la significancia\n",
        "# Confianza = 1 - α → 1 - 0.05 = 0.95 (es decir, 95%)\n",
        "confianza = 1 - significancia\n",
        "confianza  # Resultado: 0.95"
      ],
      "execution_count": 567,
      "outputs": [
        {
          "output_type": "execute_result",
          "data": {
            "text/plain": [
              "0.95"
            ]
          },
          "metadata": {},
          "execution_count": 567
        }
      ]
    },
    {
      "cell_type": "markdown",
      "metadata": {
        "id": "mZoUFr1nG3Hf"
      },
      "source": [
        "### Obteniendo $z$"
      ]
    },
    {
      "cell_type": "markdown",
      "source": [
        "Se muestra un fragmento de la tabla Z estandarizada, útil si queremos encontrar manualmente el valor crítico Z (como hiciste en tu imagen con el 1.9 + 0.06 = 1.96 para 95%)."
      ],
      "metadata": {
        "id": "1Md6wpZPaJfB"
      }
    },
    {
      "cell_type": "code",
      "metadata": {
        "id": "f9IMOwY2Xeva",
        "colab": {
          "base_uri": "https://localhost:8080/",
          "height": 362
        },
        "outputId": "2241a93d-315b-4d01-bbb8-817494eed9a6"
      },
      "source": [
        "# Se visualizan algunas filas de la tabla Z estándar (no obligatorio)\n",
        "# Esto permite buscar manualmente el valor crítico Z si no se usa scipy\n",
        "tabla_normal_estandarizada[16:26]"
      ],
      "execution_count": 568,
      "outputs": [
        {
          "output_type": "execute_result",
          "data": {
            "text/plain": [
              "Z       0.00    0.01    0.02    0.03    0.04    0.05    0.06    0.07    0.08  \\\n",
              "1.60  0.9452  0.9463  0.9474  0.9484  0.9495  0.9505  0.9515  0.9525  0.9535   \n",
              "1.70  0.9554  0.9564  0.9573  0.9582  0.9591  0.9599  0.9608  0.9616  0.9625   \n",
              "1.80  0.9641  0.9649  0.9656  0.9664  0.9671  0.9678  0.9686  0.9693  0.9699   \n",
              "1.90  0.9713  0.9719  0.9726  0.9732  0.9738  0.9744  0.9750  0.9756  0.9761   \n",
              "2.00  0.9772  0.9778  0.9783  0.9788  0.9793  0.9798  0.9803  0.9808  0.9812   \n",
              "2.10  0.9821  0.9826  0.9830  0.9834  0.9838  0.9842  0.9846  0.9850  0.9854   \n",
              "2.20  0.9861  0.9864  0.9868  0.9871  0.9875  0.9878  0.9881  0.9884  0.9887   \n",
              "2.30  0.9893  0.9896  0.9898  0.9901  0.9904  0.9906  0.9909  0.9911  0.9913   \n",
              "2.40  0.9918  0.9920  0.9922  0.9925  0.9927  0.9929  0.9931  0.9932  0.9934   \n",
              "2.50  0.9938  0.9940  0.9941  0.9943  0.9945  0.9946  0.9948  0.9949  0.9951   \n",
              "\n",
              "Z       0.09  \n",
              "1.60  0.9545  \n",
              "1.70  0.9633  \n",
              "1.80  0.9706  \n",
              "1.90  0.9767  \n",
              "2.00  0.9817  \n",
              "2.10  0.9857  \n",
              "2.20  0.9890  \n",
              "2.30  0.9916  \n",
              "2.40  0.9936  \n",
              "2.50  0.9952  "
            ],
            "text/html": [
              "\n",
              "  <div id=\"df-c83707b4-90d5-467d-86f3-0f9b9754d06a\" class=\"colab-df-container\">\n",
              "    <div>\n",
              "<style scoped>\n",
              "    .dataframe tbody tr th:only-of-type {\n",
              "        vertical-align: middle;\n",
              "    }\n",
              "\n",
              "    .dataframe tbody tr th {\n",
              "        vertical-align: top;\n",
              "    }\n",
              "\n",
              "    .dataframe thead th {\n",
              "        text-align: right;\n",
              "    }\n",
              "</style>\n",
              "<table border=\"1\" class=\"dataframe\">\n",
              "  <thead>\n",
              "    <tr style=\"text-align: right;\">\n",
              "      <th>Z</th>\n",
              "      <th>0.00</th>\n",
              "      <th>0.01</th>\n",
              "      <th>0.02</th>\n",
              "      <th>0.03</th>\n",
              "      <th>0.04</th>\n",
              "      <th>0.05</th>\n",
              "      <th>0.06</th>\n",
              "      <th>0.07</th>\n",
              "      <th>0.08</th>\n",
              "      <th>0.09</th>\n",
              "    </tr>\n",
              "  </thead>\n",
              "  <tbody>\n",
              "    <tr>\n",
              "      <th>1.60</th>\n",
              "      <td>0.9452</td>\n",
              "      <td>0.9463</td>\n",
              "      <td>0.9474</td>\n",
              "      <td>0.9484</td>\n",
              "      <td>0.9495</td>\n",
              "      <td>0.9505</td>\n",
              "      <td>0.9515</td>\n",
              "      <td>0.9525</td>\n",
              "      <td>0.9535</td>\n",
              "      <td>0.9545</td>\n",
              "    </tr>\n",
              "    <tr>\n",
              "      <th>1.70</th>\n",
              "      <td>0.9554</td>\n",
              "      <td>0.9564</td>\n",
              "      <td>0.9573</td>\n",
              "      <td>0.9582</td>\n",
              "      <td>0.9591</td>\n",
              "      <td>0.9599</td>\n",
              "      <td>0.9608</td>\n",
              "      <td>0.9616</td>\n",
              "      <td>0.9625</td>\n",
              "      <td>0.9633</td>\n",
              "    </tr>\n",
              "    <tr>\n",
              "      <th>1.80</th>\n",
              "      <td>0.9641</td>\n",
              "      <td>0.9649</td>\n",
              "      <td>0.9656</td>\n",
              "      <td>0.9664</td>\n",
              "      <td>0.9671</td>\n",
              "      <td>0.9678</td>\n",
              "      <td>0.9686</td>\n",
              "      <td>0.9693</td>\n",
              "      <td>0.9699</td>\n",
              "      <td>0.9706</td>\n",
              "    </tr>\n",
              "    <tr>\n",
              "      <th>1.90</th>\n",
              "      <td>0.9713</td>\n",
              "      <td>0.9719</td>\n",
              "      <td>0.9726</td>\n",
              "      <td>0.9732</td>\n",
              "      <td>0.9738</td>\n",
              "      <td>0.9744</td>\n",
              "      <td>0.9750</td>\n",
              "      <td>0.9756</td>\n",
              "      <td>0.9761</td>\n",
              "      <td>0.9767</td>\n",
              "    </tr>\n",
              "    <tr>\n",
              "      <th>2.00</th>\n",
              "      <td>0.9772</td>\n",
              "      <td>0.9778</td>\n",
              "      <td>0.9783</td>\n",
              "      <td>0.9788</td>\n",
              "      <td>0.9793</td>\n",
              "      <td>0.9798</td>\n",
              "      <td>0.9803</td>\n",
              "      <td>0.9808</td>\n",
              "      <td>0.9812</td>\n",
              "      <td>0.9817</td>\n",
              "    </tr>\n",
              "    <tr>\n",
              "      <th>2.10</th>\n",
              "      <td>0.9821</td>\n",
              "      <td>0.9826</td>\n",
              "      <td>0.9830</td>\n",
              "      <td>0.9834</td>\n",
              "      <td>0.9838</td>\n",
              "      <td>0.9842</td>\n",
              "      <td>0.9846</td>\n",
              "      <td>0.9850</td>\n",
              "      <td>0.9854</td>\n",
              "      <td>0.9857</td>\n",
              "    </tr>\n",
              "    <tr>\n",
              "      <th>2.20</th>\n",
              "      <td>0.9861</td>\n",
              "      <td>0.9864</td>\n",
              "      <td>0.9868</td>\n",
              "      <td>0.9871</td>\n",
              "      <td>0.9875</td>\n",
              "      <td>0.9878</td>\n",
              "      <td>0.9881</td>\n",
              "      <td>0.9884</td>\n",
              "      <td>0.9887</td>\n",
              "      <td>0.9890</td>\n",
              "    </tr>\n",
              "    <tr>\n",
              "      <th>2.30</th>\n",
              "      <td>0.9893</td>\n",
              "      <td>0.9896</td>\n",
              "      <td>0.9898</td>\n",
              "      <td>0.9901</td>\n",
              "      <td>0.9904</td>\n",
              "      <td>0.9906</td>\n",
              "      <td>0.9909</td>\n",
              "      <td>0.9911</td>\n",
              "      <td>0.9913</td>\n",
              "      <td>0.9916</td>\n",
              "    </tr>\n",
              "    <tr>\n",
              "      <th>2.40</th>\n",
              "      <td>0.9918</td>\n",
              "      <td>0.9920</td>\n",
              "      <td>0.9922</td>\n",
              "      <td>0.9925</td>\n",
              "      <td>0.9927</td>\n",
              "      <td>0.9929</td>\n",
              "      <td>0.9931</td>\n",
              "      <td>0.9932</td>\n",
              "      <td>0.9934</td>\n",
              "      <td>0.9936</td>\n",
              "    </tr>\n",
              "    <tr>\n",
              "      <th>2.50</th>\n",
              "      <td>0.9938</td>\n",
              "      <td>0.9940</td>\n",
              "      <td>0.9941</td>\n",
              "      <td>0.9943</td>\n",
              "      <td>0.9945</td>\n",
              "      <td>0.9946</td>\n",
              "      <td>0.9948</td>\n",
              "      <td>0.9949</td>\n",
              "      <td>0.9951</td>\n",
              "      <td>0.9952</td>\n",
              "    </tr>\n",
              "  </tbody>\n",
              "</table>\n",
              "</div>\n",
              "    <div class=\"colab-df-buttons\">\n",
              "\n",
              "  <div class=\"colab-df-container\">\n",
              "    <button class=\"colab-df-convert\" onclick=\"convertToInteractive('df-c83707b4-90d5-467d-86f3-0f9b9754d06a')\"\n",
              "            title=\"Convert this dataframe to an interactive table.\"\n",
              "            style=\"display:none;\">\n",
              "\n",
              "  <svg xmlns=\"http://www.w3.org/2000/svg\" height=\"24px\" viewBox=\"0 -960 960 960\">\n",
              "    <path d=\"M120-120v-720h720v720H120Zm60-500h600v-160H180v160Zm220 220h160v-160H400v160Zm0 220h160v-160H400v160ZM180-400h160v-160H180v160Zm440 0h160v-160H620v160ZM180-180h160v-160H180v160Zm440 0h160v-160H620v160Z\"/>\n",
              "  </svg>\n",
              "    </button>\n",
              "\n",
              "  <style>\n",
              "    .colab-df-container {\n",
              "      display:flex;\n",
              "      gap: 12px;\n",
              "    }\n",
              "\n",
              "    .colab-df-convert {\n",
              "      background-color: #E8F0FE;\n",
              "      border: none;\n",
              "      border-radius: 50%;\n",
              "      cursor: pointer;\n",
              "      display: none;\n",
              "      fill: #1967D2;\n",
              "      height: 32px;\n",
              "      padding: 0 0 0 0;\n",
              "      width: 32px;\n",
              "    }\n",
              "\n",
              "    .colab-df-convert:hover {\n",
              "      background-color: #E2EBFA;\n",
              "      box-shadow: 0px 1px 2px rgba(60, 64, 67, 0.3), 0px 1px 3px 1px rgba(60, 64, 67, 0.15);\n",
              "      fill: #174EA6;\n",
              "    }\n",
              "\n",
              "    .colab-df-buttons div {\n",
              "      margin-bottom: 4px;\n",
              "    }\n",
              "\n",
              "    [theme=dark] .colab-df-convert {\n",
              "      background-color: #3B4455;\n",
              "      fill: #D2E3FC;\n",
              "    }\n",
              "\n",
              "    [theme=dark] .colab-df-convert:hover {\n",
              "      background-color: #434B5C;\n",
              "      box-shadow: 0px 1px 3px 1px rgba(0, 0, 0, 0.15);\n",
              "      filter: drop-shadow(0px 1px 2px rgba(0, 0, 0, 0.3));\n",
              "      fill: #FFFFFF;\n",
              "    }\n",
              "  </style>\n",
              "\n",
              "    <script>\n",
              "      const buttonEl =\n",
              "        document.querySelector('#df-c83707b4-90d5-467d-86f3-0f9b9754d06a button.colab-df-convert');\n",
              "      buttonEl.style.display =\n",
              "        google.colab.kernel.accessAllowed ? 'block' : 'none';\n",
              "\n",
              "      async function convertToInteractive(key) {\n",
              "        const element = document.querySelector('#df-c83707b4-90d5-467d-86f3-0f9b9754d06a');\n",
              "        const dataTable =\n",
              "          await google.colab.kernel.invokeFunction('convertToInteractive',\n",
              "                                                    [key], {});\n",
              "        if (!dataTable) return;\n",
              "\n",
              "        const docLinkHtml = 'Like what you see? Visit the ' +\n",
              "          '<a target=\"_blank\" href=https://colab.research.google.com/notebooks/data_table.ipynb>data table notebook</a>'\n",
              "          + ' to learn more about interactive tables.';\n",
              "        element.innerHTML = '';\n",
              "        dataTable['output_type'] = 'display_data';\n",
              "        await google.colab.output.renderOutput(dataTable, element);\n",
              "        const docLink = document.createElement('div');\n",
              "        docLink.innerHTML = docLinkHtml;\n",
              "        element.appendChild(docLink);\n",
              "      }\n",
              "    </script>\n",
              "  </div>\n",
              "\n",
              "\n",
              "    <div id=\"df-05d6f273-c1e2-4957-9416-2b189f59ceb0\">\n",
              "      <button class=\"colab-df-quickchart\" onclick=\"quickchart('df-05d6f273-c1e2-4957-9416-2b189f59ceb0')\"\n",
              "                title=\"Suggest charts\"\n",
              "                style=\"display:none;\">\n",
              "\n",
              "<svg xmlns=\"http://www.w3.org/2000/svg\" height=\"24px\"viewBox=\"0 0 24 24\"\n",
              "     width=\"24px\">\n",
              "    <g>\n",
              "        <path d=\"M19 3H5c-1.1 0-2 .9-2 2v14c0 1.1.9 2 2 2h14c1.1 0 2-.9 2-2V5c0-1.1-.9-2-2-2zM9 17H7v-7h2v7zm4 0h-2V7h2v10zm4 0h-2v-4h2v4z\"/>\n",
              "    </g>\n",
              "</svg>\n",
              "      </button>\n",
              "\n",
              "<style>\n",
              "  .colab-df-quickchart {\n",
              "      --bg-color: #E8F0FE;\n",
              "      --fill-color: #1967D2;\n",
              "      --hover-bg-color: #E2EBFA;\n",
              "      --hover-fill-color: #174EA6;\n",
              "      --disabled-fill-color: #AAA;\n",
              "      --disabled-bg-color: #DDD;\n",
              "  }\n",
              "\n",
              "  [theme=dark] .colab-df-quickchart {\n",
              "      --bg-color: #3B4455;\n",
              "      --fill-color: #D2E3FC;\n",
              "      --hover-bg-color: #434B5C;\n",
              "      --hover-fill-color: #FFFFFF;\n",
              "      --disabled-bg-color: #3B4455;\n",
              "      --disabled-fill-color: #666;\n",
              "  }\n",
              "\n",
              "  .colab-df-quickchart {\n",
              "    background-color: var(--bg-color);\n",
              "    border: none;\n",
              "    border-radius: 50%;\n",
              "    cursor: pointer;\n",
              "    display: none;\n",
              "    fill: var(--fill-color);\n",
              "    height: 32px;\n",
              "    padding: 0;\n",
              "    width: 32px;\n",
              "  }\n",
              "\n",
              "  .colab-df-quickchart:hover {\n",
              "    background-color: var(--hover-bg-color);\n",
              "    box-shadow: 0 1px 2px rgba(60, 64, 67, 0.3), 0 1px 3px 1px rgba(60, 64, 67, 0.15);\n",
              "    fill: var(--button-hover-fill-color);\n",
              "  }\n",
              "\n",
              "  .colab-df-quickchart-complete:disabled,\n",
              "  .colab-df-quickchart-complete:disabled:hover {\n",
              "    background-color: var(--disabled-bg-color);\n",
              "    fill: var(--disabled-fill-color);\n",
              "    box-shadow: none;\n",
              "  }\n",
              "\n",
              "  .colab-df-spinner {\n",
              "    border: 2px solid var(--fill-color);\n",
              "    border-color: transparent;\n",
              "    border-bottom-color: var(--fill-color);\n",
              "    animation:\n",
              "      spin 1s steps(1) infinite;\n",
              "  }\n",
              "\n",
              "  @keyframes spin {\n",
              "    0% {\n",
              "      border-color: transparent;\n",
              "      border-bottom-color: var(--fill-color);\n",
              "      border-left-color: var(--fill-color);\n",
              "    }\n",
              "    20% {\n",
              "      border-color: transparent;\n",
              "      border-left-color: var(--fill-color);\n",
              "      border-top-color: var(--fill-color);\n",
              "    }\n",
              "    30% {\n",
              "      border-color: transparent;\n",
              "      border-left-color: var(--fill-color);\n",
              "      border-top-color: var(--fill-color);\n",
              "      border-right-color: var(--fill-color);\n",
              "    }\n",
              "    40% {\n",
              "      border-color: transparent;\n",
              "      border-right-color: var(--fill-color);\n",
              "      border-top-color: var(--fill-color);\n",
              "    }\n",
              "    60% {\n",
              "      border-color: transparent;\n",
              "      border-right-color: var(--fill-color);\n",
              "    }\n",
              "    80% {\n",
              "      border-color: transparent;\n",
              "      border-right-color: var(--fill-color);\n",
              "      border-bottom-color: var(--fill-color);\n",
              "    }\n",
              "    90% {\n",
              "      border-color: transparent;\n",
              "      border-bottom-color: var(--fill-color);\n",
              "    }\n",
              "  }\n",
              "</style>\n",
              "\n",
              "      <script>\n",
              "        async function quickchart(key) {\n",
              "          const quickchartButtonEl =\n",
              "            document.querySelector('#' + key + ' button');\n",
              "          quickchartButtonEl.disabled = true;  // To prevent multiple clicks.\n",
              "          quickchartButtonEl.classList.add('colab-df-spinner');\n",
              "          try {\n",
              "            const charts = await google.colab.kernel.invokeFunction(\n",
              "                'suggestCharts', [key], {});\n",
              "          } catch (error) {\n",
              "            console.error('Error during call to suggestCharts:', error);\n",
              "          }\n",
              "          quickchartButtonEl.classList.remove('colab-df-spinner');\n",
              "          quickchartButtonEl.classList.add('colab-df-quickchart-complete');\n",
              "        }\n",
              "        (() => {\n",
              "          let quickchartButtonEl =\n",
              "            document.querySelector('#df-05d6f273-c1e2-4957-9416-2b189f59ceb0 button');\n",
              "          quickchartButtonEl.style.display =\n",
              "            google.colab.kernel.accessAllowed ? 'block' : 'none';\n",
              "        })();\n",
              "      </script>\n",
              "    </div>\n",
              "\n",
              "    </div>\n",
              "  </div>\n"
            ],
            "application/vnd.google.colaboratory.intrinsic+json": {
              "type": "dataframe",
              "summary": "{\n  \"name\": \"tabla_normal_estandarizada[16:26]\",\n  \"rows\": 10,\n  \"fields\": [\n    {\n      \"column\": \"0.00\",\n      \"properties\": {\n        \"dtype\": \"string\",\n        \"num_unique_values\": 10,\n        \"samples\": [\n          \"0.9918\",\n          \"0.9554\",\n          \"0.9821\"\n        ],\n        \"semantic_type\": \"\",\n        \"description\": \"\"\n      }\n    },\n    {\n      \"column\": \"0.01\",\n      \"properties\": {\n        \"dtype\": \"string\",\n        \"num_unique_values\": 10,\n        \"samples\": [\n          \"0.9920\",\n          \"0.9564\",\n          \"0.9826\"\n        ],\n        \"semantic_type\": \"\",\n        \"description\": \"\"\n      }\n    },\n    {\n      \"column\": \"0.02\",\n      \"properties\": {\n        \"dtype\": \"string\",\n        \"num_unique_values\": 10,\n        \"samples\": [\n          \"0.9922\",\n          \"0.9573\",\n          \"0.9830\"\n        ],\n        \"semantic_type\": \"\",\n        \"description\": \"\"\n      }\n    },\n    {\n      \"column\": \"0.03\",\n      \"properties\": {\n        \"dtype\": \"string\",\n        \"num_unique_values\": 10,\n        \"samples\": [\n          \"0.9925\",\n          \"0.9582\",\n          \"0.9834\"\n        ],\n        \"semantic_type\": \"\",\n        \"description\": \"\"\n      }\n    },\n    {\n      \"column\": \"0.04\",\n      \"properties\": {\n        \"dtype\": \"string\",\n        \"num_unique_values\": 10,\n        \"samples\": [\n          \"0.9927\",\n          \"0.9591\",\n          \"0.9838\"\n        ],\n        \"semantic_type\": \"\",\n        \"description\": \"\"\n      }\n    },\n    {\n      \"column\": \"0.05\",\n      \"properties\": {\n        \"dtype\": \"string\",\n        \"num_unique_values\": 10,\n        \"samples\": [\n          \"0.9929\",\n          \"0.9599\",\n          \"0.9842\"\n        ],\n        \"semantic_type\": \"\",\n        \"description\": \"\"\n      }\n    },\n    {\n      \"column\": \"0.06\",\n      \"properties\": {\n        \"dtype\": \"string\",\n        \"num_unique_values\": 10,\n        \"samples\": [\n          \"0.9931\",\n          \"0.9608\",\n          \"0.9846\"\n        ],\n        \"semantic_type\": \"\",\n        \"description\": \"\"\n      }\n    },\n    {\n      \"column\": \"0.07\",\n      \"properties\": {\n        \"dtype\": \"string\",\n        \"num_unique_values\": 10,\n        \"samples\": [\n          \"0.9932\",\n          \"0.9616\",\n          \"0.9850\"\n        ],\n        \"semantic_type\": \"\",\n        \"description\": \"\"\n      }\n    },\n    {\n      \"column\": \"0.08\",\n      \"properties\": {\n        \"dtype\": \"string\",\n        \"num_unique_values\": 10,\n        \"samples\": [\n          \"0.9934\",\n          \"0.9625\",\n          \"0.9854\"\n        ],\n        \"semantic_type\": \"\",\n        \"description\": \"\"\n      }\n    },\n    {\n      \"column\": \"0.09\",\n      \"properties\": {\n        \"dtype\": \"string\",\n        \"num_unique_values\": 10,\n        \"samples\": [\n          \"0.9936\",\n          \"0.9633\",\n          \"0.9857\"\n        ],\n        \"semantic_type\": \"\",\n        \"description\": \"\"\n      }\n    }\n  ]\n}"
            }
          },
          "metadata": {},
          "execution_count": 568
        }
      ]
    },
    {
      "cell_type": "markdown",
      "metadata": {
        "id": "rMRmnaNPG3Go"
      },
      "source": [
        "### Obteniendo $z$"
      ]
    },
    {
      "cell_type": "markdown",
      "metadata": {
        "id": "T-3mV1qlUj1t"
      },
      "source": [
        "<img src='https://caelum-online-public.s3.amazonaws.com/ESP-1764-estadistica-con-python-probabilidad-y-muestreo/img008.png' width='450px'>"
      ]
    },
    {
      "cell_type": "markdown",
      "source": [
        "Se obtiene la mitad del área del intervalo de confianza, ya que este se reparte en ambos lados de la media."
      ],
      "metadata": {
        "id": "QogDLB9WaN8Z"
      }
    },
    {
      "cell_type": "code",
      "metadata": {
        "id": "nT5ZTwjOG3Go"
      },
      "source": [
        "# Cálculo de la mitad del nivel de confianza (para un intervalo bilateral)\n",
        "mitad_nivel_confianza = confianza / 2"
      ],
      "execution_count": 569,
      "outputs": []
    },
    {
      "cell_type": "markdown",
      "source": [
        "Se calcula el área total a la izquierda del valor crítico Z (95% / 2 + 50%), que corresponde a 0.975."
      ],
      "metadata": {
        "id": "u-lZiG9LaO84"
      }
    },
    {
      "cell_type": "code",
      "metadata": {
        "id": "vMjck-3ZU_sz",
        "colab": {
          "base_uri": "https://localhost:8080/"
        },
        "outputId": "c2092140-3164-4e4c-d6d2-a617624ce00b"
      },
      "source": [
        "# Se suma 0.5 + 0.475 para obtener el área acumulada hasta Z\n",
        "# Esto da 0.975, que representa la probabilidad acumulada a la izquierda de Z\n",
        "0.5 + (mitad_nivel_confianza)  # Resultado: 0.975"
      ],
      "execution_count": 570,
      "outputs": [
        {
          "output_type": "execute_result",
          "data": {
            "text/plain": [
              "0.975"
            ]
          },
          "metadata": {},
          "execution_count": 570
        }
      ]
    },
    {
      "cell_type": "markdown",
      "source": [
        "Ejemplo de cómo se puede buscar el valor Z manualmente en la tabla."
      ],
      "metadata": {
        "id": "wHNo9OveaTZx"
      }
    },
    {
      "cell_type": "code",
      "metadata": {
        "id": "L4CMGZ3oVHLX",
        "colab": {
          "base_uri": "https://localhost:8080/"
        },
        "outputId": "b502cfe5-dd5c-47fc-dfec-87358488eb98"
      },
      "source": [
        "# Este paso es auxiliar: si usas la tabla Z manualmente,\n",
        "# puedes buscar Z que corresponde a un área de 0.975\n",
        "# Por ejemplo, fila 1.9 y columna 0.06 → Z = 1.96\n",
        "1.9 + 0.06  # Resultado: 1.96 (valor crítico Z aproximado)"
      ],
      "execution_count": 571,
      "outputs": [
        {
          "output_type": "execute_result",
          "data": {
            "text/plain": [
              "1.96"
            ]
          },
          "metadata": {},
          "execution_count": 571
        }
      ]
    },
    {
      "cell_type": "markdown",
      "source": [
        "Forma más precisa y automática de obtener el valor Z. ppf significa “percent point function”, es decir, el valor Z que deja a su izquierda el área deseada (0.975 en este caso)."
      ],
      "metadata": {
        "id": "EHJWatc9ajOh"
      }
    },
    {
      "cell_type": "code",
      "metadata": {
        "id": "JJS6Z-85G3Hf",
        "colab": {
          "base_uri": "https://localhost:8080/"
        },
        "outputId": "c4bc2ff7-ddb6-4942-851d-da072d22cee1"
      },
      "source": [
        "# IMPORTANTE: obtener el valor crítico Z de forma automática con scipy\n",
        "# norm.ppf(0.975) devuelve el valor Z cuyo área acumulada (izquierda) es 0.975\n",
        "from scipy.stats import norm\n",
        "z = norm.ppf(0.975)\n",
        "z  # Resultado: 1.959963984540054 (aproximadamente 1.96)"
      ],
      "execution_count": 572,
      "outputs": [
        {
          "output_type": "execute_result",
          "data": {
            "text/plain": [
              "np.float64(1.959963984540054)"
            ]
          },
          "metadata": {},
          "execution_count": 572
        }
      ]
    },
    {
      "cell_type": "code",
      "source": [
        "norm.ppf(0.5 + (confianza / 2))"
      ],
      "metadata": {
        "colab": {
          "base_uri": "https://localhost:8080/"
        },
        "id": "dv2uSKkdaryQ",
        "outputId": "fadf173a-3e38-4826-8bf8-70cd2937c6bc"
      },
      "execution_count": 573,
      "outputs": [
        {
          "output_type": "execute_result",
          "data": {
            "text/plain": [
              "np.float64(1.959963984540054)"
            ]
          },
          "metadata": {},
          "execution_count": 573
        }
      ]
    },
    {
      "cell_type": "markdown",
      "source": [
        "**Simplificando sería:**"
      ],
      "metadata": {
        "id": "xTuMcr5Eb6LO"
      }
    },
    {
      "cell_type": "code",
      "source": [
        "from scipy.stats import norm\n",
        "# z es el valor crítico Z correspondiente a un intervalo de confianza del 95% en una distribución normal estándar.\n",
        "confianza = 0.95  # Nivel de confianza del 95%\n",
        "z = norm.ppf(0.5 + (confianza / 2))  # Esto da norm.ppf(0.975)\n",
        "print(z)  # Resultado: ~1.96"
      ],
      "metadata": {
        "colab": {
          "base_uri": "https://localhost:8080/"
        },
        "id": "53hUfrtQbGor",
        "outputId": "93450c57-811f-4974-fc10-3ef13e61b4c2"
      },
      "execution_count": 574,
      "outputs": [
        {
          "output_type": "stream",
          "name": "stdout",
          "text": [
            "1.959963984540054\n"
          ]
        }
      ]
    },
    {
      "cell_type": "markdown",
      "metadata": {
        "id": "ggXXP8QqTyNA"
      },
      "source": [
        "### Valores de $z$ para los niveles de confianza más utilizados\n",
        "\n",
        "|Nivel de<br>confianza|Valor del área bajo<br>la curva normal| $z$ |\n",
        "|:----------------:|:---------------------------------:|:---:|\n",
        "|90%               |0.95                               |1.645|\n",
        "|95%               |0.975                              |1.96 |\n",
        "|99%               |0.995                              |2.575|"
      ]
    },
    {
      "cell_type": "markdown",
      "metadata": {
        "id": "MfE1ru0AG3Hg"
      },
      "source": [
        "### Obteniendo $\\sigma_\\bar{x}$"
      ]
    },
    {
      "cell_type": "markdown",
      "source": [
        "La desviación estándar nos indica qué tanto varían los valores individuales (pesos de las bolsas) respecto a la media poblacional. En este caso, ya viene dada: 150 gramos."
      ],
      "metadata": {
        "id": "Jz5pwgHVf6__"
      }
    },
    {
      "cell_type": "code",
      "metadata": {
        "id": "LyQ6UUYtG3Hh",
        "colab": {
          "base_uri": "https://localhost:8080/"
        },
        "outputId": "b22e2d83-96b7-4a78-addb-8a63752ad863"
      },
      "source": [
        "# Se define la desviación estándar poblacional según el enunciado del ejercicio.\n",
        "desviacion_estandar = 150\n",
        "desviacion_estandar  # Resultado: 150"
      ],
      "execution_count": 575,
      "outputs": [
        {
          "output_type": "execute_result",
          "data": {
            "text/plain": [
              "150"
            ]
          },
          "metadata": {},
          "execution_count": 575
        }
      ]
    },
    {
      "cell_type": "markdown",
      "source": [
        "Se seleccionaron 20 bolsas al azar. Este número se usa para calcular el error estándar."
      ],
      "metadata": {
        "id": "_xC1BOVTgAjP"
      }
    },
    {
      "cell_type": "code",
      "metadata": {
        "id": "ebvikT95G3Hi",
        "colab": {
          "base_uri": "https://localhost:8080/"
        },
        "outputId": "338c2506-4767-4678-f5ef-5378b9b7fbc2"
      },
      "source": [
        "# Se define el tamaño de la muestra, que corresponde al número de bolsas seleccionadas.\n",
        "n = 20\n",
        "n  # Resultado: 20"
      ],
      "execution_count": 576,
      "outputs": [
        {
          "output_type": "execute_result",
          "data": {
            "text/plain": [
              "20"
            ]
          },
          "metadata": {},
          "execution_count": 576
        }
      ]
    },
    {
      "cell_type": "markdown",
      "source": [
        "El 95% de confianza indica que, si tomáramos muchas muestras, el 95% de los intervalos construidos incluirían la media poblacional real."
      ],
      "metadata": {
        "id": "Fl6KGc9NgCrO"
      }
    },
    {
      "cell_type": "code",
      "source": [
        "# Se declara nuevamente el nivel de confianza (95%) por si no se había definido anteriormente.\n",
        "confianza = 0.95\n",
        "confianza  # Resultado: 0.95"
      ],
      "metadata": {
        "colab": {
          "base_uri": "https://localhost:8080/"
        },
        "id": "o_H8mKBRfSZ2",
        "outputId": "231f6de2-ce01-44a4-a7f1-dc04c1b3fa8c"
      },
      "execution_count": 577,
      "outputs": [
        {
          "output_type": "execute_result",
          "data": {
            "text/plain": [
              "0.95"
            ]
          },
          "metadata": {},
          "execution_count": 577
        }
      ]
    },
    {
      "cell_type": "markdown",
      "source": [
        "Se usa esta raíz para obtener el error estándar (σₓ̄)."
      ],
      "metadata": {
        "id": "4l2oDe94hCfc"
      }
    },
    {
      "cell_type": "code",
      "metadata": {
        "id": "TxM3yTpjG3Hk",
        "colab": {
          "base_uri": "https://localhost:8080/"
        },
        "outputId": "00922457-23af-4442-bbc6-ea29d48c12fe"
      },
      "source": [
        "# Se calcula la raíz cuadrada del tamaño de la muestra.\n",
        "raiz_de_n = np.sqrt(n)\n",
        "raiz_de_n  # Resultado: 4.4721..."
      ],
      "execution_count": 578,
      "outputs": [
        {
          "output_type": "execute_result",
          "data": {
            "text/plain": [
              "np.float64(4.47213595499958)"
            ]
          },
          "metadata": {},
          "execution_count": 578
        }
      ]
    },
    {
      "cell_type": "markdown",
      "source": [
        "Este valor nos dice cuánto puede variar el promedio de los pesos de las muestras respecto a la media poblacional. Cuanto mayor n, menor el error estándar."
      ],
      "metadata": {
        "id": "ML5jD8yshQQX"
      }
    },
    {
      "cell_type": "code",
      "metadata": {
        "id": "HNAcOpl0G3Hl",
        "colab": {
          "base_uri": "https://localhost:8080/"
        },
        "outputId": "23155a88-a6a6-4d8b-a01c-3cc645bf2454"
      },
      "source": [
        "# Se calcula el error estándar de la media: cuánto tiende a variar el promedio de las muestras.\n",
        "sigma = desviacion_estandar / raiz_de_n\n",
        "sigma  # Resultado: 33.5410..."
      ],
      "execution_count": 579,
      "outputs": [
        {
          "output_type": "execute_result",
          "data": {
            "text/plain": [
              "np.float64(33.54101966249684)"
            ]
          },
          "metadata": {},
          "execution_count": 579
        }
      ]
    },
    {
      "cell_type": "markdown",
      "metadata": {
        "id": "NHbXlLk-G3Hn"
      },
      "source": [
        "### Obteniendo $e$"
      ]
    },
    {
      "cell_type": "markdown",
      "source": [
        "El margen de error indica cuánto puede alejarse la media muestral de la media poblacional.\n",
        "\n",
        "Con z≈1.96, se multiplica por el error estándar de la media para estimar el \"rango de confianza\"."
      ],
      "metadata": {
        "id": "J6f6MhT3hbzX"
      }
    },
    {
      "cell_type": "code",
      "metadata": {
        "id": "gAfakih5G3Ho",
        "colab": {
          "base_uri": "https://localhost:8080/"
        },
        "outputId": "42fb4919-5301-4a24-a368-5839bb7cd7dd"
      },
      "source": [
        "# Se calcula el margen de error (e) multiplicando el valor crítico Z por el error estándar.\n",
        "e = z * sigma\n",
        "e  # Resultado: 65.7391..."
      ],
      "execution_count": 580,
      "outputs": [
        {
          "output_type": "execute_result",
          "data": {
            "text/plain": [
              "np.float64(65.73919054324361)"
            ]
          },
          "metadata": {},
          "execution_count": 580
        }
      ]
    },
    {
      "cell_type": "markdown",
      "metadata": {
        "id": "sx1QTfNrG3Hq"
      },
      "source": [
        "### Solución 1 - Calculando el intervalo de confianza para la media\n",
        "---\n",
        "---\n",
        "Solución Manual (usando suma y resta)"
      ]
    },
    {
      "cell_type": "markdown",
      "source": [
        "Esto nos da el rango estimado donde probablemente esté el promedio real del lote de arroz, con un 95% de confianza."
      ],
      "metadata": {
        "id": "5FdBFZjbiRIn"
      }
    },
    {
      "cell_type": "code",
      "metadata": {
        "id": "NlJCcPZnG3Hq",
        "colab": {
          "base_uri": "https://localhost:8080/"
        },
        "outputId": "a835ee90-0227-4f2b-b38c-049587eea3e8"
      },
      "source": [
        "# Se construye el intervalo de confianza sumando y restando el margen de error a la media muestral.\n",
        "intervalo = (\n",
        "    media_muestra - e,\n",
        "    media_muestra + e\n",
        ")\n",
        "intervalo  # Resultado: (4984.26, 5115.73)"
      ],
      "execution_count": 581,
      "outputs": [
        {
          "output_type": "execute_result",
          "data": {
            "text/plain": [
              "(np.float64(4984.260809456757), np.float64(5115.739190543243))"
            ]
          },
          "metadata": {},
          "execution_count": 581
        }
      ]
    },
    {
      "cell_type": "markdown",
      "metadata": {
        "id": "DkFJL7fcG3Ht"
      },
      "source": [
        "### Solución 2 - Calculando el intervalo de confianza para la media\n",
        "---\n",
        "---\n",
        "Solución Automática con scipy"
      ]
    },
    {
      "cell_type": "markdown",
      "source": [
        "Esta función hace lo mismo que la solución manual, pero automáticamente.\n",
        "Usa los parámetros:\n",
        "\n",
        "* confidence: nivel de confianza (95%)\n",
        "\n",
        "* loc: media muestral\n",
        "\n",
        "* scale: sigma (error estándar)\n",
        "\n",
        "Nos devuelve el mismo resultado: un intervalo de confianza del 95%."
      ],
      "metadata": {
        "id": "NE5FRVoOijPO"
      }
    },
    {
      "cell_type": "code",
      "metadata": {
        "id": "U92vSYMkG3Hu",
        "colab": {
          "base_uri": "https://localhost:8080/"
        },
        "outputId": "35125079-60ff-4c22-d769-a438ca3cb3ca"
      },
      "source": [
        "# Se calcula el intervalo de confianza automáticamente usando la función de scipy.\n",
        "norm.interval(confidence = confianza, loc = media_muestra, scale = sigma)\n",
        "# Resultado: (4984.26, 5115.73)"
      ],
      "execution_count": 582,
      "outputs": [
        {
          "output_type": "execute_result",
          "data": {
            "text/plain": [
              "(np.float64(4984.260809456757), np.float64(5115.739190543243))"
            ]
          },
          "metadata": {},
          "execution_count": 582
        }
      ]
    },
    {
      "cell_type": "markdown",
      "source": [
        "**Ejercicio**"
      ],
      "metadata": {
        "id": "GgKcYjhpivSu"
      }
    },
    {
      "cell_type": "markdown",
      "source": [
        "Para estimar la cantidad media gastada por cada cliente de una gran cadena de comida rápida, se seleccionó una muestra de 50 clientes.\n",
        "\n",
        "Suponiendo que el valor de la desviación estándar de la población es de $ 6,00 y que esta población se distribuye normalmente, obtenga el margen de error de esta estimación para un nivel de confianza del 95%."
      ],
      "metadata": {
        "id": "XqN_4OcGi0-u"
      }
    },
    {
      "cell_type": "code",
      "source": [
        "from scipy.stats import norm\n",
        "import numpy as np\n",
        "\n",
        "# Se define el tamaño de la muestra: se seleccionaron 50 clientes\n",
        "n = 50\n",
        "\n",
        "# Se establece la desviación estándar de la población, que es de $6 según el enunciado\n",
        "desviacion_estandar = 6\n",
        "\n",
        "# Se define el nivel de confianza deseado: 95%\n",
        "confianza = 0.95\n",
        "\n",
        "# Se calcula el valor crítico Z, que delimita la región central del 95% de probabilidad bajo la curva normal\n",
        "# Esto equivale a buscar el punto z tal que el área acumulada a su izquierda sea 0.975 (0.5 + 0.95 / 2)\n",
        "z = norm.ppf(0.5 + (confianza / 2))\n",
        "\n",
        "# Se calcula la raíz cuadrada del tamaño de la muestra, necesaria para el error estándar\n",
        "raiz_de_n = np.sqrt(n)\n",
        "\n",
        "# Se calcula el error estándar dividiendo la desviación estándar por la raíz del tamaño de la muestra\n",
        "sigma = desviacion_estandar / raiz_de_n\n",
        "\n",
        "# Se calcula el margen de error multiplicando el valor Z por el error estándar\n",
        "e = z * sigma\n",
        "\n",
        "# Se imprime el margen de error, con una explicación clara del resultado\n",
        "print(f\"El margen de error para estimar la cantidad media gastada por cliente es de aproximadamente ${e:.2f}.\")\n",
        "print(f\"Con un nivel de confianza del 95%, la estimación puede variar en ±{e:.2f} dólares.\")\n",
        "z"
      ],
      "metadata": {
        "colab": {
          "base_uri": "https://localhost:8080/"
        },
        "id": "SG_dmLrJivZ1",
        "outputId": "f68d06cf-77c8-4142-a244-c21350c00ef5"
      },
      "execution_count": 583,
      "outputs": [
        {
          "output_type": "stream",
          "name": "stdout",
          "text": [
            "El margen de error para estimar la cantidad media gastada por cliente es de aproximadamente $1.66.\n",
            "Con un nivel de confianza del 95%, la estimación puede variar en ±1.66 dólares.\n"
          ]
        },
        {
          "output_type": "execute_result",
          "data": {
            "text/plain": [
              "np.float64(1.959963984540054)"
            ]
          },
          "metadata": {},
          "execution_count": 583
        }
      ]
    },
    {
      "cell_type": "markdown",
      "source": [
        "**Ejercicio 2**"
      ],
      "metadata": {
        "id": "QdBxFaj4mzjb"
      }
    },
    {
      "cell_type": "markdown",
      "source": [
        "Una muestra aleatoria simple de 1976 elementos de una población distribuida normalmente, con una desviación estándar de 11, dio como resultado una media muestral de 28.\n",
        "\n",
        "¿Cuál es el intervalo de confianza del 90% para la media de la población?"
      ],
      "metadata": {
        "id": "CHCxLgqvmzza"
      }
    },
    {
      "cell_type": "code",
      "source": [
        "from scipy.stats import norm\n",
        "import numpy as np\n",
        "\n",
        "# Tamaño de la muestra\n",
        "n = 1976\n",
        "\n",
        "# Nivel de confianza del 90%\n",
        "confianza = 0.9\n",
        "\n",
        "# Media muestral observada\n",
        "media_muestra = 28\n",
        "\n",
        "# Desviación estándar poblacional\n",
        "desviacion_estandar = 11\n",
        "\n",
        "# Raíz cuadrada de n\n",
        "raiz_de_n = np.sqrt(n)\n",
        "\n",
        "# Error estándar\n",
        "sigma = desviacion_estandar / raiz_de_n\n",
        "\n",
        "# Intervalo de confianza usando distribución normal\n",
        "intervalo = norm.interval(confidence = confianza, loc = media_muestra, scale = sigma)\n",
        "\n",
        "# Resultado final\n",
        "print(f\"Con un 90% de confianza, la media poblacional está entre {intervalo[0]:.2f} y {intervalo[1]:.2f}\")"
      ],
      "metadata": {
        "colab": {
          "base_uri": "https://localhost:8080/"
        },
        "id": "PN-S1EI0mz5t",
        "outputId": "3271fa74-116f-4020-c292-10161975f4a4"
      },
      "execution_count": 584,
      "outputs": [
        {
          "output_type": "stream",
          "name": "stdout",
          "text": [
            "Con un 90% de confianza, la media poblacional está entre 27.59 y 28.41\n"
          ]
        }
      ]
    },
    {
      "cell_type": "markdown",
      "metadata": {
        "id": "aF9jAC6yG3Gl"
      },
      "source": [
        "# <font color=green>5 CÁLCULO DEL TAMAÑO DE LA MUESTRA</font>\n",
        "***"
      ]
    },
    {
      "cell_type": "markdown",
      "metadata": {
        "id": "BwiygaNqnjrr"
      },
      "source": [
        "## <font color='red'>Problema </font>"
      ]
    },
    {
      "cell_type": "markdown",
      "metadata": {
        "id": "a7RjjVVUnlI3"
      },
      "source": [
        "Estamos estudiando los ingresos mensuales de los jefes de hogar con ingresos de hasta R$\\$$ 5.000,00 en Brasil. Nuestro supervisor determinó que el **error máximo en relación a la media es de R$\\$$ 10,00**. Sabemos que la **desviación estándar poblacional** de este grupo de trabajadores es **R$\\$$ 1.082,79**. Para un **nivel de confianza del 95%**, ¿cuál debería ser el tamaño de la muestra de nuestro estudio?"
      ]
    },
    {
      "cell_type": "markdown",
      "metadata": {
        "id": "za2sGJt6G3Gm"
      },
      "source": [
        "## <font color=green>5.1 Variables cuantitativas y población infinita</font>\n",
        "***"
      ]
    },
    {
      "cell_type": "markdown",
      "metadata": {
        "id": "3wqMjJWR5sVq"
      },
      "source": [
        "# $$e = z \\frac{\\sigma}{\\sqrt{n}}$$"
      ]
    },
    {
      "cell_type": "markdown",
      "metadata": {
        "id": "X1AxpKtIG3Gn"
      },
      "source": [
        "#### Con desviación estándar conocida\n",
        "\n",
        "## $$n = \\left(z\\frac{\\sigma}{e}\\right)^2$$\n",
        "\n",
        "#### Con desviación estándar desconocida\n",
        "\n",
        "## $$n = \\left(z\\frac{s}{e}\\right)^2$$\n",
        "\n",
        "Donde:\n",
        "\n",
        "$z$ = variable normal estandarizada\n",
        "\n",
        "$\\sigma$ = desviación estándar poblacional\n",
        "\n",
        "$s$ = desviación estándar de la muestra\n",
        "\n",
        "$e$ = error inferencial"
      ]
    },
    {
      "cell_type": "markdown",
      "metadata": {
        "id": "T0fysCyDG3Gn"
      },
      "source": [
        "### <font color='red'>Comentarios</font>\n",
        "\n",
        "1. La desviación estándar ($\\sigma$ o $s$) y el error ($e$) deben estar en la misma unidad de medida.\n",
        "\n",
        "2. Cuando el error ($e$) se representa en términos porcentuales, debe interpretarse como un porcentaje relacionado con el promedio."
      ]
    },
    {
      "cell_type": "markdown",
      "metadata": {
        "id": "WHYBTaupG3Gn"
      },
      "source": [
        "## <font color='blue'>Ejemplo: Rendimiento medio</font>"
      ]
    },
    {
      "cell_type": "markdown",
      "metadata": {
        "id": "dcdzo7EgG3Go"
      },
      "source": [
        "Estamos estudiando los ingresos mensuales de los jefes de hogar. Nuestro supervisor determinó que el **error máximo en relación a la media es de $\\$$ 100,00** pesos. Sabemos que la **desviación estándar poblacional** de este grupo de trabajadores es **$\\$$ 3.323,39** pesos. Para un **nivel de confianza del 95%**, ¿cuál debería ser el tamaño de la muestra de nuestro estudio?"
      ]
    },
    {
      "cell_type": "code",
      "source": [
        "# Nivel de confianza deseado (95%)\n",
        "confianza = 0.95\n",
        "confianza"
      ],
      "metadata": {
        "colab": {
          "base_uri": "https://localhost:8080/"
        },
        "id": "WzeuJ84L4x5F",
        "outputId": "f11d4fcd-1aef-4f35-f4e9-435e7b327d27"
      },
      "execution_count": 585,
      "outputs": [
        {
          "output_type": "execute_result",
          "data": {
            "text/plain": [
              "0.95"
            ]
          },
          "metadata": {},
          "execution_count": 585
        }
      ]
    },
    {
      "cell_type": "code",
      "source": [
        "# Se obtiene el valor crítico Z para el nivel de confianza dado\n",
        "z = 0.5 + (confianza / 2)\n",
        "z"
      ],
      "metadata": {
        "colab": {
          "base_uri": "https://localhost:8080/"
        },
        "id": "fz-IvhLo5NrE",
        "outputId": "8db346fe-cd44-4ddf-ed68-fb924f50f996"
      },
      "execution_count": 586,
      "outputs": [
        {
          "output_type": "execute_result",
          "data": {
            "text/plain": [
              "0.975"
            ]
          },
          "metadata": {},
          "execution_count": 586
        }
      ]
    },
    {
      "cell_type": "markdown",
      "metadata": {
        "id": "6uCkW4KlG3Gr"
      },
      "source": [
        "### Obteniendo $\\sigma$"
      ]
    },
    {
      "cell_type": "code",
      "metadata": {
        "id": "1RmtZfj-G3Gr",
        "colab": {
          "base_uri": "https://localhost:8080/"
        },
        "outputId": "f7b1803e-863c-4e04-f06f-8d068e1b405f"
      },
      "source": [
        "# Desviación estándar poblacional conocida (σ)\n",
        "sigma = 3323.39\n",
        "sigma"
      ],
      "execution_count": 587,
      "outputs": [
        {
          "output_type": "execute_result",
          "data": {
            "text/plain": [
              "3323.39"
            ]
          },
          "metadata": {},
          "execution_count": 587
        }
      ]
    },
    {
      "cell_type": "markdown",
      "metadata": {
        "id": "Cl39PIZ2G3Gt"
      },
      "source": [
        "### Obteniendo $e$"
      ]
    },
    {
      "cell_type": "code",
      "metadata": {
        "id": "NTRMt2gWG3Gt",
        "colab": {
          "base_uri": "https://localhost:8080/"
        },
        "outputId": "22cdb269-4096-4e52-9e22-e687d40a8f5a"
      },
      "source": [
        "# Margen de error máximo permitido en la estimación (e)\n",
        "e = 100\n",
        "e"
      ],
      "execution_count": 588,
      "outputs": [
        {
          "output_type": "execute_result",
          "data": {
            "text/plain": [
              "100"
            ]
          },
          "metadata": {},
          "execution_count": 588
        }
      ]
    },
    {
      "cell_type": "markdown",
      "metadata": {
        "id": "OlAX3Gj6G3Gv"
      },
      "source": [
        "### Obteniendo $n$"
      ]
    },
    {
      "cell_type": "code",
      "metadata": {
        "id": "0MjluwHPG3Gv",
        "scrolled": true,
        "colab": {
          "base_uri": "https://localhost:8080/"
        },
        "outputId": "309c4a74-7cff-45ee-9f58-bd980a42bbb9"
      },
      "source": [
        "# Se aplica la fórmula del tamaño de muestra: n = (z * (σ / e))²\n",
        "n = (z * (sigma/e)) ** 2\n",
        "# Se redondea al entero más cercano\n",
        "n = int(round(n))\n",
        "# Imprime el tamaño de muestra requerido con explicación\n",
        "print(f'Para estimar la media de ingresos con un margen de error máximo de ${e} y un nivel de confianza del {int(confianza*100)}%, se necesita una muestra de al menos {n} personas.')"
      ],
      "execution_count": 589,
      "outputs": [
        {
          "output_type": "stream",
          "name": "stdout",
          "text": [
            "Para estimar la media de ingresos con un margen de error máximo de $100 y un nivel de confianza del 95%, se necesita una muestra de al menos 1050 personas.\n"
          ]
        }
      ]
    },
    {
      "cell_type": "markdown",
      "source": [
        "**Ejercicio**"
      ],
      "metadata": {
        "id": "G6WdLvth6zwF"
      }
    },
    {
      "cell_type": "markdown",
      "source": [
        "El valor promedio gastado por los clientes en una tienda es de `$ 45.50`. Suponiendo que la desviación estándar de los gastos es de `$ 15.00`, ¿cuál debería ser el tamaño de la muestra para estimar la media de la población con un nivel de significancia del 10%?\n",
        "\n",
        "Tenga en cuenta que el error máximo aceptable es del 10%."
      ],
      "metadata": {
        "id": "fbA6Lsu060ED"
      }
    },
    {
      "cell_type": "code",
      "source": [
        "from scipy.stats import norm"
      ],
      "metadata": {
        "id": "1JIfRY7DAzNr"
      },
      "execution_count": 590,
      "outputs": []
    },
    {
      "cell_type": "code",
      "source": [
        "# Nivel de confianza: como la significancia es 10%, la confianza es 90%\n",
        "confianza = 1-0.1\n",
        "confianza"
      ],
      "metadata": {
        "colab": {
          "base_uri": "https://localhost:8080/"
        },
        "id": "4zrMpEqG8C-U",
        "outputId": "c4b83252-44b2-4c5d-a365-4b3b5e3bb34c"
      },
      "execution_count": 591,
      "outputs": [
        {
          "output_type": "execute_result",
          "data": {
            "text/plain": [
              "0.9"
            ]
          },
          "metadata": {},
          "execution_count": 591
        }
      ]
    },
    {
      "cell_type": "code",
      "source": [
        "# Desviación estándar de los gastos de los clientes\n",
        "sigma = 15.00\n",
        "sigma"
      ],
      "metadata": {
        "colab": {
          "base_uri": "https://localhost:8080/"
        },
        "id": "aBtS0c7A60JI",
        "outputId": "62ab1098-63d6-4e90-a007-e098e8c7944e"
      },
      "execution_count": 592,
      "outputs": [
        {
          "output_type": "execute_result",
          "data": {
            "text/plain": [
              "15.0"
            ]
          },
          "metadata": {},
          "execution_count": 592
        }
      ]
    },
    {
      "cell_type": "code",
      "source": [
        "# Media poblacional (solo para calcular el error permitido)\n",
        "promedio_gastado = 45.50\n",
        "promedio_gastado"
      ],
      "metadata": {
        "colab": {
          "base_uri": "https://localhost:8080/"
        },
        "id": "Rp5jRQ1LAI9a",
        "outputId": "b8c73efc-10fc-4a87-f635-5eba668016ff"
      },
      "execution_count": 593,
      "outputs": [
        {
          "output_type": "execute_result",
          "data": {
            "text/plain": [
              "45.5"
            ]
          },
          "metadata": {},
          "execution_count": 593
        }
      ]
    },
    {
      "cell_type": "code",
      "source": [
        "# Error máximo permitido: 10% de la media\n",
        "e = promedio_gastado * 0.1\n",
        "e"
      ],
      "metadata": {
        "colab": {
          "base_uri": "https://localhost:8080/"
        },
        "id": "1CIdiUbk9Xk8",
        "outputId": "588d2e37-7215-455d-90b6-909c0e966323"
      },
      "execution_count": 594,
      "outputs": [
        {
          "output_type": "execute_result",
          "data": {
            "text/plain": [
              "4.55"
            ]
          },
          "metadata": {},
          "execution_count": 594
        }
      ]
    },
    {
      "cell_type": "code",
      "source": [
        "# Valor crítico Z correspondiente al nivel de confianza (90%)\n",
        "z = norm.ppf(0.5 + (confianza / 2))\n",
        "z"
      ],
      "metadata": {
        "colab": {
          "base_uri": "https://localhost:8080/"
        },
        "id": "INrnGawu9Z9C",
        "outputId": "4d0f80d2-7a19-4c85-c0d6-4f8eb59d8e27"
      },
      "execution_count": 595,
      "outputs": [
        {
          "output_type": "execute_result",
          "data": {
            "text/plain": [
              "np.float64(1.6448536269514722)"
            ]
          },
          "metadata": {},
          "execution_count": 595
        }
      ]
    },
    {
      "cell_type": "code",
      "source": [
        "# Cálculo del tamaño de muestra necesario usando la fórmula:\n",
        "# n = (Z * σ / e)^2\n",
        "n = (z * (sigma/e)) ** 2\n",
        "\n",
        "# Redondeamos el tamaño de la muestra al entero más cercano\n",
        "n = int(n.round())\n",
        "\n",
        "# Mostramos el resultado con una explicación clara\n",
        "print(f'Para estimar la media poblacional con un {confianza*100:.0f}% de confianza y un error máximo del 10%, se necesita una muestra de al menos {n} personas.')"
      ],
      "metadata": {
        "colab": {
          "base_uri": "https://localhost:8080/"
        },
        "id": "2fzXWIrA9jtL",
        "outputId": "71d76822-7e2b-4b8d-da4f-5a52125804c5"
      },
      "execution_count": 596,
      "outputs": [
        {
          "output_type": "stream",
          "name": "stdout",
          "text": [
            "Para estimar la media poblacional con un 90% de confianza y un error máximo del 10%, se necesita una muestra de al menos 29 personas.\n"
          ]
        }
      ]
    },
    {
      "cell_type": "markdown",
      "metadata": {
        "id": "MjP0xsqyTyNO"
      },
      "source": [
        "---\n",
        "---"
      ]
    },
    {
      "cell_type": "markdown",
      "metadata": {
        "id": "dx2vyLC-TyNP"
      },
      "source": [
        "## <font color='red'>Problema</font>"
      ]
    },
    {
      "cell_type": "markdown",
      "metadata": {
        "id": "uzK2fAOFTyNP"
      },
      "source": [
        "En un lote de **10 000 latas** de gaseosa, se realizó una muestra aleatoria simple de **100 latas** y se obtuvo que la **desviación estándar muestral del contenido de las latas es igual a 12 ml**. El fabricante estipula un **error máximo en la media poblacional de solo 5 ml**. Para garantizar un **nivel de confianza del 95%**, ¿qué tamaño de muestra se debe seleccionar para este estudio?"
      ]
    },
    {
      "cell_type": "markdown",
      "metadata": {
        "id": "FlAz5kycTyNQ"
      },
      "source": [
        "## <font color=green>5.2 Variables cuantitativas y población finita</font>\n",
        "***"
      ]
    },
    {
      "cell_type": "markdown",
      "metadata": {
        "id": "UOe02McSTyNR"
      },
      "source": [
        "#### Con desviación estándar conocida\n",
        "\n",
        "## $$n = \\frac{z^2 \\sigma^2 N}{z^2 \\sigma^2 + e^2(N-1)}$$\n",
        "\n",
        "#### Con desviación estándar desconocida\n",
        "\n",
        "## $$n = \\frac{z^2 s^2 N}{z^2 s^2 + e^2(N-1)}$$\n",
        "\n",
        "Donde:\n",
        "\n",
        "$N$ = tamaño de la población\n",
        "\n",
        "$z$ = variable normal estandarizada\n",
        "\n",
        "$\\sigma$ = desviación estándar poblacional\n",
        "\n",
        "$s$ = desviación estándar muestral\n",
        "\n",
        "$e$ = error inferencial"
      ]
    },
    {
      "cell_type": "markdown",
      "metadata": {
        "id": "cUELtYTKTyNS"
      },
      "source": [
        "## <font color='blue'>Ejemplo: Industria de refrescos</font>"
      ]
    },
    {
      "cell_type": "markdown",
      "metadata": {
        "id": "upv1mM7fTyNS"
      },
      "source": [
        "En un lote de **10 000 latas** de gaseosa, se realizó una muestra aleatoria simple de **100 latas** y se obtuvo que la **desviación estándar muestral del contenido de las latas es igual a 12 ml**. El fabricante estipula un **error máximo en la media poblacional de solo 5 ml**. Para garantizar un **nivel de confianza del 95%**, ¿qué tamaño de muestra se debe seleccionar para este estudio?"
      ]
    },
    {
      "cell_type": "markdown",
      "metadata": {
        "id": "_y3-3VIBTyNS"
      },
      "source": [
        "### Obteniendo $N$"
      ]
    },
    {
      "cell_type": "code",
      "source": [
        "from scipy.stats import norm"
      ],
      "metadata": {
        "id": "AQ3iNbT-HDgS"
      },
      "execution_count": 597,
      "outputs": []
    },
    {
      "cell_type": "code",
      "metadata": {
        "id": "gXWn9zTETyNS",
        "colab": {
          "base_uri": "https://localhost:8080/"
        },
        "outputId": "daf30400-e881-4ad1-f10f-bfbb7802cbbc"
      },
      "source": [
        "# Tamaño de la población\n",
        "N = 10000 # Total de latas en el lote\n",
        "N"
      ],
      "execution_count": 598,
      "outputs": [
        {
          "output_type": "execute_result",
          "data": {
            "text/plain": [
              "10000"
            ]
          },
          "metadata": {},
          "execution_count": 598
        }
      ]
    },
    {
      "cell_type": "markdown",
      "metadata": {
        "id": "xCgZ1JSjTyNT"
      },
      "source": [
        "### Obteniendo $z$"
      ]
    },
    {
      "cell_type": "code",
      "source": [
        "# Nivel de confianza deseado\n",
        "confianza = 0.95\n",
        "confianza"
      ],
      "metadata": {
        "colab": {
          "base_uri": "https://localhost:8080/"
        },
        "id": "H-5wfXh0D3pd",
        "outputId": "d1fa86c7-7562-4eaf-b465-3292749bb4d2"
      },
      "execution_count": 599,
      "outputs": [
        {
          "output_type": "execute_result",
          "data": {
            "text/plain": [
              "0.95"
            ]
          },
          "metadata": {},
          "execution_count": 599
        }
      ]
    },
    {
      "cell_type": "code",
      "metadata": {
        "id": "ZUs9aYJRTyNT",
        "colab": {
          "base_uri": "https://localhost:8080/"
        },
        "outputId": "0e1f94b2-9628-43af-88e9-ad9b6d5dc41c"
      },
      "source": [
        "# Valor crítico Z correspondiente al nivel de confianza\n",
        "z = norm.ppf(0.5 +(confianza / 2)) # Esto da z ≈ 1.96\n",
        "z"
      ],
      "execution_count": 600,
      "outputs": [
        {
          "output_type": "execute_result",
          "data": {
            "text/plain": [
              "np.float64(1.959963984540054)"
            ]
          },
          "metadata": {},
          "execution_count": 600
        }
      ]
    },
    {
      "cell_type": "markdown",
      "metadata": {
        "id": "KCnigJd8TyNU"
      },
      "source": [
        "### Obteniendo $s$"
      ]
    },
    {
      "cell_type": "code",
      "metadata": {
        "id": "fKqFI_TZTyNU",
        "colab": {
          "base_uri": "https://localhost:8080/"
        },
        "outputId": "981edd0d-8c30-4290-b8f1-aadeefd022fa"
      },
      "source": [
        "# Desviación estándar muestral (estimación de la dispersión)\n",
        "s = 12 # ml\n",
        "s"
      ],
      "execution_count": 601,
      "outputs": [
        {
          "output_type": "execute_result",
          "data": {
            "text/plain": [
              "12"
            ]
          },
          "metadata": {},
          "execution_count": 601
        }
      ]
    },
    {
      "cell_type": "markdown",
      "metadata": {
        "id": "K9gDEIUdTyNX"
      },
      "source": [
        "### Obteniendo $e$"
      ]
    },
    {
      "cell_type": "code",
      "metadata": {
        "id": "hyhJ3MQKTyNX",
        "colab": {
          "base_uri": "https://localhost:8080/"
        },
        "outputId": "667e5c38-74f8-41cb-e28c-14e080a30bd6"
      },
      "source": [
        "# Error máximo permitido para la estimación de la media\n",
        "e = 5 # ml\n",
        "e"
      ],
      "execution_count": 602,
      "outputs": [
        {
          "output_type": "execute_result",
          "data": {
            "text/plain": [
              "5"
            ]
          },
          "metadata": {},
          "execution_count": 602
        }
      ]
    },
    {
      "cell_type": "markdown",
      "metadata": {
        "id": "Dsm3bg9gTyNX"
      },
      "source": [
        "### Obteniendo $n$\n",
        "\n",
        "## $$n = \\frac{z^2 s^2 N}{z^2 s^2 + e^2(N-1)}$$"
      ]
    },
    {
      "cell_type": "code",
      "metadata": {
        "id": "0XxWfaPdTyNY",
        "scrolled": true,
        "colab": {
          "base_uri": "https://localhost:8080/"
        },
        "outputId": "a99f3d62-6274-48e8-d27c-7e0258c361a6"
      },
      "source": [
        "# Fórmula para el tamaño de muestra con corrección para población finita:\n",
        "# n = [Z² * s² * N] / [Z² * s² + e² * (N - 1)]\n",
        "n = ((z**2)*(s**2)*(N)  / ((z**2)*(s**2)+(e**2)*(N-1)))\n",
        "\n",
        "# Redondeamos el tamaño de la muestra al número entero más cercano\n",
        "n = int(n.round())\n",
        "\n",
        "# Mostramos el resultado con una explicación\n",
        "print(f'Se debe seleccionar una muestra de aproximadamente ({n}) latas para estimar la media con un error máximo de {e} ml y un 95% de confianza.')"
      ],
      "execution_count": 603,
      "outputs": [
        {
          "output_type": "stream",
          "name": "stdout",
          "text": [
            "Se debe seleccionar una muestra de aproximadamente (22) latas para estimar la media con un error máximo de 5 ml y un 95% de confianza.\n"
          ]
        }
      ]
    },
    {
      "cell_type": "markdown",
      "source": [
        "**Ejercicio**"
      ],
      "metadata": {
        "id": "zrjHjBXCHogK"
      }
    },
    {
      "cell_type": "markdown",
      "source": [
        "* Un fabricante de harina encontró que, en una muestra aleatoria compuesta por 200 sacos de 25 kg de un lote compuesto por 2000 sacos, mostraba una desviación estándar muestral del peso igual a 480 g.\n",
        "\n",
        "* Considerando un error máximo asociado con el promedio poblacional de 0.3 kg y un nivel de confianza del 95%, ¿qué tamaño de muestra debe seleccionarse para obtener una estimación confiable del parámetro poblacional?"
      ],
      "metadata": {
        "id": "mWGH6OvWHorx"
      }
    },
    {
      "cell_type": "code",
      "source": [
        "from scipy.stats import norm"
      ],
      "metadata": {
        "id": "pe1R8-MqKLHg"
      },
      "execution_count": 604,
      "outputs": []
    },
    {
      "cell_type": "code",
      "source": [
        "# Nivel de confianza\n",
        "confianza = 0.95 # 95% de confianza\n",
        "confianza"
      ],
      "metadata": {
        "colab": {
          "base_uri": "https://localhost:8080/"
        },
        "id": "jdX8P9C0HowE",
        "outputId": "15724c9e-67b8-49e7-fc54-0f88537bea8a"
      },
      "execution_count": 605,
      "outputs": [
        {
          "output_type": "execute_result",
          "data": {
            "text/plain": [
              "0.95"
            ]
          },
          "metadata": {},
          "execution_count": 605
        }
      ]
    },
    {
      "cell_type": "code",
      "source": [
        "# Tamaño total de la población\n",
        "N = 2000 # Total de sacos en el lote\n",
        "N"
      ],
      "metadata": {
        "colab": {
          "base_uri": "https://localhost:8080/"
        },
        "id": "7d9p9j74ILqq",
        "outputId": "2c465a7e-3fb9-4cd4-deed-2bcb1d3b9a32"
      },
      "execution_count": 606,
      "outputs": [
        {
          "output_type": "execute_result",
          "data": {
            "text/plain": [
              "2000"
            ]
          },
          "metadata": {},
          "execution_count": 606
        }
      ]
    },
    {
      "cell_type": "code",
      "source": [
        "# Error máximo permitido en la media poblacional (convertido a gramos)\n",
        "e = 0.3 * 1000 # 0.3 kg = 300 g. Debe estar en la misma unidad que la desviación estándar\n",
        "e"
      ],
      "metadata": {
        "colab": {
          "base_uri": "https://localhost:8080/"
        },
        "id": "7t_la0bWH6-Z",
        "outputId": "ca99f4dd-5fcf-4a69-a2f3-05278763c856"
      },
      "execution_count": 607,
      "outputs": [
        {
          "output_type": "execute_result",
          "data": {
            "text/plain": [
              "300.0"
            ]
          },
          "metadata": {},
          "execution_count": 607
        }
      ]
    },
    {
      "cell_type": "code",
      "source": [
        "# Desviación estándar muestral (en gramos)\n",
        "s = 480 # g\n",
        "s"
      ],
      "metadata": {
        "colab": {
          "base_uri": "https://localhost:8080/"
        },
        "id": "wP8AAUSiH7HI",
        "outputId": "3aeb88e3-cc71-4c98-c026-1c50c3efa9b5"
      },
      "execution_count": 608,
      "outputs": [
        {
          "output_type": "execute_result",
          "data": {
            "text/plain": [
              "480"
            ]
          },
          "metadata": {},
          "execution_count": 608
        }
      ]
    },
    {
      "cell_type": "code",
      "source": [
        "# Valor Z correspondiente al nivel de confianza (Z ≈ 1.96 para 95%)\n",
        "z = norm.ppf(0.5 +(confianza / 2))\n",
        "z"
      ],
      "metadata": {
        "colab": {
          "base_uri": "https://localhost:8080/"
        },
        "id": "vjVnCNkNItSi",
        "outputId": "9a719ad0-605e-45d7-aa6d-124a145806e2"
      },
      "execution_count": 609,
      "outputs": [
        {
          "output_type": "execute_result",
          "data": {
            "text/plain": [
              "np.float64(1.959963984540054)"
            ]
          },
          "metadata": {},
          "execution_count": 609
        }
      ]
    },
    {
      "cell_type": "code",
      "source": [
        "# Cálculo del tamaño de muestra con corrección para población finita:\n",
        "# n = [Z² * s² * N] / [Z² * s² + e² * (N - 1)]\n",
        "n = ((z**2)*(s**2)*(N)  / ((z**2)*(s**2)+(e**2)*(N-1)))\n",
        "\n",
        "# Redondeo del resultado al entero más cercano\n",
        "n = int(n.round())\n",
        "\n",
        "# Resultado final\n",
        "print(f\"Para obtener una estimación confiable con un error máximo de 0.3 kg y un 95% de confianza,\\n\"\n",
        "      f\"Se deben seleccionar al menos ({n}) sacos para la muestra.\")"
      ],
      "metadata": {
        "colab": {
          "base_uri": "https://localhost:8080/"
        },
        "id": "b9nct5tIH7Kq",
        "outputId": "16bb4b76-7b79-481a-840c-cc16683e3376"
      },
      "execution_count": 610,
      "outputs": [
        {
          "output_type": "stream",
          "name": "stdout",
          "text": [
            "Para obtener una estimación confiable con un error máximo de 0.3 kg y un 95% de confianza,\n",
            "Se deben seleccionar al menos (10) sacos para la muestra.\n"
          ]
        }
      ]
    },
    {
      "cell_type": "markdown",
      "metadata": {
        "id": "XNH7CMglG3Hv"
      },
      "source": [
        "# <font color=green>6 FIJANDO EL CONTENIDO</font>\n",
        "***"
      ]
    },
    {
      "cell_type": "markdown",
      "metadata": {
        "id": "iRYqVAxuG3Hv"
      },
      "source": [
        "## <font color='blue'>Ejemplo: Rendimiento medio</font>"
      ]
    },
    {
      "cell_type": "markdown",
      "metadata": {
        "id": "ggloHI5sG3Hw"
      },
      "source": [
        "Estamos estudiando **los ingresos mensuales de los jefes de hogar con ingresos de hasta R$\\$$ 5.000,00 en Brasil**. Nuestro supervisor determinó que el **error máximo en relación a la media es de R$\\$$ 10,00**. Sabemos que la **desviación estándar poblacional** de este grupo de trabajadores es **R$\\$$ 1.082,79** y que la **media poblacional** es **R$\\$$ 1.426,54**. Para un **nivel de confianza del 95%**, ¿cuál debería ser el tamaño de la muestra de nuestro estudio? ¿Cuál es el intervalo de confianza para la media considerando el tamaño de muestra obtenido?"
      ]
    },
    {
      "cell_type": "markdown",
      "metadata": {
        "id": "JZDvLD-NG3Hw"
      },
      "source": [
        "### Construyendo el conjunto de datos según lo especificado por el problema"
      ]
    },
    {
      "cell_type": "code",
      "source": [
        "from scipy.stats import norm\n",
        "import numpy as np"
      ],
      "metadata": {
        "id": "maWXs1mz9eNf"
      },
      "execution_count": 611,
      "outputs": []
    },
    {
      "cell_type": "markdown",
      "source": [
        "* Se está filtrando el conjunto de datos original (datos) para quedarse solo con los ingresos que son menores o iguales a 5000.\n",
        "\n",
        "* Esto responde a la condición del problema: analizar solo los jefes de hogar con ingresos hasta R$ 5.000.\n",
        "\n",
        "* Se asume que la población es infinita porque no se considera un número total fijo de individuos."
      ],
      "metadata": {
        "id": "BLXmIX-7-kmR"
      }
    },
    {
      "cell_type": "code",
      "metadata": {
        "id": "qlnYQeaKG3Hw"
      },
      "source": [
        "# Como el tamaño de la muestra es tan grande, asumimos que la población es infinita\n",
        "ingresos_5000 = datos.query('Ingreso <= 5000').Ingreso"
      ],
      "execution_count": 612,
      "outputs": []
    },
    {
      "cell_type": "markdown",
      "source": [
        "* Se calculan dos parámetros estadísticos claves:\n",
        "\n",
        "* sigma: Desviación estándar poblacional del grupo seleccionado.\n",
        "\n",
        "* media: Media poblacional del mismo grupo.\n",
        "\n",
        "* Ambos se usarán más adelante para calcular el tamaño de la muestra y el intervalo de confianza."
      ],
      "metadata": {
        "id": "bKSMFyVB-pme"
      }
    },
    {
      "cell_type": "code",
      "metadata": {
        "id": "VKuxbygIG3Hy",
        "colab": {
          "base_uri": "https://localhost:8080/"
        },
        "outputId": "a30ee955-46f5-4e46-8318-cd10d9bfa703"
      },
      "source": [
        "# Calculamos la desviación estándar poblacional de los ingresos filtrados\n",
        "sigma = ingresos_5000.std()\n",
        "sigma"
      ],
      "execution_count": 613,
      "outputs": [
        {
          "output_type": "execute_result",
          "data": {
            "text/plain": [
              "1082.794549030635"
            ]
          },
          "metadata": {},
          "execution_count": 613
        }
      ]
    },
    {
      "cell_type": "code",
      "metadata": {
        "id": "Q2Ku3mVPG3Hz",
        "colab": {
          "base_uri": "https://localhost:8080/"
        },
        "outputId": "c3d1e2d8-e6b3-4e14-b696-a9868de2fcbf"
      },
      "source": [
        "# Calculamos la media poblacional de los ingresos filtrados\n",
        "media = ingresos_5000.mean()\n",
        "media"
      ],
      "execution_count": 614,
      "outputs": [
        {
          "output_type": "execute_result",
          "data": {
            "text/plain": [
              "np.float64(1426.5372144947232)"
            ]
          },
          "metadata": {},
          "execution_count": 614
        }
      ]
    },
    {
      "cell_type": "markdown",
      "metadata": {
        "id": "F33TdkXdG3H2"
      },
      "source": [
        "### Calcular el tamaño de la muestra"
      ]
    },
    {
      "cell_type": "markdown",
      "source": [
        "Se utiliza la fórmula del tamaño de muestra para poblaciones infinitas:\n",
        "\n",
        "**𝑛=(𝑧⋅𝜎/𝑒)^2**\n",
        "\n",
        "Donde:\n",
        "\n",
        "* `z` es el valor Z de la distribución normal para 95% de confianza.\n",
        "\n",
        "* `sigma` es la desviación estándar.\n",
        "\n",
        "* `e` es el error máximo permitido.\n",
        "\n",
        "* Finalmente se redondea el valor resultante con round() y se convierte a entero con int()."
      ],
      "metadata": {
        "id": "6oUb8ABV_JPf"
      }
    },
    {
      "cell_type": "code",
      "metadata": {
        "id": "sWIvnmygG3H2",
        "colab": {
          "base_uri": "https://localhost:8080/"
        },
        "outputId": "04ef6df6-f7f8-4b40-f327-0277a9fca717"
      },
      "source": [
        "# Calculamos el valor z asociado al 95% de confianza\n",
        "z = norm.ppf(0.5 + (0.95 / 2 )) # Resultado aproximado: 1.96\n",
        "\n",
        "# Definimos el error máximo permitido (en reales)\n",
        "e = 10\n",
        "\n",
        "# Aplicamos la fórmula para el cálculo del tamaño de muestra\n",
        "n = (z * (sigma / e)) ** 2\n",
        "\n",
        "# Redondeamos el resultado a entero\n",
        "n = int(n.round())\n",
        "\n",
        "# Mostramos el valor de n\n",
        "n"
      ],
      "execution_count": 615,
      "outputs": [
        {
          "output_type": "execute_result",
          "data": {
            "text/plain": [
              "45039"
            ]
          },
          "metadata": {},
          "execution_count": 615
        }
      ]
    },
    {
      "cell_type": "markdown",
      "metadata": {
        "id": "xRN_gmmLG3H6"
      },
      "source": [
        "### Calcular el intervalo de confianza para la media"
      ]
    },
    {
      "cell_type": "markdown",
      "source": [
        "* Se utiliza la función norm.interval() para calcular el intervalo de confianza al 95%.\n",
        "\n",
        "* El margen de error es calculado con la fórmula del error estándar:\n",
        " $$\\sigma_\\bar{x} = \\frac{\\sigma}{\\sqrt{n}}$$\n",
        "\n",
        "* El intervalo resultante nos dice que, con un 95% de confianza, la media poblacional se encuentra entre esos dos valores."
      ],
      "metadata": {
        "id": "eKs7WPyzAUdu"
      }
    },
    {
      "cell_type": "code",
      "metadata": {
        "id": "HoG6JKxxG3H6",
        "colab": {
          "base_uri": "https://localhost:8080/"
        },
        "outputId": "57474190-619b-489a-e690-b77443b82f9e"
      },
      "source": [
        "# Se calcula el intervalo de confianza para la media poblacional\n",
        "intervalo = norm.interval(\n",
        "    confidence=0.95,     # Nivel de confianza\n",
        "    loc=media,           # Media poblacional\n",
        "    scale=sigma / np.sqrt(n)  # Error estándar (σ / √n)\n",
        ")\n",
        "\n",
        "# El intervalo tiene esta forma: [media - margen, media + margen]\n",
        "# El intervalo de confianza = Media Muestral ± Error\n",
        "intervalo # el intervalo de confianza = Media Muestral ± Error"
      ],
      "execution_count": 616,
      "outputs": [
        {
          "output_type": "execute_result",
          "data": {
            "text/plain": [
              "(np.float64(1416.5372195108241), np.float64(1436.5372094786223))"
            ]
          },
          "metadata": {},
          "execution_count": 616
        }
      ]
    },
    {
      "cell_type": "markdown",
      "metadata": {
        "id": "xWAG8q8oG3H8"
      },
      "source": [
        "### Simulación gráfica para verificar el comportamiento de la media muestral"
      ]
    },
    {
      "cell_type": "markdown",
      "source": [
        "* Se generan 1.000 muestras aleatorias de tamaño n, calculando la media de cada una.\n",
        "\n",
        "* Luego se grafica cada media para observar su distribución.\n",
        "\n",
        "* Se añaden tres líneas horizontales:\n",
        "\n",
        "* La media real poblacional (línea negra punteada).\n",
        "\n",
        "* Los extremos del intervalo de confianza (líneas rojas punteadas).\n",
        "\n",
        "* El gráfico visualiza cuántas de esas medias simuladas caen dentro del intervalo, verificando empíricamente la confianza del 95%."
      ],
      "metadata": {
        "id": "zMkPgYgxC1at"
      }
    },
    {
      "cell_type": "code",
      "metadata": {
        "id": "pxjJyWnNG3H8",
        "colab": {
          "base_uri": "https://localhost:8080/",
          "height": 545
        },
        "outputId": "6e9a6764-e32e-462a-a160-ac3685c386ed"
      },
      "source": [
        "import matplotlib.pyplot as plt\n",
        "\n",
        "tamano_simulacion = 1000  # Número de muestras a generar\n",
        "\n",
        "# Creamos el conjunto de medias muestrales (1.000 simulaciones)\n",
        "medias = [ingresos_5000.sample(n=n).mean() for i in range(1, tamano_simulacion)]\n",
        "medias = pd.DataFrame(medias)  # Convertimos la lista en un DataFrame\n",
        "\n",
        "# Mostramos el gráfico\n",
        "ax = medias.plot(style='.')\n",
        "ax.figure.set_size_inches(12, 6)\n",
        "\n",
        "# Línea de la media poblacional\n",
        "ax.hlines(y=media, xmin=0, xmax=tamano_simulacion, colors='black', linestyles='--')\n",
        "\n",
        "# Líneas del intervalo de confianza\n",
        "ax.hlines(y=intervalo[0], xmin=0, xmax=tamano_simulacion, colors='red', linestyles='--')\n",
        "ax.hlines(y=intervalo[1], xmin=0, xmax=tamano_simulacion, colors='red', linestyles='--')\n"
      ],
      "execution_count": 617,
      "outputs": [
        {
          "output_type": "execute_result",
          "data": {
            "text/plain": [
              "<matplotlib.collections.LineCollection at 0x7febc907de10>"
            ]
          },
          "metadata": {},
          "execution_count": 617
        },
        {
          "output_type": "display_data",
          "data": {
            "text/plain": [
              "<Figure size 1200x600 with 1 Axes>"
            ],
            "image/png": "[encoded data removed]"
          },
          "metadata": {}
        }
      ]
    }
  ]
}